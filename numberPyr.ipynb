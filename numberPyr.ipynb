{
 "cells": [
  {
   "cell_type": "markdown",
   "metadata": {},
   "source": [
    "123456\n",
    "  23456\n",
    "    3456\n",
    "      456\n",
    "        56\n",
    "          6\n",
    "        56\n",
    "      456\n",
    "    3456\n",
    "  23456\n",
    "123456"
   ]
  },
  {
   "cell_type": "code",
   "execution_count": null,
   "metadata": {},
   "outputs": [],
   "source": [
    "n = 4\n",
    "for i in range(n , 0, -1):\n",
    "    for s in range(n - i):\n",
    "        print(\" \", end=\"\")\n",
    "    for j in range(1, i + 1 , 1):\n",
    "        print(n - i + j, end=\"\")\n",
    "        \n",
    "    \n",
    "    print()"
   ]
  },
  {
   "cell_type": "code",
   "execution_count": 59,
   "metadata": {},
   "outputs": [
    {
     "name": "stdout",
     "output_type": "stream",
     "text": [
      "1234\n",
      " 234\n",
      "  34\n",
      "   4\n",
      "  34\n",
      " 234\n",
      "1234\n"
     ]
    }
   ],
   "source": [
    "n = 4\n",
    "for i in range(n , 0, -1):\n",
    "    for s in range(n - i):\n",
    "        print(\" \", end=\"\")\n",
    "    for j in range(1, i + 1 , 1):\n",
    "        print(n - i + j, end=\"\")\n",
    "    print()\n",
    "    \n",
    "for i in range(2, n + 1 , 1):\n",
    "    for s in range(n - i, 0 , -1):\n",
    "        print(\" \", end=\"\")\n",
    "    for j in range(i,0, -1):\n",
    "        print(n -j +1 , end=\"\")\n",
    "    \n",
    "    print()"
   ]
  },
  {
   "cell_type": "code",
   "execution_count": null,
   "metadata": {},
   "outputs": [],
   "source": [
    "n = 4\n",
    "for i in range(1, n+ 1, 1):\n",
    "    for s in range(n - i, 0 , -1):\n",
    "        print(\".\", end=\"\")\n",
    "    for j in range(i, n+1):\n",
    "        print(n - j + i, end=\"\")\n",
    "        \n",
    "    print()"
   ]
  },
  {
   "cell_type": "code",
   "execution_count": 47,
   "metadata": {},
   "outputs": [
    {
     "name": "stdout",
     "output_type": "stream",
     "text": [
      "...1\n",
      "..21\n",
      ".321\n",
      "4321\n"
     ]
    }
   ],
   "source": [
    "n = 4\n",
    "for i in range(1, n+ 1, 1):\n",
    "    for s in range(n - i, 0 , -1):\n",
    "        print(\".\", end=\"\")\n",
    "    for j in range(1, i +1):\n",
    "        print(1 -j + i , end=\"\")\n",
    "        \n",
    "    print()"
   ]
  },
  {
   "cell_type": "code",
   "execution_count": 54,
   "metadata": {},
   "outputs": [
    {
     "name": "stdout",
     "output_type": "stream",
     "text": [
      "   4\n",
      "  34\n",
      " 234\n",
      "1234\n"
     ]
    }
   ],
   "source": [
    "n = 4\n",
    "for i in range(1, n+ 1, 1):\n",
    "    for s in range(n - i, 0 , -1):\n",
    "        print(\" \", end=\"\")\n",
    "    for j in range(i,0, -1):\n",
    "        print(n -j +1 , end=\"\")\n",
    "        \n",
    "    print()"
   ]
  }
 ],
 "metadata": {
  "kernelspec": {
   "display_name": "Python 3",
   "language": "python",
   "name": "python3"
  },
  "language_info": {
   "codemirror_mode": {
    "name": "ipython",
    "version": 3
   },
   "file_extension": ".py",
   "mimetype": "text/x-python",
   "name": "python",
   "nbconvert_exporter": "python",
   "pygments_lexer": "ipython3",
   "version": "3.10.11"
  }
 },
 "nbformat": 4,
 "nbformat_minor": 2
}
