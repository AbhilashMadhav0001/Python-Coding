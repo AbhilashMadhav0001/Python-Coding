{
 "cells": [
  {
   "cell_type": "code",
   "execution_count": 1,
   "metadata": {},
   "outputs": [
    {
     "data": {
      "text/plain": [
       "'lidaA ma I olleH'"
      ]
     },
     "execution_count": 1,
     "metadata": {},
     "output_type": "execute_result"
    }
   ],
   "source": [
    "def reverseEachWord(string) :\n",
    "    reverse = string[::-1]\n",
    "    return reverse\n",
    "\n",
    "string= \"Hello I am Aadil\"\n",
    "reverseEachWord(string)\n"
   ]
  },
  {
   "cell_type": "code",
   "execution_count": 21,
   "metadata": {},
   "outputs": [
    {
     "name": "stdout",
     "output_type": "stream",
     "text": [
      "a a\n",
      "b b\n",
      "c c\n",
      "d d\n",
      "e e\n",
      "0\n"
     ]
    }
   ],
   "source": [
    "def isPermutation(string1, string2):\n",
    "    for i in range(len(string1)):\n",
    "        for j in range(len(string2)):\n",
    "            flag = \"0\"\n",
    "            if string1[i] == string2[j]:\n",
    "                print(string1[i],  string2[j])\n",
    "                flag = \"1\"\n",
    "            \n",
    "    print(flag)\n",
    "\n",
    "\n",
    "string1= \"abcde\" \n",
    "string2 = \"baedc\"\n",
    "isPermutation(string1, string2)\n"
   ]
  },
  {
   "cell_type": "code",
   "execution_count": 41,
   "metadata": {},
   "outputs": [
    {
     "name": "stdout",
     "output_type": "stream",
     "text": [
      "false\n"
     ]
    }
   ],
   "source": [
    "def isPermutation(string1, string2):\n",
    "    for i in string1:\n",
    "        flag = \"0\"\n",
    "        if i not in string2:\n",
    "            flag = \"1\"\n",
    "            break\n",
    "\n",
    "    if flag == \"1\":\n",
    "        print(\"false\")\n",
    "    elif flag == \"0\":\n",
    "        print(\"true\")\n",
    "\n",
    "string1= \"abc\" \n",
    "string2 = \"cbd\"\n",
    "isPermutation(string1, string2)"
   ]
  }
 ],
 "metadata": {
  "kernelspec": {
   "display_name": "Python 3",
   "language": "python",
   "name": "python3"
  },
  "language_info": {
   "codemirror_mode": {
    "name": "ipython",
    "version": 3
   },
   "file_extension": ".py",
   "mimetype": "text/x-python",
   "name": "python",
   "nbconvert_exporter": "python",
   "pygments_lexer": "ipython3",
   "version": "3.10.11"
  }
 },
 "nbformat": 4,
 "nbformat_minor": 2
}
