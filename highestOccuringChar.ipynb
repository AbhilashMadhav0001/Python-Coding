{
 "cells": [
  {
   "cell_type": "markdown",
   "metadata": {},
   "source": [
    "### HIGHEST OCCURING CHARACTER"
   ]
  },
  {
   "cell_type": "code",
   "execution_count": 42,
   "metadata": {},
   "outputs": [
    {
     "data": {
      "text/plain": [
       "'b'"
      ]
     },
     "execution_count": 42,
     "metadata": {},
     "output_type": "execute_result"
    }
   ],
   "source": [
    "def highestOccuringChar(string) :\n",
    "    newstr = \"\"\n",
    "    highest = 0\n",
    "    higheststr =\"\"\n",
    "    i = 0\n",
    "    while i < len(string):\n",
    "        j = i + 1\n",
    "        count = 0\n",
    "        while j < len(string):\n",
    "            if string[i] == string[j] and string[i] not in newstr :\n",
    "                count += 1\n",
    "                \n",
    "            j = j + 1\n",
    "            \n",
    "        newstr += string[i]\n",
    "        \n",
    "        if count > highest:\n",
    "            highest = count\n",
    "            higheststr = string[i]\n",
    "            \n",
    "        i = i + 1\n",
    "    return higheststr\n",
    "    \n",
    "            \n",
    "    \n",
    "    \n",
    "string = \"aabbb\"\n",
    "highestOccuringChar(string)"
   ]
  },
  {
   "cell_type": "code",
   "execution_count": 50,
   "metadata": {},
   "outputs": [
    {
     "data": {
      "text/plain": [
       "-1"
      ]
     },
     "execution_count": 50,
     "metadata": {},
     "output_type": "execute_result"
    }
   ],
   "source": [
    "def highestOccuringChar(string) :\n",
    "    highest = 0\n",
    "    higheststr =\"\"\n",
    "    i = 0\n",
    "    if len(string) == 0:\n",
    "        return -1\n",
    "    while i < len(string):\n",
    "        j = i + 1\n",
    "        count = 0\n",
    "        while j < len(string):\n",
    "            if string[i] == string[j] :\n",
    "                count += 1\n",
    "                \n",
    "            j = j + 1\n",
    "        if count > highest:\n",
    "            highest = count\n",
    "            higheststr = string[i]\n",
    "     \n",
    "        i = i + 1\n",
    "    if highest == 0:\n",
    "        return string[0]\n",
    "    return higheststr\n",
    "    \n",
    "            \n",
    "    \n",
    "    \n",
    "string = \"\"\n",
    "highestOccuringChar(string)"
   ]
  },
  {
   "cell_type": "code",
   "execution_count": 14,
   "metadata": {},
   "outputs": [
    {
     "data": {
      "text/plain": [
       "'b'"
      ]
     },
     "execution_count": 14,
     "metadata": {},
     "output_type": "execute_result"
    }
   ],
   "source": [
    "def highestOccuringChar(string) :\n",
    "\t\tASCII_SIZE = 256\n",
    "\t\tchar = [0] * ASCII_SIZE\n",
    "\t\tcount = -1\n",
    "\t\tstrh = ''\n",
    "\t\tfor i in string:\n",
    "\t\t\tchar[ord(i)] += 1\n",
    "  \n",
    "\t\tfor i in string:\n",
    "\t\t\tif count < char[ord(i)]:\n",
    "\t\t\t\tcount = char[ord(i)]\n",
    "\t\t\t\tstrh = i\n",
    "    \n",
    "\t\treturn strh\n",
    "\n",
    "string = \"abdefgbabdfba\"\n",
    "highestOccuringChar(string)"
   ]
  },
  {
   "cell_type": "code",
   "execution_count": 59,
   "metadata": {},
   "outputs": [
    {
     "name": "stdout",
     "output_type": "stream",
     "text": [
      "1\n"
     ]
    }
   ],
   "source": [
    "ASCII_SIZE = 256\n",
    "ctr = [0] * ASCII_SIZE\n",
    "ctr[ord(\"a\")] += 1\n",
    "print(ctr[ord(\"a\")])"
   ]
  }
 ],
 "metadata": {
  "kernelspec": {
   "display_name": "Python 3",
   "language": "python",
   "name": "python3"
  },
  "language_info": {
   "codemirror_mode": {
    "name": "ipython",
    "version": 3
   },
   "file_extension": ".py",
   "mimetype": "text/x-python",
   "name": "python",
   "nbconvert_exporter": "python",
   "pygments_lexer": "ipython3",
   "version": "3.10.11"
  }
 },
 "nbformat": 4,
 "nbformat_minor": 2
}
