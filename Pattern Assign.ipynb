{
 "cells": [
  {
   "cell_type": "code",
   "execution_count": 104,
   "metadata": {},
   "outputs": [
    {
     "name": "stdout",
     "output_type": "stream",
     "text": [
      "   *\n",
      "   ***\n",
      "   *****\n",
      "   *******\n"
     ]
    }
   ],
   "source": [
    "n = int(input())\n",
    "i = 1\n",
    "while i <= n:\n",
    "    s = 1\n",
    "    while s <= n-1:\n",
    "        print(\" \", end= \"\")\n",
    "        s = s+ 1\n",
    "    j = 1\n",
    "    while j <= i:\n",
    "        print(\"*\", end =\"\")\n",
    "        j = j + 1\n",
    "    j = i - 1\n",
    "    while j >= 1:\n",
    "        print(\"*\", end = \"\")\n",
    "        j = j - 1\n",
    "    print()\n",
    "    i = i + 1"
   ]
  },
  {
   "cell_type": "code",
   "execution_count": 105,
   "metadata": {},
   "outputs": [
    {
     "name": "stdout",
     "output_type": "stream",
     "text": [
      "1      1\n",
      "12    12\n",
      "123  123\n",
      "12341234\n"
     ]
    }
   ],
   "source": [
    "n = 4\n",
    "i = 1\n",
    "while i <= n:\n",
    "    #part 1\n",
    "    j = 1\n",
    "    while j <=  i  :\n",
    "        print(j, end = \"\")\n",
    "        j = j + 1\n",
    "        \n",
    "    s = 1\n",
    "    while s <= n - i:\n",
    "        print(\" \", end= \"\")\n",
    "        s = s  + 1\n",
    "    #part 2\n",
    "    s = 1\n",
    "    while s <= n - i:\n",
    "        print(\" \", end= \"\")\n",
    "        s = s  + 1\n",
    "    j = 1\n",
    "    while j <= i  :\n",
    "        print(j, end =\"\")\n",
    "        j = j + 1\n",
    "    \n",
    "    print()\n",
    "    i = i + 1"
   ]
  },
  {
   "cell_type": "code",
   "execution_count": 106,
   "metadata": {},
   "outputs": [
    {
     "name": "stdout",
     "output_type": "stream",
     "text": [
      "1      1\n",
      "12    21\n",
      "123  321\n",
      "12344321\n"
     ]
    }
   ],
   "source": [
    "n = 4\n",
    "i = 1\n",
    "while i <= n:\n",
    "    #part 1\n",
    "    j = 1\n",
    "    while j <=  i  :\n",
    "        print(j, end = \"\")\n",
    "        j = j + 1\n",
    "        \n",
    "    s = 1\n",
    "    while s <= n - i:\n",
    "        print(\" \", end= \"\")\n",
    "        s = s  + 1\n",
    "    #part 2\n",
    "    s = 1\n",
    "    while s <= n - i:\n",
    "        print(\" \", end= \"\")\n",
    "        s = s  + 1\n",
    "    j = i\n",
    "    while j >= 1 :\n",
    "        print(j, end =\"\")\n",
    "        j = j - 1\n",
    "    \n",
    "    print()\n",
    "    i = i + 1"
   ]
  },
  {
   "cell_type": "code",
   "execution_count": 107,
   "metadata": {},
   "outputs": [
    {
     "name": "stdout",
     "output_type": "stream",
     "text": [
      "...*\n",
      "..**\n",
      ".***\n",
      "****\n"
     ]
    }
   ],
   "source": [
    "n = 4\n",
    "i = 1\n",
    "while i <= n:\n",
    "   s = 1\n",
    "   while s <= n - i:\n",
    "      print(\".\", end= \"\")\n",
    "      s = s  + 1\n",
    "   j = 1\n",
    "   while j <= i  :\n",
    "      print(\"*\", end =\"\")\n",
    "      j = j + 1\n",
    "   \n",
    "      \n",
    "   print()\n",
    "   i = i + 1"
   ]
  },
  {
   "cell_type": "code",
   "execution_count": 108,
   "metadata": {},
   "outputs": [
    {
     "name": "stdout",
     "output_type": "stream",
     "text": [
      "   1\n",
      "  21\n",
      " 321\n",
      "4321\n"
     ]
    }
   ],
   "source": [
    "n = 4\n",
    "i = 1\n",
    "while i <= n:\n",
    "   s = 1\n",
    "   while s <= n - i:\n",
    "      print(\" \", end= \"\")\n",
    "      s = s  + 1\n",
    "   j = i \n",
    "   while j >= 1  :\n",
    "      print(j, end =\"\")\n",
    "      j = j - 1\n",
    "   \n",
    "      \n",
    "   print()\n",
    "   i = i + 1"
   ]
  },
  {
   "cell_type": "code",
   "execution_count": 109,
   "metadata": {},
   "outputs": [],
   "source": [
    "n =int(input())\n",
    "i = 1\n",
    "while i <= n:\n",
    "    j = 1\n",
    "    while j <= n - i:\n",
    "        print(\" \",end = \"\")\n",
    "        j = j +1\n",
    "    j = i\n",
    "    while j >= 1:\n",
    "        print(\"*\", end=\"\")\n",
    "        j = j - 1\n",
    "    print()\n",
    "    i = i + 1\n"
   ]
  },
  {
   "cell_type": "code",
   "execution_count": null,
   "metadata": {},
   "outputs": [
    {
     "name": "stdout",
     "output_type": "stream",
     "text": [
      "****\n",
      "****\n",
      "****\n",
      "****\n"
     ]
    }
   ],
   "source": [
    "n = 4\n",
    "i = 1\n",
    "while n >= i:\n",
    "    j = 1\n",
    "    while n  >= j:\n",
    "        j = j +1\n",
    "        print(\"*\", end= \"\")\n",
    "    print()\n",
    "    i += 1"
   ]
  },
  {
   "cell_type": "code",
   "execution_count": null,
   "metadata": {},
   "outputs": [
    {
     "name": "stdout",
     "output_type": "stream",
     "text": [
      "*\n",
      "0\n",
      "00\n",
      "000\n"
     ]
    }
   ],
   "source": [
    "n =4\n",
    "i = 1\n",
    "while i <= n:\n",
    "    j = 1\n",
    "    while j  <=  i - 1 :\n",
    "        print(\"0\", end=\"\")\n",
    "        j = j + 1\n",
    "        \n",
    "    j = 1\n",
    "    while j + 1 <= n - i - 1:\n",
    "        print(\"*\",end = \"\")\n",
    "        j = j + 1\n",
    "   \n",
    "    print()\n",
    "    i = i + 1"
   ]
  },
  {
   "cell_type": "code",
   "execution_count": null,
   "metadata": {},
   "outputs": [
    {
     "name": "stdout",
     "output_type": "stream",
     "text": [
      "*****\n",
      "*000*\n",
      "*000*\n",
      "*000*\n",
      "*****\n"
     ]
    }
   ],
   "source": [
    "# Set the height and width of the letter\n",
    "height = 5\n",
    "width = 5\n",
    "\n",
    "# Create a nested loop to print the letter\n",
    "i = 0\n",
    "while i < height:\n",
    "    j = 0\n",
    "    while j < width:\n",
    "        # Print an asterisk if the current position is on the border of the letter\n",
    "        if i == 0 or i == height - 1 or j == 0 or j == width - 1:\n",
    "            print(\"*\", end=\"\")\n",
    "        # Otherwise, print a space\n",
    "        else:\n",
    "            print(\"0\", end=\"\")\n",
    "        j += 1\n",
    "    print()\n",
    "    i += 1"
   ]
  },
  {
   "cell_type": "code",
   "execution_count": null,
   "metadata": {},
   "outputs": [
    {
     "name": "stdout",
     "output_type": "stream",
     "text": [
      "*000*000*\n",
      "0*00*00*0\n",
      "00*0*0*00\n",
      "000***000\n"
     ]
    }
   ],
   "source": [
    "lines=4  \n",
    "i=1  \n",
    "j=1  \n",
    "while i<=lines:  #this loop is used to print lines  \n",
    "    j=1  \n",
    "    while j<=lines:      #this loop is used to print lines  \n",
    "        if i==j:  \n",
    "            print(\"*\", end='')  \n",
    "        else :  \n",
    "            print(\"0\", end='')  \n",
    "        j=j+1  \n",
    "        \n",
    "    j=j-1;  \n",
    "    print(\"*\", end='')  \n",
    "    while j>=1:  #this loop is used to print lines  \n",
    "        if i==j:  \n",
    "            print(\"*\", end='')  \n",
    "        else :  \n",
    "            print(\"0\", end='')  \n",
    "        j=j-1  \n",
    "    print(\"\");  \n",
    "    i=i+1 "
   ]
  },
  {
   "cell_type": "markdown",
   "metadata": {},
   "source": []
  },
  {
   "cell_type": "code",
   "execution_count": 20,
   "metadata": {},
   "outputs": [
    {
     "name": "stdout",
     "output_type": "stream",
     "text": [
      "   1\n",
      "  121\n",
      " 12312\n",
      "1234123\n"
     ]
    }
   ],
   "source": [
    "n = 4\n",
    "i = 1\n",
    "while i <= n:\n",
    "    j = 1\n",
    "    while j <= n - i:\n",
    "        print(\" \", end=\"\")\n",
    "        j = j + 1\n",
    "    j = 1\n",
    "    while j <= i:\n",
    "        print(j, end=\"\")\n",
    "        j = j + 1\n",
    "    j = 1\n",
    "    while j <= i - 1:\n",
    "        print(j, end=\"\")\n",
    "        j = j + 1\n",
    "        \n",
    "    print()\n",
    "    i = i + 1"
   ]
  },
  {
   "cell_type": "code",
   "execution_count": 9,
   "metadata": {},
   "outputs": [
    {
     "name": "stdout",
     "output_type": "stream",
     "text": [
      "   1\n",
      "  212\n",
      " 32123\n",
      "4321234\n"
     ]
    }
   ],
   "source": [
    "n = 4\n",
    "i = 1\n",
    "while i <= n:\n",
    "    j = 1\n",
    "    while j <= n - i:\n",
    "        print(\" \", end=\"\")\n",
    "        j = j + 1\n",
    "    j = 1\n",
    "    while j <= i:\n",
    "        print(i - j + 1, end=\"\")\n",
    "        j = j + 1\n",
    "    j = i - 1\n",
    "    while j >= 1:\n",
    "        print(i - j + 1, end=\"\")\n",
    "        j = j - 1\n",
    "        \n",
    "    print()\n",
    "    i = i + 1"
   ]
  }
 ],
 "metadata": {
  "kernelspec": {
   "display_name": "Python 3",
   "language": "python",
   "name": "python3"
  },
  "language_info": {
   "codemirror_mode": {
    "name": "ipython",
    "version": 3
   },
   "file_extension": ".py",
   "mimetype": "text/x-python",
   "name": "python",
   "nbconvert_exporter": "python",
   "pygments_lexer": "ipython3",
   "version": "3.10.11"
  }
 },
 "nbformat": 4,
 "nbformat_minor": 2
}
