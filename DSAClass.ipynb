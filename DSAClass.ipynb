{
 "cells": [
  {
   "cell_type": "code",
   "execution_count": 1,
   "metadata": {},
   "outputs": [
    {
     "name": "stdout",
     "output_type": "stream",
     "text": [
      "[5]\n"
     ]
    }
   ],
   "source": [
    "n=list(map(int, input(\"elements of array:-\").strip().split()))\n",
    "print(n)"
   ]
  },
  {
   "cell_type": "code",
   "execution_count": 2,
   "metadata": {},
   "outputs": [
    {
     "name": "stdout",
     "output_type": "stream",
     "text": [
      "abhi\n",
      "lash\n"
     ]
    }
   ],
   "source": [
    "print(\"abhi\")\n",
    "print(\"lash\")"
   ]
  },
  {
   "cell_type": "code",
   "execution_count": 3,
   "metadata": {},
   "outputs": [
    {
     "name": "stdout",
     "output_type": "stream",
     "text": [
      "3056487891472 3056487891472\n"
     ]
    }
   ],
   "source": [
    "a = 10\n",
    "id1 = id(a)\n",
    "b = a + 2-2\n",
    "id2 = id(b)\n",
    "print(id1, id2)"
   ]
  },
  {
   "cell_type": "code",
   "execution_count": 4,
   "metadata": {},
   "outputs": [
    {
     "name": "stdout",
     "output_type": "stream",
     "text": [
      "1 2 "
     ]
    }
   ],
   "source": [
    "i=1\n",
    "while i<5:\n",
    "    if i==3:\n",
    "        break\n",
    "    print(i,end=\" \")\n",
    "    i = i + 1"
   ]
  },
  {
   "cell_type": "code",
   "execution_count": 5,
   "metadata": {},
   "outputs": [
    {
     "name": "stdout",
     "output_type": "stream",
     "text": [
      "1 2 1 2 "
     ]
    }
   ],
   "source": [
    "i=1\n",
    "while i<3:\n",
    "    j=1\n",
    "    while j<5:\n",
    "        if j==3:\n",
    "            break\n",
    "        print(j,end=\" \")\n",
    "        j = j + 1\n",
    "    i = i + 1"
   ]
  },
  {
   "cell_type": "code",
   "execution_count": 6,
   "metadata": {},
   "outputs": [
    {
     "data": {
      "text/plain": [
       "0"
      ]
     },
     "execution_count": 6,
     "metadata": {},
     "output_type": "execute_result"
    }
   ],
   "source": [
    "2 * ( 3 // 4)"
   ]
  },
  {
   "cell_type": "code",
   "execution_count": 7,
   "metadata": {},
   "outputs": [
    {
     "data": {
      "text/plain": [
       "1"
      ]
     },
     "execution_count": 7,
     "metadata": {},
     "output_type": "execute_result"
    }
   ],
   "source": [
    "(2 * 3 ) // 4"
   ]
  },
  {
   "cell_type": "code",
   "execution_count": 8,
   "metadata": {},
   "outputs": [
    {
     "data": {
      "text/plain": [
       "1"
      ]
     },
     "execution_count": 8,
     "metadata": {},
     "output_type": "execute_result"
    }
   ],
   "source": [
    "2 * 3  // 4"
   ]
  },
  {
   "cell_type": "code",
   "execution_count": 9,
   "metadata": {},
   "outputs": [
    {
     "name": "stdout",
     "output_type": "stream",
     "text": [
      "1\n"
     ]
    }
   ],
   "source": [
    "print(17 // 10)"
   ]
  },
  {
   "cell_type": "code",
   "execution_count": 10,
   "metadata": {},
   "outputs": [
    {
     "name": "stdout",
     "output_type": "stream",
     "text": [
      "Hello\n",
      "Hi\n"
     ]
    }
   ],
   "source": [
    "x = 5\n",
    "if x < 6:\n",
    "    print(\"Hello\")\n",
    "if x == 5:\n",
    "    print(\"Hi\")\n",
    "else:\n",
    "    print(\"Hey\")"
   ]
  },
  {
   "cell_type": "code",
   "execution_count": 11,
   "metadata": {},
   "outputs": [
    {
     "name": "stdout",
     "output_type": "stream",
     "text": [
      "B\n"
     ]
    }
   ],
   "source": [
    "if (10 < 0) and (0 < -10):\n",
    "     print(\"A\")\n",
    "\n",
    "elif (10 > 0) or False:\n",
    "     print(\"B\")\n",
    "\n",
    "else:\n",
    "     print(\"C\")"
   ]
  },
  {
   "cell_type": "code",
   "execution_count": 12,
   "metadata": {},
   "outputs": [
    {
     "name": "stdout",
     "output_type": "stream",
     "text": [
      "B\n"
     ]
    }
   ],
   "source": [
    "if True or True:\n",
    "    if False and True or False:\n",
    "        print('A')\n",
    "    elif False and False or True and True:\n",
    "        print('B')\n",
    "    else:\n",
    "        print('C')\n",
    "else:\n",
    "    print('D')"
   ]
  },
  {
   "cell_type": "code",
   "execution_count": 13,
   "metadata": {},
   "outputs": [
    {
     "name": "stdout",
     "output_type": "stream",
     "text": [
      "-6\n"
     ]
    }
   ],
   "source": [
    "S = 20\n",
    "c =5/9 *(S - 32)\n",
    "print(int(c))"
   ]
  },
  {
   "cell_type": "code",
   "execution_count": null,
   "metadata": {},
   "outputs": [],
   "source": [
    "task = int(input())\n",
    "num1 =int(input()) \n",
    "num2 =int(input())\n",
    "\n",
    "while True:\n",
    "    if task == 1:\n",
    "        print(num1  + num2)\n",
    "    elif task == 2:\n",
    "        print(num1 - num2)\n",
    "    elif task == 3:\n",
    "        print( num1 * num2)\n",
    "    elif task == 4:\n",
    "        print(num1 /  num2)\n",
    "    elif task == 5:\n",
    "        print(num1 % num2)\n",
    "    elif task == 6:\n",
    "        break\n",
    "    else:\n",
    "        print(\"Invalid Operation\" )"
   ]
  },
  {
   "cell_type": "code",
   "execution_count": null,
   "metadata": {},
   "outputs": [
    {
     "name": "stdout",
     "output_type": "stream",
     "text": [
      "Product: 2\n",
      "Quotient: 2.0\n",
      "Sum: 10\n",
      "Exiting the calculator. Goodbye!\n"
     ]
    }
   ],
   "source": [
    "while True:\n",
    "    choice = int(input(\"Enter your choice (1-6): \"))\n",
    "    if choice == 1:\n",
    "        num1 =int(input()) \n",
    "        num2 =int(input())\n",
    "        print(f\"Sum: {num1 + num2}\")\n",
    "    elif choice == 2:\n",
    "        num1 =int(input()) \n",
    "        num2 =int(input())\n",
    "        print(f\"Difference: {num1 - num2}\")\n",
    "    elif choice == 3:\n",
    "        num1 =int(input()) \n",
    "        num2 =int(input())\n",
    "        print(f\"Product: {num1 * num2}\")\n",
    "    elif choice == 4:\n",
    "        num1 =int(input()) \n",
    "        num2 =int(input())\n",
    "        if num2 != 0:\n",
    "            print(f\"Quotient: {num1 / num2}\")\n",
    "        else:\n",
    "            print(\"Error: Cannot divide by zero.\")\n",
    "    elif choice == 5:\n",
    "        num1 =int(input()) \n",
    "        num2 =int(input())\n",
    "        print(f\"Remainder: {num1 % num2}\")\n",
    "    elif choice == 6:\n",
    "        print(\"Exiting the calculator. Goodbye!\")\n",
    "        break\n",
    "    else:\n",
    "        print(\"Invalid Operation\")\n",
    "    \n",
    "            \n",
    "        "
   ]
  },
  {
   "cell_type": "code",
   "execution_count": null,
   "metadata": {},
   "outputs": [],
   "source": [
    "\n",
    "while True:\n",
    "    task = int(input())\n",
    "    if task == 1:\n",
    "        num1 =int(input()) \n",
    "        num2 =int(input())\n",
    "        print(num1  + num2)\n",
    "    elif task == 2:\n",
    "        num1 =int(input()) \n",
    "        num2 =int(input())\n",
    "        print(num1 - num2)\n",
    "    elif task == 3:\n",
    "        num1 =int(input()) \n",
    "        num2 =int(input())\n",
    "        print( num1 * num2)\n",
    "    elif task == 4:\n",
    "        num1 =int(input()) \n",
    "        num2 =int(input())\n",
    "        print(int(num1 /  num2))\n",
    "    elif task == 5:\n",
    "        num1 =int(input()) \n",
    "        num2 =int(input())\n",
    "        print(num1 % num2)\n",
    "    elif task == 6:\n",
    "        break\n",
    "    else:\n",
    "        print(\"Invalid Operation\" )"
   ]
  },
  {
   "cell_type": "code",
   "execution_count": null,
   "metadata": {},
   "outputs": [
    {
     "name": "stdout",
     "output_type": "stream",
     "text": [
      "4\n",
      "8\n",
      "0\n",
      "Invalid Operation\n"
     ]
    }
   ],
   "source": [
    "while True:\n",
    "    task = int(input())\n",
    "    if task == 1:\n",
    "        num1 =int(input()) \n",
    "        num2 =int(input())\n",
    "        print(num1  + num2)\n",
    "\n",
    "    elif task == 2:\n",
    "        num1 =int(input()) \n",
    "        num2 =int(input())\n",
    "        print(num1 - num2)\n",
    "\n",
    "    elif task == 3:\n",
    "        num1 =int(input()) \n",
    "        num2 =int(input())\n",
    "        print( num1 * num2)\n",
    "\n",
    "    elif task == 4:\n",
    "        num1 =int(input()) \n",
    "        num2 =int(input())\n",
    "        if num2 != 0:\n",
    "            print(int( num1 / num2))\n",
    "        else:\n",
    "            print(\"Error: Cannot divide by zero.\")\n",
    "\n",
    "    elif task == 5:\n",
    "        num1 =int(input()) \n",
    "        num2 =int(input())\n",
    "        print(num1 % num2)\n",
    "\n",
    "    elif task == 6:\n",
    "        print(\"Exit\")\n",
    "        break\n",
    "    else:\n",
    "        print(\"Invalid Operation\" )\n",
    "        break"
   ]
  },
  {
   "cell_type": "markdown",
   "metadata": {},
   "source": [
    "### Palindrome"
   ]
  },
  {
   "cell_type": "code",
   "execution_count": null,
   "metadata": {},
   "outputs": [
    {
     "name": "stdout",
     "output_type": "stream",
     "text": [
      "False\n"
     ]
    }
   ],
   "source": [
    "n = input()\n",
    "i = 0\n",
    "flag = False\n",
    "while len(n) > i:\n",
    "    if n[i] == n[len(n) - 1 - i]:\n",
    "        flag = True\n",
    "    i = i + 1\n",
    "    \n",
    "    \n",
    "print(flag)"
   ]
  },
  {
   "cell_type": "code",
   "execution_count": null,
   "metadata": {},
   "outputs": [
    {
     "name": "stdout",
     "output_type": "stream",
     "text": [
      "t 4\n",
      "i 0\n",
      "t 3\n",
      "i 1\n",
      "t 2\n",
      "i 2\n",
      "t 1\n",
      "i 3\n",
      "t 0\n",
      "i 4\n",
      "true\n"
     ]
    }
   ],
   "source": [
    "n=int(input())  \n",
    "# taking n as a input \n",
    "## write your code !!\n",
    "i = 0\n",
    "n = str(n)\n",
    "\n",
    "while len(n) > i :\n",
    "    flag = \"false\"\n",
    "    temp =len(n) - 1 - i\n",
    "    print(\"t\",temp)\n",
    "    if n[i] == n[temp]:\n",
    "        print(\"i\",i)\n",
    "        flag = \"true\"\n",
    "    i = i + 1\n",
    "\n",
    "     \n",
    "print(flag)"
   ]
  },
  {
   "cell_type": "code",
   "execution_count": null,
   "metadata": {},
   "outputs": [],
   "source": [
    "n= int(input())\n",
    "n = str(n)\n",
    "i =0\n",
    "sumEven = sumOdd = x = 0\n",
    "print(i)\n",
    "while len(n) > i:\n",
    "    n = int(n)\n",
    "    if n[i] % 2 == 0:\n",
    "        print(n[i])\n",
    "        sumEven += n[i]\n",
    "    else :\n",
    "        sumOdd += n[i]\n",
    "\n",
    "    i = i + 1\n",
    "print(sumEven, \" \",sumOdd )"
   ]
  },
  {
   "cell_type": "code",
   "execution_count": null,
   "metadata": {},
   "outputs": [],
   "source": [
    "n= int(input())\n",
    "x = len(str(n))\n",
    "print(x)\n",
    "i = 0\n",
    "while x > i :\n",
    "    \n",
    "    print(t)\n",
    "    print(i)\n",
    "    i += 1"
   ]
  },
  {
   "cell_type": "code",
   "execution_count": null,
   "metadata": {},
   "outputs": [
    {
     "name": "stdout",
     "output_type": "stream",
     "text": [
      "digit 6\n",
      "n 12345\n",
      "digit 5\n",
      "n 1234\n",
      "digit 4\n",
      "n 123\n",
      "digit 3\n",
      "n 12\n",
      "digit 2\n",
      "n 1\n",
      "digit 1\n",
      "n 0\n",
      "12   9\n"
     ]
    }
   ],
   "source": [
    "n = int(input())\n",
    "digit = 0\n",
    "sumEven = sumOdd = 0\n",
    "while n > 0 :\n",
    "    digit = n % 10\n",
    "    print(\"digit\" , digit)\n",
    "    n = n// 10\n",
    "    print(\"n\", n)\n",
    "    if (digit % 2 != 0):\n",
    "        sumOdd += digit\n",
    "    else:\n",
    "        sumEven += digit\n",
    "\n",
    "print(sumEven, \" \", sumOdd)\n",
    "    "
   ]
  },
  {
   "cell_type": "code",
   "execution_count": null,
   "metadata": {},
   "outputs": [
    {
     "name": "stdout",
     "output_type": "stream",
     "text": [
      "6\n"
     ]
    }
   ],
   "source": [
    "digit = 123456 % 10\n",
    "print(digit)"
   ]
  },
  {
   "cell_type": "code",
   "execution_count": null,
   "metadata": {},
   "outputs": [
    {
     "data": {
      "text/plain": [
       "12345"
      ]
     },
     "execution_count": 11,
     "metadata": {},
     "output_type": "execute_result"
    }
   ],
   "source": [
    "123456 // 10"
   ]
  },
  {
   "cell_type": "code",
   "execution_count": null,
   "metadata": {},
   "outputs": [
    {
     "name": "stdout",
     "output_type": "stream",
     "text": [
      "123\n",
      "digit 3\n",
      "n 12\n",
      "12\n",
      "digit 2\n",
      "n 1\n",
      "1\n",
      "digit 1\n",
      "n 0\n"
     ]
    }
   ],
   "source": [
    "n=int(input())\n",
    "while n > 0:\n",
    "    print(n)\n",
    "    digit = n % 10\n",
    "    print(\"digit\" , digit)\n",
    "    n = n // 10\n",
    "    print(\"n\", n)"
   ]
  }
 ],
 "metadata": {
  "kernelspec": {
   "display_name": "Python 3",
   "language": "python",
   "name": "python3"
  },
  "language_info": {
   "codemirror_mode": {
    "name": "ipython",
    "version": 3
   },
   "file_extension": ".py",
   "mimetype": "text/x-python",
   "name": "python",
   "nbconvert_exporter": "python",
   "pygments_lexer": "ipython3",
   "version": "3.10.11"
  }
 },
 "nbformat": 4,
 "nbformat_minor": 2
}
