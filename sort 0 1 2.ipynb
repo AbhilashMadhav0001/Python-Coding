{
 "cells": [
  {
   "cell_type": "markdown",
   "metadata": {},
   "source": [
    "### SORT 0 1 2"
   ]
  },
  {
   "cell_type": "code",
   "execution_count": 1,
   "metadata": {},
   "outputs": [
    {
     "data": {
      "text/plain": [
       "[0, 0, 0, 1, 1, 2, 2]"
      ]
     },
     "execution_count": 1,
     "metadata": {},
     "output_type": "execute_result"
    }
   ],
   "source": [
    "def sort012(arr, n) :\n",
    "    nextZero = 0\n",
    "    nextTwo = (n - 1)\n",
    "    i = 0\n",
    "    while i <= nextTwo:\n",
    "        if arr[i] == 0:\n",
    "            arr[nextZero], arr[i] = arr[i], arr[nextZero]\n",
    "            i += 1\n",
    "            nextZero += 1\n",
    "\n",
    "        elif arr[i] == 2:\n",
    "            arr[nextTwo], arr[i] = arr[i], arr[nextTwo]\n",
    "            nextTwo -= 1\n",
    "    \n",
    "        else:\n",
    "            i += 1\n",
    "    \n",
    "    \n",
    "    \n",
    "    return arr\n",
    "    \n",
    "n = 7\n",
    "arr = [0, 1, 2, 0, 2, 0, 1]\n",
    "sort012(arr, n)"
   ]
  },
  {
   "cell_type": "markdown",
   "metadata": {},
   "source": [
    "### SUM OF TWO ARRAYS"
   ]
  },
  {
   "cell_type": "code",
   "execution_count": 2,
   "metadata": {},
   "outputs": [
    {
     "data": {
      "text/plain": [
       "[1, 3, 8, 0]"
      ]
     },
     "execution_count": 2,
     "metadata": {},
     "output_type": "execute_result"
    }
   ],
   "source": [
    "def sumOfTwoArrays(arr1, n, arr2, m, output) :\n",
    "    carry = 0\n",
    "    i = n - 1\n",
    "    j = m - 1\n",
    "    l = max(n, m) + 1\n",
    "    while i >=0 and j >= 0:\n",
    "        sum = arr1[i] + arr2[j] + carry\n",
    "        rem = sum // 10\n",
    "        units = sum % 10\n",
    "        \n",
    "        output[l - 1] = units\n",
    "        carry = rem\n",
    "\n",
    "        l = l - 1\n",
    "        i = i - 1\n",
    "        j = j - 1\n",
    "        \n",
    "    while i >= 0:\n",
    "        sum = arr1[i] + carry\n",
    "        rem = sum // 10\n",
    "        units = sum % 10\n",
    "        \n",
    "        output[l - 1] = units\n",
    "        carry = rem        \n",
    "        \n",
    "        l = l - 1\n",
    "        i = i - 1\n",
    "        \n",
    "    while j >= 0:\n",
    "        sum = arr2[j] + carry\n",
    "        rem = sum // 10\n",
    "        units = sum % 10\n",
    "        \n",
    "        output[l - 1] = units\n",
    "        carry = rem        \n",
    "        \n",
    "        l = l - 1\n",
    "        j = j - 1\n",
    "        \n",
    "        \n",
    "    if carry != 0:\n",
    "        output[0] = carry\n",
    "        \n",
    "    return output\n",
    "        \n",
    "        \n",
    "n = 3\n",
    "arr1 = [6, 2, 4]\n",
    "m = 3\n",
    "arr2 = [7, 5, 6]\n",
    "outputSize = (1 + max(n, m))\n",
    "output = outputSize * [0]\n",
    "sumOfTwoArrays(arr1, n, arr2, m, output)"
   ]
  },
  {
   "cell_type": "code",
   "execution_count": 3,
   "metadata": {},
   "outputs": [
    {
     "data": {
      "text/plain": [
       "[1, 3, 8, 0]"
      ]
     },
     "execution_count": 3,
     "metadata": {},
     "output_type": "execute_result"
    }
   ],
   "source": [
    "def sumOfTwoArrays(arr1, n, arr2, m, output) :\n",
    "    #Your code goes here\n",
    "    i = n-1\n",
    "    j = m-1\n",
    "    carry = 0\n",
    "    l = max(n, m)+1\n",
    "    while i >= 0 and j >= 0:\n",
    "        num = arr1[i]+arr2[j]+carry\n",
    "        s = num % 10\n",
    "        carry = num//10\n",
    "        output[l-1] = s\n",
    "        l = l-1\n",
    "        i = i-1\n",
    "        j = j-1\n",
    "    while i >= 0:\n",
    "        num = arr1[i]+carry\n",
    "        s = num % 10\n",
    "        carry = num//10\n",
    "        output[l-1] = s\n",
    "        l = l-1\n",
    "        i = i-1\n",
    "    while j >= 0:\n",
    "        num = arr2[j]+carry\n",
    "        s = num % 10\n",
    "        carry = num//10\n",
    "        output[l-1] = s\n",
    "        l = l-1\n",
    "        j = j-1\n",
    "    if carry != 0:\n",
    "        output[0] = carry\n",
    "        \n",
    "    return output\n",
    "        \n",
    "n = 3\n",
    "arr1 = [6, 2, 4]\n",
    "m = 3\n",
    "arr2 = [7, 5, 6]\n",
    "outputSize = (1 + max(n, m))\n",
    "output = outputSize * [0]\n",
    "sumOfTwoArrays(arr1, n, arr2, m, output)"
   ]
  }
 ],
 "metadata": {
  "kernelspec": {
   "display_name": "Python 3",
   "language": "python",
   "name": "python3"
  },
  "language_info": {
   "codemirror_mode": {
    "name": "ipython",
    "version": 3
   },
   "file_extension": ".py",
   "mimetype": "text/x-python",
   "name": "python",
   "nbconvert_exporter": "python",
   "pygments_lexer": "ipython3",
   "version": "3.10.11"
  }
 },
 "nbformat": 4,
 "nbformat_minor": 2
}
