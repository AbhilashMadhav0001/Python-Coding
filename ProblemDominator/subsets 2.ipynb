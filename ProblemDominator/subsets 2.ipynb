{
 "cells": [
  {
   "cell_type": "markdown",
   "metadata": {},
   "source": [
    "### SUBSETS ||"
   ]
  },
  {
   "cell_type": "markdown",
   "metadata": {},
   "source": [
    "Ninja is observing an array of ‘N’ numbers and wants to make as many unique subsets as possible. Can you help the Ninja to find all the unique subsets?\n",
    "\n",
    "Note: Two subsets are called same if they have same set of elements.For example {3,4,1} and {1,4,3} are not unique subsets.\n",
    "\n",
    "You are given an array ‘ARR’ having N elements. Your task is to print all unique subsets.\n",
    "\n",
    "For Example\n",
    "For the given if ARR = [1,1,3],the answer will be [ ],[1],[1,1],[1,3],[3],[1,1,3]."
   ]
  },
  {
   "cell_type": "code",
   "execution_count": 5,
   "metadata": {},
   "outputs": [
    {
     "data": {
      "text/plain": [
       "[[], [1], [1, 1], [3], [1, 3], [1, 1, 3]]"
      ]
     },
     "execution_count": 5,
     "metadata": {},
     "output_type": "execute_result"
    }
   ],
   "source": [
    "def uniqueSubsets(n ,arr):\n",
    "    subsets = []\n",
    "    arr = sorted(arr)\n",
    "    # Trying all subsets.\n",
    "\n",
    "    for mask in range(0 ,2**n ):\n",
    "        cur = []\n",
    "        unique = True\n",
    "\n",
    "        for i in range(n):\n",
    "            if ( mask & ( 1 << i )) == 0:\n",
    "                # Bit not set.\n",
    "                continue\n",
    "\n",
    "            if i > 0 and arr[i] == arr[ i - 1] and mask & ( 1<< ( i - 1 )) == 0 :\n",
    "                unique = False\n",
    "\n",
    "            if unique == False :\n",
    "                break\n",
    "            # Inserting arr[i] to current subset.\n",
    "            cur.append(arr[i])\n",
    "\n",
    "        if unique:\n",
    "            subsets.append(cur)\n",
    "\n",
    "    return subsets\n",
    "\n",
    "arr = [1,1,3]\n",
    "n = 3\n",
    "uniqueSubsets(n ,arr)"
   ]
  }
 ],
 "metadata": {
  "kernelspec": {
   "display_name": "Python 3",
   "language": "python",
   "name": "python3"
  },
  "language_info": {
   "codemirror_mode": {
    "name": "ipython",
    "version": 3
   },
   "file_extension": ".py",
   "mimetype": "text/x-python",
   "name": "python",
   "nbconvert_exporter": "python",
   "pygments_lexer": "ipython3",
   "version": "3.10.11"
  }
 },
 "nbformat": 4,
 "nbformat_minor": 2
}
