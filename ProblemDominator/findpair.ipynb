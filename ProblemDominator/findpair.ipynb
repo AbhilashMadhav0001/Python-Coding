{
 "cells": [
  {
   "cell_type": "markdown",
   "metadata": {},
   "source": [
    "### FIND PAIR"
   ]
  },
  {
   "cell_type": "markdown",
   "metadata": {},
   "source": [
    "Bob likes mathematics. So, he gave you the task of finding the two numbers whose sum is 'X' and the difference is 'Y'.\n",
    "\n",
    "Return a vector of size 2 containing the values of the two numbers specified above in any order if it is possible to get the two numbers else return [-1, -1].\n",
    "\n",
    "For example:\n",
    "Let 'X' = 8, 'Y' = 4.\n",
    "So, the numbers can be 6 and 2 as their sum is 8 and their difference is 4."
   ]
  },
  {
   "cell_type": "code",
   "execution_count": 34,
   "metadata": {},
   "outputs": [
    {
     "data": {
      "text/plain": [
       "[-1, -1]"
      ]
     },
     "execution_count": 34,
     "metadata": {},
     "output_type": "execute_result"
    }
   ],
   "source": [
    "def findPair(x, y):\n",
    "    n = max(x, y)\n",
    "    for i in range(n):\n",
    "        for j in range(i, n):\n",
    "            if i + j == x and abs(i - j) == y:\n",
    "                return [i , j]\n",
    "            else:\n",
    "                return [-1 ,-1]\n",
    "    \n",
    "x = 5\n",
    "y = 2\n",
    "\n",
    "findPair(x, y)"
   ]
  },
  {
   "cell_type": "code",
   "execution_count": 37,
   "metadata": {},
   "outputs": [
    {
     "data": {
      "text/plain": [
       "[3, 1]"
      ]
     },
     "execution_count": 37,
     "metadata": {},
     "output_type": "execute_result"
    }
   ],
   "source": [
    "def findPair(x, y):\n",
    "    if y % 2 != 0:\n",
    "        return [-1, -1]\n",
    "    num1 = (x + y) // 2\n",
    "    num2 = (x - y) // 2\n",
    "    return [num1, num2]\n",
    "    \n",
    "x = 5\n",
    "y = 2\n",
    "\n",
    "findPair(x, y)"
   ]
  },
  {
   "cell_type": "code",
   "execution_count": 35,
   "metadata": {},
   "outputs": [
    {
     "name": "stdout",
     "output_type": "stream",
     "text": [
      "[3, 1]\n"
     ]
    }
   ],
   "source": [
    "def find_numbers(x, y):\n",
    "  # Check if it's possible to find the numbers by checking if the difference is even.\n",
    "  if y % 2 != 0:\n",
    "    return [-1, -1]\n",
    "\n",
    "  # Calculate the first number by adding half of the difference to the sum and dividing by 2.\n",
    "  num1 = (x + y) // 2\n",
    "\n",
    "  # Calculate the second number by subtracting half of the difference from the sum and dividing by 2.\n",
    "  num2 = (x - y) // 2\n",
    "\n",
    "  # Return the two numbers in a list.\n",
    "  return [num1, num2]\n",
    "\n",
    "# Example usage\n",
    "x = 5\n",
    "y = 2\n",
    "result = find_numbers(x, y)\n",
    "print(result)  # Output: [6, 2]\n"
   ]
  }
 ],
 "metadata": {
  "kernelspec": {
   "display_name": "Python 3",
   "language": "python",
   "name": "python3"
  },
  "language_info": {
   "codemirror_mode": {
    "name": "ipython",
    "version": 3
   },
   "file_extension": ".py",
   "mimetype": "text/x-python",
   "name": "python",
   "nbconvert_exporter": "python",
   "pygments_lexer": "ipython3",
   "version": "3.10.11"
  }
 },
 "nbformat": 4,
 "nbformat_minor": 2
}
