{
 "cells": [
  {
   "cell_type": "markdown",
   "metadata": {},
   "source": [
    "### Linear Search"
   ]
  },
  {
   "cell_type": "code",
   "execution_count": 3,
   "metadata": {},
   "outputs": [
    {
     "data": {
      "text/plain": [
       "4"
      ]
     },
     "execution_count": 3,
     "metadata": {},
     "output_type": "execute_result"
    }
   ],
   "source": [
    "def linearSearch(arr, n, x) :\n",
    "    #Your code goes here\n",
    "    value = -1\n",
    "    for i in range(n):\n",
    "        if arr[i] == x:\n",
    "            value = i\n",
    "            break\n",
    "            \n",
    "    return value\n",
    "            \n",
    "\n",
    "\n",
    "n =7\n",
    "arr = [2, 13, 4, 1, 3, 6, 28]\n",
    "x = 3\n",
    "linearSearch(arr, n, x)"
   ]
  },
  {
   "cell_type": "markdown",
   "metadata": {},
   "source": [
    "### Sort 0 1"
   ]
  },
  {
   "cell_type": "code",
   "execution_count": 2,
   "metadata": {},
   "outputs": [
    {
     "name": "stdout",
     "output_type": "stream",
     "text": [
      "0 0\n",
      "0 0\n",
      "0 1\n",
      "1 0\n",
      "0 1\n",
      "1 0\n",
      "[0, 0, 0, 1, 1, 1, 1]\n"
     ]
    }
   ],
   "source": [
    "n = 6\n",
    "arr  = [0, 1, 1, 0, 1, 0, 1]\n",
    "def arrange(arr, n) :\n",
    "    j = 0\n",
    "    for i in range(n):\n",
    "        if arr[i] == 0:\n",
    "            arr[i], arr[j] = arr[j], arr[i]\n",
    "            j += 1\n",
    "\n",
    "    return arr\n",
    "\n",
    "print(arrange(arr, n))"
   ]
  },
  {
   "cell_type": "markdown",
   "metadata": {},
   "source": [
    "### Find The Unique"
   ]
  },
  {
   "cell_type": "code",
   "execution_count": 1,
   "metadata": {},
   "outputs": [
    {
     "data": {
      "text/plain": [
       "1"
      ]
     },
     "execution_count": 1,
     "metadata": {},
     "output_type": "execute_result"
    }
   ],
   "source": [
    "def findUnique(arr, n) :\n",
    "    count = 100\n",
    "    for i in range(0, n):\n",
    "        if arr.count(arr[i]) < count:\n",
    "            count = arr.count(arr[i])\n",
    "            res = arr[i]\n",
    "    return res\n",
    "\n",
    "n = 7\n",
    "arr =[2, 3, 1, 6, 3, 6, 2]\n",
    "findUnique(arr, n)"
   ]
  },
  {
   "cell_type": "markdown",
   "metadata": {},
   "source": [
    "### FIND DUPLICATE"
   ]
  },
  {
   "cell_type": "code",
   "execution_count": 6,
   "metadata": {},
   "outputs": [
    {
     "data": {
      "text/plain": [
       "7"
      ]
     },
     "execution_count": 6,
     "metadata": {},
     "output_type": "execute_result"
    }
   ],
   "source": [
    "def duplicateNumber(arr, n) :\n",
    "    for i in range(n):\n",
    "        for j in range(i +1,n):\n",
    "            if arr[i] == arr[j]:\n",
    "                return arr[i]\n",
    "        \n",
    "         \n",
    "n = 9 \n",
    "arr = [0, 7, 2, 5, 4, 7, 1, 3, 6]\n",
    "duplicateNumber(arr, n)"
   ]
  },
  {
   "cell_type": "code",
   "execution_count": 7,
   "metadata": {},
   "outputs": [
    {
     "data": {
      "text/plain": [
       "7"
      ]
     },
     "execution_count": 7,
     "metadata": {},
     "output_type": "execute_result"
    }
   ],
   "source": [
    "def duplicateNumber(arr, n) :\n",
    "    count = 0\n",
    "    for i in range(0, n):\n",
    "        if arr.count(arr[i]) > count:\n",
    "            count = arr.count(arr[i])\n",
    "            dn = arr[i]\n",
    "    return dn\n",
    "\n",
    "\n",
    "n = 9 \n",
    "arr = [0, 7, 2, 5, 4, 7, 1, 3, 6]\n",
    "duplicateNumber(arr, n)"
   ]
  },
  {
   "cell_type": "markdown",
   "metadata": {},
   "source": [
    "### FIND SECOND LARGEST NUMBER"
   ]
  },
  {
   "cell_type": "code",
   "execution_count": 10,
   "metadata": {},
   "outputs": [
    {
     "data": {
      "text/plain": [
       "31"
      ]
     },
     "execution_count": 10,
     "metadata": {},
     "output_type": "execute_result"
    }
   ],
   "source": [
    "def secondLargestElement(arr, n):\n",
    "  if n <= 1:\n",
    "    return None\n",
    "  \n",
    "  largest = second_largest = 0\n",
    "  for num in arr:\n",
    "    if num > largest:\n",
    "      second_largest = largest\n",
    "      largest = num\n",
    "    elif num > second_largest and num != largest:\n",
    "      second_largest = num\n",
    "  return second_largest\n",
    "\n",
    "\n",
    "n = 7\n",
    "arr =[13, 6, 31, 14, 29, 44, 3]\n",
    "secondLargestElement(arr, n)"
   ]
  },
  {
   "cell_type": "markdown",
   "metadata": {},
   "source": [
    "### INTERSECTION OF TWO ARRAYS ||"
   ]
  },
  {
   "cell_type": "code",
   "execution_count": 14,
   "metadata": {},
   "outputs": [
    {
     "name": "stdout",
     "output_type": "stream",
     "text": [
      "2 1 2 "
     ]
    }
   ],
   "source": [
    "def intersections(arr1, n, arr2, m) :\n",
    "    for i in range(n):\n",
    "        for j in range(m):\n",
    "            if arr1[i] == arr2[j]:\n",
    "                print(arr1[i], end=' ')\n",
    "                arr2[j] = -1 \n",
    "                break\n",
    "\n",
    "    \n",
    "n =  4   \n",
    "arr1 = [2, 6, 1, 2]\n",
    "m = 5\n",
    "arr2 = [1, 2, 3, 4, 2]\n",
    "intersections(arr1, n, arr2, m)"
   ]
  }
 ],
 "metadata": {
  "kernelspec": {
   "display_name": "Python 3",
   "language": "python",
   "name": "python3"
  },
  "language_info": {
   "codemirror_mode": {
    "name": "ipython",
    "version": 3
   },
   "file_extension": ".py",
   "mimetype": "text/x-python",
   "name": "python",
   "nbconvert_exporter": "python",
   "pygments_lexer": "ipython3",
   "version": "3.10.11"
  }
 },
 "nbformat": 4,
 "nbformat_minor": 2
}
