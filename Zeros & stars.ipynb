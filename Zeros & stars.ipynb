{
 "cells": [
  {
   "cell_type": "markdown",
   "metadata": {},
   "source": [
    "### Zero's and Stars"
   ]
  },
  {
   "cell_type": "markdown",
   "metadata": {},
   "source": [
    "*000*000*\n",
    "0*00*00*0\n",
    "00*0*0*00\n",
    "000***000"
   ]
  },
  {
   "cell_type": "code",
   "execution_count": 2,
   "metadata": {},
   "outputs": [
    {
     "name": "stdout",
     "output_type": "stream",
     "text": [
      "000*\n",
      "00**\n",
      "0***\n",
      "****\n"
     ]
    }
   ],
   "source": [
    "n =4\n",
    "i = 1\n",
    "while i <= n:\n",
    "    j = 1\n",
    "    while j <= n - i:\n",
    "        print(\"0\",end = \"\")\n",
    "        j = j +1\n",
    "    j = i\n",
    "    while j >= 1:\n",
    "        print(\"*\", end=\"\")\n",
    "        j = j - 1\n",
    "    print()\n",
    "    i = i + 1"
   ]
  },
  {
   "cell_type": "code",
   "execution_count": 18,
   "metadata": {},
   "outputs": [
    {
     "name": "stdout",
     "output_type": "stream",
     "text": [
      "**** \n",
      "***  \n",
      "**   \n",
      "*    \n"
     ]
    }
   ],
   "source": [
    "n =4\n",
    "i = 1\n",
    "while i <= n:\n",
    "    j = 1 \n",
    "    while j <= n - i + 1 :\n",
    "        print(\"*\", end=\"\")\n",
    "        j = j + 1\n",
    "    j = 1\n",
    "    while j <= i:\n",
    "        print(\" \",end = \"\")\n",
    "        j = j +  1      \n",
    "    print()\n",
    "    i = i + 1"
   ]
  },
  {
   "cell_type": "code",
   "execution_count": 15,
   "metadata": {},
   "outputs": [
    {
     "name": "stdout",
     "output_type": "stream",
     "text": [
      "*   \n",
      "**  \n",
      "*** \n",
      "****\n"
     ]
    }
   ],
   "source": [
    "n =4\n",
    "i = 1\n",
    "while i <= n:\n",
    "    j = 1\n",
    "    while j <=  i:\n",
    "        print(\"*\", end=\"\")\n",
    "        j = j + 1\n",
    "    j = 1\n",
    "    while j <= n - i:\n",
    "        print(\" \",end = \"\")\n",
    "        j = j +1\n",
    "   \n",
    "    print()\n",
    "    i = i + 1"
   ]
  },
  {
   "cell_type": "code",
   "execution_count": 12,
   "metadata": {},
   "outputs": [
    {
     "name": "stdout",
     "output_type": "stream",
     "text": [
      " ****\n",
      "  ***\n",
      "   **\n",
      "    *\n"
     ]
    }
   ],
   "source": [
    "n =4\n",
    "i = 1\n",
    "while i <= n:\n",
    "    j = 1\n",
    "    while j <= i:\n",
    "        print(\" \",end = \"\")\n",
    "        j = j +1\n",
    "    j = 1 \n",
    "    while j <= n - i + 1 :\n",
    "        print(\"*\", end=\"\")\n",
    "        j = j + 1\n",
    "        \n",
    "    print()\n",
    "    i = i + 1"
   ]
  },
  {
   "cell_type": "code",
   "execution_count": 7,
   "metadata": {},
   "outputs": [
    {
     "name": "stdout",
     "output_type": "stream",
     "text": [
      "*000\n",
      "0*00\n",
      "00*0\n",
      "000*\n"
     ]
    }
   ],
   "source": [
    "n = 4\n",
    "i = 1\n",
    "j = 1\n",
    "while i <= n:\n",
    "    j = 1\n",
    "    while j <= n:\n",
    "        if i == j:\n",
    "            print(\"*\", end = \"\")\n",
    "        else:\n",
    "            print(\"0\", end =\"\")\n",
    "        j = j + 1\n",
    "        \n",
    "    print()\n",
    "    i = i + 1"
   ]
  },
  {
   "cell_type": "code",
   "execution_count": 12,
   "metadata": {},
   "outputs": [
    {
     "name": "stdout",
     "output_type": "stream",
     "text": [
      "*000*000*\n",
      "0*00*00*0\n",
      "00*0*0*00\n",
      "000***000\n"
     ]
    }
   ],
   "source": [
    "n = 4\n",
    "i = 1\n",
    "while i <= n:\n",
    "    j = 1\n",
    "    while j <= n:\n",
    "        if i == j:\n",
    "            print(\"*\", end = \"\")\n",
    "        else:\n",
    "            print(\"0\", end =\"\")\n",
    "        j = j + 1\n",
    "        \n",
    "    j = j - 1\n",
    "    print(\"*\", end=\"\")\n",
    "    while j >= 1:\n",
    "        if i == j:\n",
    "            print(\"*\", end=\"\")\n",
    "        else:\n",
    "            print(\"0\",end=\"\")\n",
    "        j = j - 1\n",
    "    print()\n",
    "    i = i + 1"
   ]
  }
 ],
 "metadata": {
  "kernelspec": {
   "display_name": "Python 3",
   "language": "python",
   "name": "python3"
  },
  "language_info": {
   "codemirror_mode": {
    "name": "ipython",
    "version": 3
   },
   "file_extension": ".py",
   "mimetype": "text/x-python",
   "name": "python",
   "nbconvert_exporter": "python",
   "pygments_lexer": "ipython3",
   "version": "3.10.11"
  }
 },
 "nbformat": 4,
 "nbformat_minor": 2
}
