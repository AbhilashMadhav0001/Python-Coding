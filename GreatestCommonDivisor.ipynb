{
 "cells": [
  {
   "cell_type": "code",
   "execution_count": 6,
   "metadata": {},
   "outputs": [
    {
     "name": "stdout",
     "output_type": "stream",
     "text": [
      "1\n",
      "5\n"
     ]
    }
   ],
   "source": [
    "def findGcd(x, y):\n",
    "    while y:\n",
    "        x, y = y, x % y\n",
    "    return x\n",
    "\n",
    "\n",
    "t=int(input())\n",
    "while t!=0:\n",
    "    x,y=input().split()\n",
    "    x,y=int(x),int(y)\n",
    "    print(findGcd(x,y))\n",
    "    t=t-1"
   ]
  },
  {
   "cell_type": "code",
   "execution_count": 7,
   "metadata": {},
   "outputs": [
    {
     "name": "stdout",
     "output_type": "stream",
     "text": [
      "5\n"
     ]
    }
   ],
   "source": [
    "def findGcd(x, y):\n",
    "\n",
    "  a = max(x, y)\n",
    "  b = min(x, y)\n",
    "  while b != 0:\n",
    "    a, b = b, a % b\n",
    "  return a\n",
    "\n",
    "# Example usage:\n",
    "x, y = int(input()) ,int(input())\n",
    "gcd_result = findGcd(x, y)\n",
    "print(gcd_result)"
   ]
  }
 ],
 "metadata": {
  "kernelspec": {
   "display_name": "Python 3",
   "language": "python",
   "name": "python3"
  },
  "language_info": {
   "codemirror_mode": {
    "name": "ipython",
    "version": 3
   },
   "file_extension": ".py",
   "mimetype": "text/x-python",
   "name": "python",
   "nbconvert_exporter": "python",
   "pygments_lexer": "ipython3",
   "version": "3.10.11"
  }
 },
 "nbformat": 4,
 "nbformat_minor": 2
}
