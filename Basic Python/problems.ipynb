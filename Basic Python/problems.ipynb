{
 "cells": [
  {
   "cell_type": "markdown",
   "metadata": {},
   "source": [
    "# DAILY PROBLEMS"
   ]
  },
  {
   "cell_type": "markdown",
   "metadata": {},
   "source": [
    "### FIND INTEGER\n",
    "\n",
    "You are given two integers, ‘N’ and ‘K’. Assume numbers from 1 to ‘N’ are arranged such that all odd numbers (in ascending order) are present first and then come to all even numbers (also in ascending order).\n",
    "\n",
    "You need to find the integer at position ‘K’ (numbering of positions starts from 1).\n",
    "\n",
    "For example:\n",
    "You are given ‘N’ as 7 and ‘K’ as 4.  Numbers from 1 to 7 are arranged as [1, 3, 5, 7, 2, 4, 6], and the number at position 4 is 7. So, the answer is 7."
   ]
  },
  {
   "cell_type": "code",
   "execution_count": 11,
   "metadata": {},
   "outputs": [
    {
     "data": {
      "text/plain": [
       "5"
      ]
     },
     "execution_count": 11,
     "metadata": {},
     "output_type": "execute_result"
    }
   ],
   "source": [
    "def findInteger(N, K):\n",
    "  odd_numbers = (N + 1) // 2  \n",
    "\n",
    "  if K <= odd_numbers:\n",
    "    return (2 * K) - 1\n",
    "\n",
    "  else:\n",
    "    return 2 * (K - odd_numbers)\n",
    "\n",
    "\n",
    "N = 7\n",
    "K = 3\n",
    "findInteger(N, K)\n"
   ]
  },
  {
   "cell_type": "code",
   "execution_count": 16,
   "metadata": {},
   "outputs": [
    {
     "name": "stdout",
     "output_type": "stream",
     "text": [
      "[1, 3, 5, 7, 2, 4, 6]\n"
     ]
    },
    {
     "data": {
      "text/plain": [
       "7"
      ]
     },
     "execution_count": 16,
     "metadata": {},
     "output_type": "execute_result"
    }
   ],
   "source": [
    "def findInteger(n, k):\n",
    "    arr = []\n",
    "    for i in range(1, n + 1):\n",
    "        if i % 2 != 0:\n",
    "            arr.append(i)\n",
    "    for i in range(1, n + 1):\n",
    "        if i % 2 == 0:\n",
    "            arr.append(i)\n",
    "    print(arr)\n",
    "    for i in range(1, n + 1):\n",
    "        if k == i :\n",
    "            return arr[i - 1]\n",
    "\n",
    "n = 7\n",
    "k = 4\n",
    "findInteger(n, k)"
   ]
  },
  {
   "cell_type": "markdown",
   "metadata": {},
   "source": [
    "### Sum or Product\n"
   ]
  },
  {
   "cell_type": "markdown",
   "metadata": {},
   "source": [
    "You are given a number ‘N’ and a query ‘Q.’ If ‘Q’ is 1, then you have to return the sum of all integers from 1 to ‘N,’ else if ‘Q’ is equal to 2 then you have to return the product of all integers from 1 to ‘N.’ Since the product can be very large, return it modulo 10 ^ 9 + 7.\n",
    "\n",
    "For example\n",
    "\n",
    "Given ‘N’ = 4, ‘Q’ = 1. \n",
    "Then the answer is 10 because the sum of all integers between 1 and 4 are 1, 2, 3, and 4. Hence 1 + 2 + 3 + 4 is equal to 10."
   ]
  },
  {
   "cell_type": "code",
   "execution_count": 101,
   "metadata": {},
   "outputs": [
    {
     "data": {
      "text/plain": [
       "674358851"
      ]
     },
     "execution_count": 101,
     "metadata": {},
     "output_type": "execute_result"
    }
   ],
   "source": [
    "def sumOrProduct(n, q):\n",
    "    MOD = 10 ** 9 + 7\n",
    "    mul = 1\n",
    "    for i in range(1, n + 1):\n",
    "        if q == 1:\n",
    "            return n * (n + 1) // 2\n",
    "            \n",
    "        else :\n",
    "            mul = (mul * i) % MOD\n",
    "    return mul\n",
    "\n",
    "n = 15\n",
    "q = 2     \n",
    "sumOrProduct(n, q)"
   ]
  },
  {
   "cell_type": "code",
   "execution_count": 16,
   "metadata": {},
   "outputs": [
    {
     "data": {
      "text/plain": [
       "3628800"
      ]
     },
     "execution_count": 16,
     "metadata": {},
     "output_type": "execute_result"
    }
   ],
   "source": [
    "def sumOrProduct(n, q):\n",
    "    mod = 10 ** 9 + 7\n",
    "    sum1 = 0\n",
    "    mul = 1\n",
    "    for i in range(1, n + 1):\n",
    "        if q == 1:\n",
    "            sum1 = sum1 + i \n",
    "        else :\n",
    "            mul = (mul * i) % mod\n",
    "    return mul        \n",
    "    \n",
    "n = 10\n",
    "q = 2      \n",
    "sumOrProduct(n, q)\n"
   ]
  },
  {
   "cell_type": "markdown",
   "metadata": {},
   "source": [
    "### Isomorphic Strings"
   ]
  },
  {
   "cell_type": "markdown",
   "metadata": {},
   "source": [
    "Problem statement\n",
    "You have been given two strings, 'str1' and 'str2'.\n",
    "\n",
    "\n",
    "\n",
    "Your task is to return true if the given two strings are isomorphic to each other, else return false.\n",
    "\n",
    "\n",
    "\n",
    "Note :\n",
    "Two strings are isomorphic if a one-to-one mapping is possible for every character of the first string ‘str1’ to every character of the second string ‘str2’ while preserving the order of the characters.\n",
    "\n",
    "All occurrences of every character in the first string ‘str1’ should map to the same character in the second string, ‘str2’.\n",
    "For example :\n",
    "If str1 = “aab” and str2 = “xxy” then the output will be 1. ‘a’ maps to ‘x’ and ‘b’ maps to ‘y’.\n",
    "\n",
    "If str1 = “aab” and str2 = “xyz” then the output will be 0. There are two different characters in 'str1', while there are three different characters in 'str2'. So there won't be one to one mapping between 'str1' and 'str2'."
   ]
  },
  {
   "cell_type": "code",
   "execution_count": 26,
   "metadata": {},
   "outputs": [
    {
     "name": "stdout",
     "output_type": "stream",
     "text": [
      "{'a': 'x'}\n",
      "{'a': 'x', 'b': 'y'}\n"
     ]
    },
    {
     "data": {
      "text/plain": [
       "1"
      ]
     },
     "execution_count": 26,
     "metadata": {},
     "output_type": "execute_result"
    }
   ],
   "source": [
    "def areIsomorphic(str1: str, str2: str) -> bool:\n",
    "    if len(str1) != len(str2):\n",
    "        return 0\n",
    "    \n",
    "    hash_table = {}\n",
    "\n",
    "    for i in range(len(str1)):\n",
    "        char1 = str1[i]\n",
    "        char2 = str2[i]\n",
    "        \n",
    "        if char1 not in hash_table:\n",
    "            if char2  in hash_table.values():\n",
    "                return 0\n",
    "            hash_table[char1] = char2\n",
    "            \n",
    "        else:\n",
    "            if hash_table[char1] != char2:\n",
    "                return 0\n",
    "    return 1\n",
    "\n",
    "str1 = \"aab\"\n",
    "str2 = \"xxy\"\n",
    "areIsomorphic(str1, str2)"
   ]
  },
  {
   "cell_type": "markdown",
   "metadata": {},
   "source": [
    "###  Four Divisors"
   ]
  },
  {
   "cell_type": "markdown",
   "metadata": {},
   "source": [
    "Problem statement\n",
    "Ninja was planning to propose to his crush, Nina, with his spectacular martial arts moves. But Nina was more interested in numbers and divisors, so she gave Ninja a challenge to complete. If Ninja solves it, only then she will date him.\n",
    "\n",
    "Nina gave him an array of positive integers, ‘ARR’ and asked him to find the sum of divisors of the integers in ‘ARR’ with exactly four divisors. In case there is no such integer with exactly four divisors, then the answer is 0. Ninja has been struggling for a very long time, so he needs your help to solve the problem."
   ]
  },
  {
   "cell_type": "code",
   "execution_count": 64,
   "metadata": {},
   "outputs": [
    {
     "data": {
      "text/plain": [
       "24"
      ]
     },
     "execution_count": 64,
     "metadata": {},
     "output_type": "execute_result"
    }
   ],
   "source": [
    "def sumFourDivisors(arr, n):\n",
    "    total = 0\n",
    "    for i in range(0,n):\n",
    "        count = 0\n",
    "        sum1 = 0\n",
    "        for j in range(1, arr[i] + 1):\n",
    "            \n",
    "            if arr[i] % j == 0:\n",
    "                count += 1\n",
    "                sum1 = sum1 + j\n",
    "                \n",
    "        if count == 4:\n",
    "            total = total + sum1         \n",
    "    return total\n",
    "                \n",
    "                \n",
    "                \n",
    "n = 6\n",
    "arr = [12, 5, 3, 7, 11, 14]\n",
    "sumFourDivisors(arr, n)"
   ]
  },
  {
   "cell_type": "code",
   "execution_count": 98,
   "metadata": {},
   "outputs": [
    {
     "data": {
      "text/plain": [
       "24"
      ]
     },
     "execution_count": 98,
     "metadata": {},
     "output_type": "execute_result"
    }
   ],
   "source": [
    "def sumFourDivisors( nums):\n",
    "        result = 0\n",
    "        for num in nums:\n",
    "            facs, i = [], 1\n",
    "            while i * i <= num:\n",
    "                \n",
    "                if num % i:\n",
    "                    i += 1\n",
    "                    continue\n",
    "                facs.append(i)\n",
    "                \n",
    "                if i != num//i:\n",
    "                    facs.append(num//i)\n",
    "                    if len(facs) > 4:\n",
    "                        break\n",
    "                i += 1\n",
    "            if len(facs) == 4:            \n",
    "                result += sum(facs)\n",
    "        return result \n",
    "    \n",
    "\n",
    "arr =  [12, 5, 3, 7, 11, 14]\n",
    "sumFourDivisors(arr)"
   ]
  },
  {
   "cell_type": "code",
   "execution_count": 104,
   "metadata": {},
   "outputs": [
    {
     "data": {
      "text/plain": [
       "45"
      ]
     },
     "execution_count": 104,
     "metadata": {},
     "output_type": "execute_result"
    }
   ],
   "source": [
    "\n",
    "def sumFourDivisors(nums):\n",
    "        ans = 0\n",
    "\n",
    "        for num in nums:\n",
    "            divisor = 0\n",
    "            for i in range(2, int((num**0.5)) + 1):\n",
    "                if num % i == 0:\n",
    "                    \n",
    "                    if divisor == 0:\n",
    "                        divisor = i\n",
    "                    else:\n",
    "                        divisor = 0\n",
    "                    break\n",
    "\n",
    "            if divisor > 0 and divisor * divisor < num:\n",
    "                ans += 1 + num + divisor + num // divisor\n",
    "        \n",
    "        return ans\n",
    "        \n",
    "arr = [12, 5, 3, 7, 11, 14]\n",
    "#arr =  [ 2, 5, 6, 15]\n",
    "sumFourDivisors(arr)"
   ]
  },
  {
   "cell_type": "markdown",
   "metadata": {},
   "source": [
    "###  Add Strings"
   ]
  },
  {
   "cell_type": "markdown",
   "metadata": {},
   "source": [
    "Problem statement\n",
    "\n",
    "You are given two non-negative integers, ‘NUM1’ and ‘NUM2’, in the form of strings. Print the sum of both the strings.\n",
    "\n",
    "Note:\n",
    "\n",
    "1. Do not convert the strings to integers directly.\n",
    "\n",
    "Example:\n",
    "Let ‘NUM1’ be: “5”\n",
    "Let ‘NUM2’ be: “21”\n",
    "The sum of both numbers will be: “26”."
   ]
  },
  {
   "cell_type": "code",
   "execution_count": 3,
   "metadata": {},
   "outputs": [
    {
     "data": {
      "text/plain": [
       "['a', 'a', 'a', 'e']"
      ]
     },
     "execution_count": 3,
     "metadata": {},
     "output_type": "execute_result"
    }
   ],
   "source": [
    "def decrypt(message, operations):\n",
    "    new_message = []\n",
    "    for i in range(len(operations)):\n",
    "        if operations[i][0] == -1:\n",
    "            times = operations[i][1]\n",
    "            word = message[0]\n",
    "            new_message.insert(-times, word)\n",
    "        else:\n",
    "            times = operations[i][1]\n",
    "            times = operations[i][1]\n",
    "            word = message[-1]\n",
    "            new_message.insert(times, word)\n",
    "    return new_message\n",
    "\n",
    "\n",
    "\n",
    "message = \"abcde\"\n",
    "operations = [[-1, 2],[1, 1],[-1, 2],[-1, 1]]\n",
    "decrypt(message, operations)"
   ]
  },
  {
   "cell_type": "code",
   "execution_count": 7,
   "metadata": {},
   "outputs": [
    {
     "data": {
      "text/plain": [
       "'eabcd'"
      ]
     },
     "execution_count": 7,
     "metadata": {},
     "output_type": "execute_result"
    }
   ],
   "source": [
    "\n",
    "def decrypt(message, operations):\n",
    "    new_message = message\n",
    "\n",
    "    for operation in operations:\n",
    "        rotation_type, times = operation\n",
    "\n",
    "        if rotation_type == -1:\n",
    "\n",
    "            for _ in range(times):\n",
    "                first_char = new_message[0]\n",
    "                new_message = new_message[1:] + first_char\n",
    "\n",
    "        elif rotation_type == 1:\n",
    "            for _ in range(times):\n",
    "                last_char =new_message[-1]\n",
    "                new_message = last_char + new_message[:-1]\n",
    "        \n",
    "    return new_message\n",
    "\n",
    "\n",
    "message = \"abcde\"\n",
    "operations = [[-1, 2],[1, 1],[-1, 2],[-1, 1]]\n",
    "decrypt(message, operations)"
   ]
  },
  {
   "cell_type": "markdown",
   "metadata": {},
   "source": [
    "### MISSING NUMBER"
   ]
  },
  {
   "cell_type": "code",
   "execution_count": 2,
   "metadata": {},
   "outputs": [
    {
     "data": {
      "text/plain": [
       "7"
      ]
     },
     "execution_count": 2,
     "metadata": {},
     "output_type": "execute_result"
    }
   ],
   "source": [
    "def missingNumber(arr, n):\n",
    "    i = 0\n",
    "    d = arr[1] - arr[0]\n",
    "    while i < n:\n",
    "        if arr[i] + d == arr[i + 1]:\n",
    "            i = i + 1\n",
    "        else:\n",
    "            return (arr[i] + d)\n",
    "\n",
    "\n",
    "n = 3\n",
    "arr = [1, 4 , 10]     \n",
    "missingNumber(arr, n)"
   ]
  },
  {
   "cell_type": "code",
   "execution_count": null,
   "metadata": {},
   "outputs": [
    {
     "data": {
      "text/plain": [
       "7"
      ]
     },
     "metadata": {},
     "output_type": "display_data"
    }
   ],
   "source": [
    "def missingNumber(arr, n):\n",
    "    d = arr[1] - arr[0]\n",
    "    for j in range(1, n - 1):\n",
    "        d = arr[j + 1] - arr[j]\n",
    "        diff = d\n",
    "        \n",
    "           \n",
    "    i = 0\n",
    "    while i < n:\n",
    "        if arr[i] + d == arr[i + 1]:\n",
    "            i = i + 1\n",
    "        else:\n",
    "            return (arr[i] + d)\n",
    "\n",
    "\n",
    "n = 3\n",
    "arr = [1, 4 , 10]     \n",
    "missingNumber(arr, n)"
   ]
  },
  {
   "cell_type": "markdown",
   "metadata": {},
   "source": [
    "### COUNT GOOD AND BAD NUMBERS"
   ]
  },
  {
   "cell_type": "code",
   "execution_count": 4,
   "metadata": {},
   "outputs": [
    {
     "data": {
      "text/plain": [
       "302565"
      ]
     },
     "execution_count": 4,
     "metadata": {},
     "output_type": "execute_result"
    }
   ],
   "source": [
    "def count_good_numbers(n,m):\n",
    "    newlst = []\n",
    "    MOD = 10 ** 9 + 7\n",
    "    if n <= 9 :\n",
    "        return 0\n",
    "    else:\n",
    "        good = 9\n",
    "        for i in range(n + 1):\n",
    "            if i > 9:\n",
    "                newlst.append(i)\n",
    "        bad = len(newlst)\n",
    "\n",
    "        for num in newlst:\n",
    "            num = str(num)\n",
    "            sum1 = int(num[0]) + int(num[1])\n",
    "\n",
    "            result = int(num) - sum1\n",
    "            # print(result)\n",
    "            #print( int(num) , sum1,result )\n",
    "            if result <= m:\n",
    "                bad = bad - 1\n",
    "                good = good + 1\n",
    "                \n",
    "                \n",
    "\n",
    "    answer = (good * bad)  % MOD\n",
    "    return answer\n",
    "\n",
    "n = 4454\n",
    "m = 56\n",
    "count_good_numbers(n,m)\n",
    "    "
   ]
  },
  {
   "cell_type": "markdown",
   "metadata": {},
   "source": [
    "### PLUS MINUS"
   ]
  },
  {
   "cell_type": "markdown",
   "metadata": {},
   "source": [
    "Given an array of integers, calculate the ratios of its elements that are positive, negative, and zero. Print the decimal value of each fraction on a new line with  places after the decimal.\n",
    "\n",
    "Note: This challenge introduces precision problems. The test cases are scaled to six decimal places, though answers with absolute error of up to  are acceptable.\n",
    "\n",
    "Example\n",
    "\n",
    "There are  elements, two positive, two negative and one zero. Their ratios are ,  and . Results are printed as:\n",
    "\n",
    "0.400000\n",
    "0.400000\n",
    "0.200000"
   ]
  },
  {
   "cell_type": "code",
   "execution_count": 1,
   "metadata": {},
   "outputs": [
    {
     "name": "stdout",
     "output_type": "stream",
     "text": [
      "0.500000\n",
      "0.333333\n",
      "0.166667\n"
     ]
    }
   ],
   "source": [
    "def plusMinus(arr):\n",
    "    length= len(arr);\n",
    "    positiveNo = 0;\n",
    "    negativeNO = 0;\n",
    "    zeroNo= 0;\n",
    "    \n",
    "    for i in range(length):\n",
    "        if (arr[i]>0):\n",
    "            positiveNo += 1;\n",
    "        elif (arr[i]<0): \n",
    "            negativeNO += 1;\n",
    "        elif (arr[i]== 0): \n",
    "            zeroNo += 1;\n",
    "            \n",
    "    print(\"%f\" %(positiveNo / length));\n",
    "    print(\"%f\" %(negativeNO/length));\n",
    "    print(\"%f\" %(zeroNo/length));\n",
    "    \n",
    "    \n",
    "arr = [-4, 3, -9, 0, 4, 1]\n",
    "plusMinus(arr)"
   ]
  },
  {
   "cell_type": "markdown",
   "metadata": {},
   "source": [
    "### TIME CONVERSION"
   ]
  },
  {
   "cell_type": "markdown",
   "metadata": {},
   "source": [
    "Given a time in -hour AM/PM format, convert it to military (24-hour) time.\n",
    "\n",
    "Note: - 12:00:00AM on a 12-hour clock is 00:00:00 on a 24-hour clock.\n",
    "- 12:00:00PM on a 12-hour clock is 12:00:00 on a 24-hour clock."
   ]
  },
  {
   "cell_type": "code",
   "execution_count": 23,
   "metadata": {},
   "outputs": [
    {
     "data": {
      "text/plain": [
       "'00:40:22'"
      ]
     },
     "execution_count": 23,
     "metadata": {},
     "output_type": "execute_result"
    }
   ],
   "source": [
    "def timeConversion(s):\n",
    "    # Write your code here\n",
    "    if s[-2:] == \"AM\" and s[:2] == \"12\":\n",
    "        return \"00\" + s[2:-2]\n",
    "    elif s[-2:] == \"AM\":\n",
    "        return s[:-2]\n",
    "    elif s[-2:] == \"PM\"and s[:2] == \"12\":\n",
    "        return s[:-2]\n",
    "    else:\n",
    "        ans = int(s[:2]) + 12\n",
    "        return str(str(ans) + s[2:8])\n",
    "    \n",
    "s = \"12:40:22AM\"\n",
    "timeConversion(s)"
   ]
  },
  {
   "cell_type": "code",
   "execution_count": 16,
   "metadata": {},
   "outputs": [
    {
     "name": "stdout",
     "output_type": "stream",
     "text": [
      "AM\n",
      "12\n",
      "12:40:22\n"
     ]
    }
   ],
   "source": [
    "s = \"12:40:22AM\"\n",
    "print(s[-2:])\n",
    "print(s[:2])\n",
    "print(s[:-2])"
   ]
  },
  {
   "cell_type": "markdown",
   "metadata": {},
   "source": [
    "### MEDIAN "
   ]
  },
  {
   "cell_type": "code",
   "execution_count": 19,
   "metadata": {},
   "outputs": [
    {
     "name": "stdout",
     "output_type": "stream",
     "text": [
      "[1, 3, 4, 4, 6, 7, 8]\n"
     ]
    },
    {
     "data": {
      "text/plain": [
       "4"
      ]
     },
     "execution_count": 19,
     "metadata": {},
     "output_type": "execute_result"
    }
   ],
   "source": [
    "def findMedian(arr):\n",
    "    arr.sort()\n",
    "    print(arr)\n",
    "    mid = len(arr) // 2\n",
    "    return arr[mid]\n",
    "\n",
    "arr = [1, 4, 6, 7, 3, 4, 8]\n",
    "findMedian(arr)\n"
   ]
  },
  {
   "cell_type": "markdown",
   "metadata": {},
   "source": [
    "### Lonely Integer"
   ]
  },
  {
   "cell_type": "code",
   "execution_count": 27,
   "metadata": {},
   "outputs": [
    {
     "name": "stdout",
     "output_type": "stream",
     "text": [
      "4\n"
     ]
    }
   ],
   "source": [
    "def lonelyinteger(a):\n",
    "    for i in a:\n",
    "        frequency = a.count(i)\n",
    "        if frequency == 1:\n",
    "            return i\n",
    "    \n",
    "    \n",
    "a = [1, 2, 3, 4, 3, 2, 1]\n",
    "print(lonelyinteger(a) )"
   ]
  },
  {
   "cell_type": "markdown",
   "metadata": {},
   "source": [
    "### Binary to Decimal to conversion"
   ]
  },
  {
   "cell_type": "markdown",
   "metadata": {},
   "source": [
    "Write a program for Binary to Decimal to conversion"
   ]
  },
  {
   "cell_type": "code",
   "execution_count": null,
   "metadata": {},
   "outputs": [],
   "source": [
    "num = int(input(\"Enter number:\"))\n",
    "binary_val = num\n",
    "decimal_val = 0\n",
    "base = 1\n",
    "while num > 0:\n",
    "    rem = num % 10\n",
    "    decimal_val = decimal_val + rem * base\n",
    "    num = num // 10\n",
    "    base = base * 2\n",
    "\n",
    "print(\"Binary Number is {} and Decimal Number is {}\".format(binary_val, decimal_val))"
   ]
  },
  {
   "cell_type": "markdown",
   "metadata": {},
   "source": [
    "### Reverse the element of the array"
   ]
  },
  {
   "cell_type": "code",
   "execution_count": 28,
   "metadata": {},
   "outputs": [
    {
     "name": "stdout",
     "output_type": "stream",
     "text": [
      "[50, 40, 30, 20, 10]\n"
     ]
    }
   ],
   "source": [
    "def reverseList(A, start, end):\n",
    "  while start < end:\n",
    "    A[start], A[end] = A[end], A[start]\n",
    "    start += 1\n",
    "    end -= 1\n",
    "# Driver function to test above function\n",
    "A = [10, 20, 30, 40, 50]\n",
    "reverseList(A, 0, 4)\n",
    "print(A)"
   ]
  },
  {
   "cell_type": "markdown",
   "metadata": {},
   "source": [
    "### Remove space from a string"
   ]
  },
  {
   "cell_type": "code",
   "execution_count": 29,
   "metadata": {},
   "outputs": [
    {
     "name": "stdout",
     "output_type": "stream",
     "text": [
      "After removing spaces string is : PrepInstaisfabulous\n"
     ]
    }
   ],
   "source": [
    "#take user input \n",
    "String = \"PrepInsta is fabulous\"\n",
    "\n",
    "#Use join function \n",
    "String = \"\".join(String.split()) \n",
    "\n",
    "#print String \n",
    "print(String)"
   ]
  },
  {
   "cell_type": "markdown",
   "metadata": {},
   "source": [
    "### Count Inversion"
   ]
  },
  {
   "cell_type": "code",
   "execution_count": 30,
   "metadata": {},
   "outputs": [
    {
     "name": "stdout",
     "output_type": "stream",
     "text": [
      "There are 5 possible inversion\n"
     ]
    }
   ],
   "source": [
    "def inversion(arr):\n",
    "    ans = 0\n",
    "    for i in range(len(arr)):\n",
    "        for j in range(i + 1, len(arr)):\n",
    "            if arr[j] < arr[i]:\n",
    "                ans += 1\n",
    "    return ans\n",
    "\n",
    "\n",
    "array = [6, 3, 5, 2, 7]\n",
    "print(\"There are\", inversion(array), \"possible inversion\")"
   ]
  },
  {
   "cell_type": "markdown",
   "metadata": {},
   "source": [
    "### Consecutive Largest Subsequence"
   ]
  },
  {
   "cell_type": "code",
   "execution_count": 31,
   "metadata": {},
   "outputs": [
    {
     "name": "stdout",
     "output_type": "stream",
     "text": [
      "Longest Consecutive Subsequence : 3\n"
     ]
    }
   ],
   "source": [
    "def LongestConseqSubseq(arr, l):\n",
    "    val = []\n",
    "    c = 0\n",
    "    for i in range(l):\n",
    "        n = 1\n",
    "        while arr[i] + n in arr:\n",
    "            c += 1\n",
    "            n += 1\n",
    "        val.append(c + 1)\n",
    "        c = 0\n",
    "    return max(val)\n",
    "\n",
    "\n",
    "array = [7, 8, 1, 5, 4, 3]\n",
    "\n",
    "print(\"Longest Consecutive Subsequence :\", LongestConseqSubseq(array, len(array)))"
   ]
  }
 ],
 "metadata": {
  "kernelspec": {
   "display_name": "Python 3",
   "language": "python",
   "name": "python3"
  },
  "language_info": {
   "codemirror_mode": {
    "name": "ipython",
    "version": 3
   },
   "file_extension": ".py",
   "mimetype": "text/x-python",
   "name": "python",
   "nbconvert_exporter": "python",
   "pygments_lexer": "ipython3",
   "version": "3.10.11"
  }
 },
 "nbformat": 4,
 "nbformat_minor": 2
}
