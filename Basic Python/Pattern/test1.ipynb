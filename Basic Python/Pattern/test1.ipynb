{
 "cells": [
  {
   "cell_type": "markdown",
   "metadata": {},
   "source": [
    "# TEST 1"
   ]
  },
  {
   "cell_type": "code",
   "execution_count": 1,
   "metadata": {},
   "outputs": [
    {
     "name": "stdout",
     "output_type": "stream",
     "text": [
      "55555\n",
      "4444\n",
      "333\n",
      "22\n",
      "1\n"
     ]
    }
   ],
   "source": [
    "n = 5\n",
    "i = 1\n",
    "while i <= n :\n",
    "    j = 1\n",
    "    while j <= n - i + 1  :\n",
    "        print(n - i + 1, end=\"\")\n",
    "        j = j + 1\n",
    "    print()\n",
    "    i = i + 1"
   ]
  },
  {
   "cell_type": "code",
   "execution_count": 14,
   "metadata": {},
   "outputs": [
    {
     "name": "stdout",
     "output_type": "stream",
     "text": [
      "5432.\n",
      "432.\n",
      "32.\n",
      "2.\n",
      ".\n"
     ]
    }
   ],
   "source": [
    "n = 5\n",
    "for i in range(n , 0, -1):\n",
    "    for j in range(i , 1, -1):\n",
    "        print(j, end=\"\")\n",
    "    for s in range(1):\n",
    "        print(\".\",end=\"\")\n",
    "    print()"
   ]
  },
  {
   "cell_type": "code",
   "execution_count": 22,
   "metadata": {},
   "outputs": [
    {
     "name": "stdout",
     "output_type": "stream",
     "text": [
      "5432.\n",
      "543.\n",
      "54.\n",
      "5.\n",
      ".\n"
     ]
    }
   ],
   "source": [
    "n = 5\n",
    "for i in range(n , 0, -1):\n",
    "    for j in range(n, n - i + 1, -1):\n",
    "        print(j, end=\"\")\n",
    "    for s in range(1):\n",
    "        print(\"*\",end=\"\")\n",
    "    print()"
   ]
  },
  {
   "cell_type": "code",
   "execution_count": 29,
   "metadata": {},
   "outputs": [
    {
     "name": "stdout",
     "output_type": "stream",
     "text": [
      "54321*\n",
      "5432*\n",
      "543*\n",
      "54*\n",
      "5*\n"
     ]
    }
   ],
   "source": [
    "n = 5\n",
    "for i in range(n , 0, -1):\n",
    "    for j in range(n,n - i, -1):\n",
    "        print(j, end=\"\")\n",
    "    for s in range(1):\n",
    "        print(\"*\",end=\"\")\n",
    "    print()"
   ]
  },
  {
   "cell_type": "code",
   "execution_count": 31,
   "metadata": {},
   "outputs": [
    {
     "name": "stdout",
     "output_type": "stream",
     "text": [
      "***4\n",
      "**34\n",
      "*234\n",
      "1234\n"
     ]
    }
   ],
   "source": [
    "n = 4\n",
    "for i in range(1, n+ 1, 1):\n",
    "    for s in range(n - i, 0 , -1):\n",
    "        print(\"*\", end=\"\")\n",
    "    for j in range(i,0, -1):\n",
    "        print(n -j +1 , end=\"\")\n",
    "        \n",
    "    print()"
   ]
  },
  {
   "cell_type": "code",
   "execution_count": 50,
   "metadata": {},
   "outputs": [
    {
     "name": "stdout",
     "output_type": "stream",
     "text": [
      "***1\n",
      "**21\n",
      "*321\n",
      "4321\n"
     ]
    }
   ],
   "source": [
    "n = 4\n",
    "for i in range(1, n + 1, 1):\n",
    "    for s in range(n - i, 0 ,-1):\n",
    "        print(\"*\", end=\"\")\n",
    "    for j in range(i,0, -1):\n",
    "        print(j , end=\"\")\n",
    "        \n",
    "    print()"
   ]
  },
  {
   "cell_type": "code",
   "execution_count": 51,
   "metadata": {},
   "outputs": [
    {
     "name": "stdout",
     "output_type": "stream",
     "text": [
      "****1\n",
      "***21\n",
      "**321\n",
      "*4321\n"
     ]
    }
   ],
   "source": [
    "n = 5\n",
    "for i in range(1, n , 1):\n",
    "    for s in range(n - i, 0 ,-1):\n",
    "        print(\"*\", end=\"\")\n",
    "    for j in range(i,0, -1):\n",
    "        print(j , end=\"\")\n",
    "        \n",
    "    print()"
   ]
  },
  {
   "cell_type": "code",
   "execution_count": 61,
   "metadata": {},
   "outputs": [
    {
     "name": "stdout",
     "output_type": "stream",
     "text": [
      "54321*5432*543*54*5*154321*5432*543*54*5*154321*5432*543*54*5*154321*5432*543*54*5*1\n"
     ]
    }
   ],
   "source": [
    "n = 5\n",
    "for i in range(1, n , 1):\n",
    "    for i in range(n , 0, -1):\n",
    "        for j in range(n,n - i, -1):\n",
    "            print(j, end=\"\")\n",
    "        for s in range(1):\n",
    "            print(\"*\",end=\"\")\n",
    "        \n",
    "    for j in range(i,0, -1):\n",
    "        print(j , end=\"\")\n",
    "        \n",
    "    print()"
   ]
  },
  {
   "cell_type": "code",
   "execution_count": 68,
   "metadata": {},
   "outputs": [
    {
     "name": "stdout",
     "output_type": "stream",
     "text": [
      "5432*0\n",
      "543*\n",
      "54*\n",
      "5*\n",
      "*\n"
     ]
    }
   ],
   "source": [
    "n = 5\n",
    "for i in range(n , 0, -1):\n",
    "    for j in range(n ,n - i +1, -1):\n",
    "        print(j, end=\"\")\n",
    "    for s in range(1):\n",
    "        print(\"*\",end=\"\")\n",
    "        \n",
    "    for k in range(n-i, 1, 1):\n",
    "        print(k, end=\"\")\n",
    "    print()"
   ]
  },
  {
   "cell_type": "code",
   "execution_count": 71,
   "metadata": {},
   "outputs": [
    {
     "name": "stdout",
     "output_type": "stream",
     "text": [
      "5432*\n",
      "543*1\n",
      "54*21\n",
      "5*321\n",
      "*4321\n"
     ]
    }
   ],
   "source": [
    "n= 5 \n",
    "i=1  \n",
    "while(i<=n):\n",
    "    j=n  \n",
    "    while (j>=1):\n",
    "        if j!=i:  \n",
    "            print(j, end='')  \n",
    "        else:  \n",
    "            print('*', end='')  \n",
    "        j=j-1  \n",
    "    print(\"\")  \n",
    "    i=i+1; "
   ]
  },
  {
   "cell_type": "code",
   "execution_count": 76,
   "metadata": {},
   "outputs": [
    {
     "name": "stdout",
     "output_type": "stream",
     "text": [
      "********\n",
      "******\n",
      "****\n",
      "**\n"
     ]
    }
   ],
   "source": [
    "n = 4\n",
    "for i in range(n , 0, -1):\n",
    "    for s in range(i):\n",
    "        print(\"*\",end=\"\")\n",
    "    for j in range(n,n - i, -1):\n",
    "        print(\"*\", end=\"\")\n",
    "    \n",
    "    print()"
   ]
  },
  {
   "cell_type": "code",
   "execution_count": 79,
   "metadata": {},
   "outputs": [
    {
     "name": "stdout",
     "output_type": "stream",
     "text": [
      "   *\n",
      "  **\n",
      " ***\n",
      "****\n"
     ]
    }
   ],
   "source": [
    "n = 4\n",
    "for i in range(1, n+ 1, 1):\n",
    "    for s in range(n - i, 0 , -1):\n",
    "        print(\" \", end=\"\")\n",
    "    for j in range(i,0, -1):\n",
    "        print(\"*\", end=\"\")\n",
    "        \n",
    "    print()"
   ]
  },
  {
   "cell_type": "code",
   "execution_count": 84,
   "metadata": {},
   "outputs": [
    {
     "name": "stdout",
     "output_type": "stream",
     "text": [
      "****\n",
      " ***\n",
      "  **\n",
      "   *\n"
     ]
    }
   ],
   "source": [
    "n = 4\n",
    "for i in range( n , 0, -1):\n",
    "    for s in range(i , n, 1):\n",
    "        print(\" \", end=\"\")\n",
    "    for j in range(i):\n",
    "        print(\"*\", end=\"\" )\n",
    "    print() "
   ]
  },
  {
   "cell_type": "code",
   "execution_count": 93,
   "metadata": {},
   "outputs": [
    {
     "name": "stdout",
     "output_type": "stream",
     "text": [
      "***\n",
      " **\n",
      "  *\n",
      "\n",
      "**\n",
      " *\n",
      "\n"
     ]
    }
   ],
   "source": [
    "def ninjaPuzzle(n):\n",
    "    s = n\n",
    "    for i in range( n , 0, -1):\n",
    "        for s in range(i , n, 1):\n",
    "            print(\" \", end=\"\")\n",
    "        for j in range(i):\n",
    "            print(\"*\", end=\"\" )\n",
    "        print() \n",
    "        s = s - 1\n",
    " \n",
    "p = int(input())\n",
    "for i in range(p):\n",
    "    k = int(input())\n",
    "    ninjaPuzzle(k)\n",
    "    print()"
   ]
  },
  {
   "cell_type": "code",
   "execution_count": 91,
   "metadata": {},
   "outputs": [
    {
     "name": "stdout",
     "output_type": "stream",
     "text": [
      "***\n",
      " **\n",
      "  *\n",
      "\n",
      "**\n",
      " *\n",
      "\n"
     ]
    }
   ],
   "source": [
    "def print_pattern(N):\n",
    "    start_value = N\n",
    "    for i in range(N):\n",
    "        print(\" \" * i, end=\"\")\n",
    "        print(\"*\" * start_value)\n",
    "        start_value -= 1\n",
    "        \n",
    "test_cases = int(input())\n",
    "for i in range(test_cases):\n",
    "    N = int(input())\n",
    "    print_pattern(N)\n",
    "    print()  \n"
   ]
  },
  {
   "cell_type": "code",
   "execution_count": 96,
   "metadata": {},
   "outputs": [
    {
     "name": "stdout",
     "output_type": "stream",
     "text": [
      "[2, 3, 2]\n"
     ]
    }
   ],
   "source": [
    "# inputN = input(\"Enter multiple integers separated by spaces: \")\n",
    "# Nstr= inputN.split()\n",
    "inputN = input(\"Enter multiple integers separated by spaces: \").split()\n",
    "n = [int(num) for num in inputN]\n",
    "print(n)"
   ]
  },
  {
   "cell_type": "code",
   "execution_count": null,
   "metadata": {},
   "outputs": [],
   "source": [
    "inputN = input(\"Enter multiple integers separated by spaces: \").split()"
   ]
  },
  {
   "cell_type": "code",
   "execution_count": 120,
   "metadata": {},
   "outputs": [
    {
     "name": "stdout",
     "output_type": "stream",
     "text": [
      "3\n"
     ]
    }
   ],
   "source": [
    "def findGcd(x, y):\n",
    "\n",
    "  a = max(x, y)\n",
    "  b = min(x, y)\n",
    "  while b != 0:\n",
    "    a, b = b, a % b\n",
    "  return a\n",
    "\n",
    "# Example usage:\n",
    "x, y = int(input()) ,int(input())\n",
    "gcd_result = findGcd(x, y)\n",
    "print(gcd_result)"
   ]
  },
  {
   "cell_type": "code",
   "execution_count": 148,
   "metadata": {},
   "outputs": [
    {
     "name": "stdout",
     "output_type": "stream",
     "text": [
      "['3', '2']\n",
      "5\n",
      "***\n",
      " **\n",
      "  *\n",
      "3\n",
      "**\n",
      " *\n"
     ]
    }
   ],
   "source": [
    "def ninjaPuzzle(n):\n",
    "    for i in range( n , 0, -1):\n",
    "        for s in range(i , n, 1):\n",
    "            print(\" \", end=\"\")\n",
    "        for j in range(i):\n",
    "            print(\"*\", end=\"\" )\n",
    "        print() \n",
    "\n",
    "    # Write your Code and\n",
    "    # Print the output Pattern here only.\n",
    " \n",
    "\n",
    "p = int(input())\n",
    "for i in range(1):\n",
    "    k = input().split()\n",
    "    print(k)\n",
    "for j in range(p):\n",
    "\n",
    "    h = int(k[j])\n",
    "    ninjaPuzzle(h)"
   ]
  },
  {
   "cell_type": "code",
   "execution_count": 10,
   "metadata": {},
   "outputs": [
    {
     "name": "stdout",
     "output_type": "stream",
     "text": [
      "***\n",
      " **\n",
      "  *\n",
      "**\n",
      " *\n"
     ]
    }
   ],
   "source": [
    "def ninjaPuzzle(arr,p):\n",
    "    for n in arr:\n",
    "        for i in range( n , 0, -1):\n",
    "            for s in range(i , n, 1):\n",
    "                print(\" \", end=\"\")\n",
    "            for j in range(i):\n",
    "                print(\"*\", end=\"\" )\n",
    "            print(end= \"\\n\") \n",
    "\n",
    "p = int(input())\n",
    "arr = list(map(int, input().split()))\n",
    "ninjaPuzzle(arr,p)"
   ]
  },
  {
   "cell_type": "code",
   "execution_count": 127,
   "metadata": {},
   "outputs": [
    {
     "name": "stdout",
     "output_type": "stream",
     "text": [
      "**\n",
      " *\n"
     ]
    }
   ],
   "source": [
    "def ninjaPuzzle(n):\n",
    "\n",
    "  patterns = []\n",
    "  for i in range(n):\n",
    "    num_stars = n - i\n",
    "    pattern = \" \" * i + \"*\" * num_stars\n",
    "    patterns.append(pattern)\n",
    "\n",
    "  return patterns\n",
    "\n",
    "n = int(input())\n",
    "patterns = ninjaPuzzle(n)\n",
    "for pattern in patterns:\n",
    "  print(pattern)"
   ]
  },
  {
   "cell_type": "code",
   "execution_count": null,
   "metadata": {},
   "outputs": [],
   "source": [
    "def ninjaPuzzle(arr ,n):\n",
    "\n",
    "  patterns = []\n",
    "  for i in range(n):\n",
    "    num_stars = n - i\n",
    "    pattern = \" \" * i + \"*\" * num_stars\n",
    "    patterns.append(pattern)\n",
    "\n",
    "  return patterns\n",
    "\n",
    "\n",
    "n = int(input())\n",
    "arr = list(map(int, input().split()))\n",
    "print(ninjaPuzzle(arr, n))"
   ]
  },
  {
   "cell_type": "code",
   "execution_count": 128,
   "metadata": {},
   "outputs": [
    {
     "name": "stdout",
     "output_type": "stream",
     "text": [
      "***\n",
      " **\n",
      "  *\n",
      "**\n",
      " *\n"
     ]
    }
   ],
   "source": [
    "def ninjaPuzzle(n):\n",
    "\n",
    "  patterns = []\n",
    "  for i in range(n):\n",
    "    num_spaces = i\n",
    "    num_stars = n - i\n",
    "\n",
    "    pattern = \" \" * num_spaces + \"*\" * num_stars\n",
    "    patterns.append(pattern)\n",
    "\n",
    "  return patterns\n",
    "\n",
    "t = int(input())\n",
    "for i in range(t):\n",
    "  n = int(input())  \n",
    "  patterns = ninjaPuzzle(n)\n",
    "  for pattern in patterns:\n",
    "    print(pattern)"
   ]
  },
  {
   "cell_type": "code",
   "execution_count": null,
   "metadata": {},
   "outputs": [],
   "source": [
    "def ninjaPuzzle(n):\n",
    "    \n",
    "  patterns = []\n",
    "  for i in range(n):\n",
    "    num_spaces = i\n",
    "    num_stars = n - i\n",
    "\n",
    "    pattern = \" \" * num_spaces + \"*\" * num_stars\n",
    "    patterns.append(pattern)\n",
    "\n",
    "  return patterns\n",
    "\n",
    "t_and_n_values = map(int, input().split())\n",
    "t = t_and_n_values[0]  \n",
    "n_values = t_and_n_values[1:]  \n",
    "\n",
    "\n",
    "for n in n_values:\n",
    "  patterns = ninjaPuzzle(n)\n",
    "  for pattern in patterns:\n",
    "    print(pattern)"
   ]
  },
  {
   "cell_type": "code",
   "execution_count": null,
   "metadata": {},
   "outputs": [],
   "source": [
    "def ninjaPuzzle(n):\n",
    "    for i in range( n , 0, -1):\n",
    "        for s in range(i , n, 1):\n",
    "            print(\" \", end=\"\")\n",
    "        for j in range(i):\n",
    "            print(\"*\", end=\"\" )\n",
    "        print() \n",
    "\n",
    "    # Write your Code and\n",
    "    # Print the output Pattern here only.\n",
    " \n",
    "\n",
    "p = int(input())\n",
    "for i in range(1):\n",
    "    k = input().split()\n",
    "    print(k)\n",
    "    for j in range(p):\n",
    "        h = int(k[j])\n",
    "        ninjaPuzzle(h)"
   ]
  }
 ],
 "metadata": {
  "kernelspec": {
   "display_name": "Python 3",
   "language": "python",
   "name": "python3"
  },
  "language_info": {
   "codemirror_mode": {
    "name": "ipython",
    "version": 3
   },
   "file_extension": ".py",
   "mimetype": "text/x-python",
   "name": "python",
   "nbconvert_exporter": "python",
   "pygments_lexer": "ipython3",
   "version": "3.10.11"
  }
 },
 "nbformat": 4,
 "nbformat_minor": 2
}
