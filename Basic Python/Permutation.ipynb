{
 "cells": [
  {
   "cell_type": "markdown",
   "metadata": {},
   "source": [
    "### PERMUTATION"
   ]
  },
  {
   "cell_type": "code",
   "execution_count": 57,
   "metadata": {},
   "outputs": [
    {
     "data": {
      "text/plain": [
       "False"
      ]
     },
     "execution_count": 57,
     "metadata": {},
     "output_type": "execute_result"
    }
   ],
   "source": [
    "def isPermutation(string1, string2):\n",
    "    if sorted(string1) == sorted(string2):\n",
    "        return True\n",
    "    else:\n",
    "        return False\n",
    "\n",
    "\n",
    "string1= \"race\" \n",
    "string2 = \"rate\"\n",
    "# string1= \"abcde\" \n",
    "# string2 = \"baedc\"\n",
    "isPermutation(string1, string2)"
   ]
  },
  {
   "cell_type": "code",
   "execution_count": 56,
   "metadata": {},
   "outputs": [
    {
     "name": "stdout",
     "output_type": "stream",
     "text": [
      "r r\n",
      "a r\n",
      "a a\n",
      "c r\n",
      "c a\n",
      "c t\n",
      "c e\n"
     ]
    },
    {
     "data": {
      "text/plain": [
       "'false'"
      ]
     },
     "execution_count": 56,
     "metadata": {},
     "output_type": "execute_result"
    }
   ],
   "source": [
    "def isPermutation(string1, string2):\n",
    "    count = 0\n",
    "    for i in range(len(string1)):\n",
    "        for j in range(len(string2)):\n",
    "            print(string1[i], string2[j])\n",
    "            if (string1[i] == string2[j]):\n",
    "                count = 0\n",
    "                break\n",
    "            else:\n",
    "                count += 1\n",
    "            #print( count,len(string2))\n",
    "            \n",
    "            if count == (len(string2)):\n",
    "                return \"false\"\n",
    "            \n",
    "    \n",
    "    return \"true\"\n",
    "    \n",
    "\n",
    "\n",
    "\n",
    "string1= \"race\" \n",
    "string2 = \"rate\"\n",
    "# string1= \"abcde\" \n",
    "# string2 = \"baedc\"\n",
    "isPermutation(string1, string2)"
   ]
  }
 ],
 "metadata": {
  "kernelspec": {
   "display_name": "Python 3",
   "language": "python",
   "name": "python3"
  },
  "language_info": {
   "codemirror_mode": {
    "name": "ipython",
    "version": 3
   },
   "file_extension": ".py",
   "mimetype": "text/x-python",
   "name": "python",
   "nbconvert_exporter": "python",
   "pygments_lexer": "ipython3",
   "version": "3.10.11"
  }
 },
 "nbformat": 4,
 "nbformat_minor": 2
}
