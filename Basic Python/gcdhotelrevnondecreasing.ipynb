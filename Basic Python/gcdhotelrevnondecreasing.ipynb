{
 "cells": [
  {
   "cell_type": "markdown",
   "metadata": {},
   "source": [
    "### PRINT REVERSE"
   ]
  },
  {
   "cell_type": "code",
   "execution_count": 8,
   "metadata": {},
   "outputs": [
    {
     "name": "stdout",
     "output_type": "stream",
     "text": [
      "-1\n",
      "50\n",
      "40\n",
      "30\n",
      "20\n",
      "10\n"
     ]
    },
    {
     "data": {
      "text/plain": [
       "[50, 40, 30, 20, 10]"
      ]
     },
     "execution_count": 8,
     "metadata": {},
     "output_type": "execute_result"
    }
   ],
   "source": [
    "def printReverse(head) :\n",
    "    m  = len(head) - 1\n",
    "    newlst = []\n",
    "    for i in range(m, -1, - 1):\n",
    "        print(head[i])\n",
    "        if head[i] == -1:\n",
    "            continue\n",
    "        else:\n",
    "            newlst.append(head[i])\n",
    "            \n",
    "    return newlst\n",
    "\n",
    "head = [1, 2, 3, 4, 5, -1]\n",
    "head = [10, 20, 30, 40, 50, -1]\n",
    "printReverse(head)"
   ]
  },
  {
   "cell_type": "markdown",
   "metadata": {},
   "source": [
    "### HOTEL BOOKING"
   ]
  },
  {
   "cell_type": "code",
   "execution_count": 9,
   "metadata": {},
   "outputs": [
    {
     "name": "stdout",
     "output_type": "stream",
     "text": [
      "Total coins collected: 4\n"
     ]
    }
   ],
   "source": [
    "def handle_booking_queries(queries):\n",
    "  \n",
    "  coins = 0\n",
    "  rooms = [[False] * 26 for _ in range(10)]  # Initialize a 2D list to track room occupancy\n",
    "\n",
    "  for query in queries:\n",
    "    action, floor, room = query\n",
    "    floor = int(floor)\n",
    "    room_index = ord(room.upper()) - ord('A')\n",
    "\n",
    "    if action == \"+\":\n",
    "      if not rooms[floor][room_index]:\n",
    "        rooms[floor][room_index] = True\n",
    "        coins += 1\n",
    "      else:\n",
    "        print(f\"Error: Room {room} on floor {floor} is already booked\")\n",
    "    elif action == \"-\":\n",
    "      if rooms[floor][room_index]:\n",
    "        rooms[floor][room_index] = False\n",
    "    \n",
    "\n",
    "  return coins\n",
    "\n",
    "# Example usage\n",
    "queries = [\"+1A\", \"+3E\", \"-1A\", \"+4F\", \"+1A\", \"-3E\"]\n",
    "coins_collected = handle_booking_queries(queries)\n",
    "print(f\"Total coins collected: {coins_collected}\")\n"
   ]
  },
  {
   "cell_type": "markdown",
   "metadata": {},
   "source": [
    "### NON DECREASING ARRAY"
   ]
  },
  {
   "cell_type": "code",
   "execution_count": 10,
   "metadata": {},
   "outputs": [
    {
     "data": {
      "text/plain": [
       "'false'"
      ]
     },
     "execution_count": 10,
     "metadata": {},
     "output_type": "execute_result"
    }
   ],
   "source": [
    "def isPossible(arr, n):\n",
    "    flag = 0\n",
    "    for i in range(1, n - 1):\n",
    "        if arr[i] <= arr[i + 1]:\n",
    "           flag = 1\n",
    "        else:\n",
    "            flag = 0\n",
    "    \n",
    "    if flag == 1:\n",
    "        return \"true\"\n",
    "    else:\n",
    "        return \"false\"\n",
    "    \n",
    "arr = [8 , 4, 2]\n",
    "n = 3\n",
    "isPossible(arr, n)"
   ]
  },
  {
   "cell_type": "code",
   "execution_count": 11,
   "metadata": {},
   "outputs": [
    {
     "data": {
      "text/plain": [
       "'false'"
      ]
     },
     "execution_count": 11,
     "metadata": {},
     "output_type": "execute_result"
    }
   ],
   "source": [
    "def isPossible(arr, n):\n",
    "    for i in range(1, n - 1):\n",
    "        if arr[i] > arr[i + 1]:\n",
    "            flag = 0\n",
    "            break\n",
    "        else: \n",
    "            flag = 1\n",
    "\n",
    "    if flag == 1:\n",
    "        return \"true\"\n",
    "    elif flag == 0:\n",
    "        return \"false\"\n",
    "    \n",
    "arr = [8 , 4, 2]\n",
    "n = 3\n",
    "isPossible(arr, n)"
   ]
  },
  {
   "cell_type": "code",
   "execution_count": 12,
   "metadata": {},
   "outputs": [],
   "source": [
    "def trueorfalse(flag):       \n",
    "    if flag == 1:\n",
    "        return \"true\"\n",
    "    elif flag == 0:\n",
    "        return \"false\"\n",
    "\n",
    "def isPossible(arr, n):\n",
    "    for i in range(1, n - 1):\n",
    "        if arr[i] > arr[i + 1]:\n",
    "            flag = 0\n",
    "            break\n",
    "        else: \n",
    "            flag = 1\n",
    "       \n",
    "    trueorfalse(flag)\n",
    "\n",
    "\n",
    "    \n",
    "arr = [8 , 4, 2]\n",
    "n = 3\n",
    "isPossible(arr, n)"
   ]
  },
  {
   "cell_type": "code",
   "execution_count": 13,
   "metadata": {},
   "outputs": [
    {
     "data": {
      "text/plain": [
       "True"
      ]
     },
     "execution_count": 13,
     "metadata": {},
     "output_type": "execute_result"
    }
   ],
   "source": [
    "def isPossible(arr, n):  \n",
    "    count = 0\n",
    "    for i in range(len(arr) - 1):\n",
    "        if arr[i] > arr[i + 1]:\n",
    "            count += 1\n",
    "            if count > 1:\n",
    "                return False  # More than one decreasing pair\n",
    "\n",
    "            # Check which element to modify\n",
    "            if i > 0 and arr[i - 1] > arr[i + 1]:\n",
    "                arr[i + 1] = arr[i]  # Modify arr[i + 1]\n",
    "            else:\n",
    "                arr[i] = arr[i + 1]  # Modify arr[i]\n",
    "\n",
    "    return True\n",
    "\n",
    "arr = [8 , 1, 2]\n",
    "n = 3\n",
    "isPossible(arr, n)"
   ]
  },
  {
   "cell_type": "code",
   "execution_count": 14,
   "metadata": {},
   "outputs": [
    {
     "data": {
      "text/plain": [
       "'false'"
      ]
     },
     "execution_count": 14,
     "metadata": {},
     "output_type": "execute_result"
    }
   ],
   "source": [
    "def isPossible(arr, n):\n",
    "    flag = 0\n",
    "    for i in range(n - 1, 1, -1):\n",
    "        if arr[i] >= arr[i - 1]:\n",
    "            flag = flag + 1\n",
    "            if flag >= 1:\n",
    "                return \"true\"\n",
    "            else:\n",
    "                flag = 0\n",
    "                return \"false\"\n",
    "        else:\n",
    "            return \"false\"\n",
    "            \n",
    "arr = [-10, 10, 0, 10, 3]\n",
    "n = 3\n",
    "isPossible(arr, n)"
   ]
  },
  {
   "cell_type": "code",
   "execution_count": 15,
   "metadata": {},
   "outputs": [],
   "source": [
    "def isPossible(arr, n):\n",
    "    flag = 0\n",
    "    if n <= 1 :\n",
    "        return \"true\"\n",
    "    for i in range(n - 1, 1, -1):\n",
    "        if arr[i] >= arr[i - 1]:\n",
    "            flag = flag + 1\n",
    "            if flag >= 1:\n",
    "                return \"true\"\n",
    "            else:\n",
    "                return \"false\"\n",
    "\n",
    "            \n",
    "arr = [-10, 10, 0, 10, 3]\n",
    "n = 3\n",
    "isPossible(arr, n)"
   ]
  },
  {
   "cell_type": "markdown",
   "metadata": {},
   "source": [
    "## GCD SUM"
   ]
  },
  {
   "cell_type": "code",
   "execution_count": 16,
   "metadata": {},
   "outputs": [
    {
     "data": {
      "text/plain": [
       "20"
      ]
     },
     "execution_count": 16,
     "metadata": {},
     "output_type": "execute_result"
    }
   ],
   "source": [
    "def gcd(a, b):\n",
    "    while(b != 0):\n",
    "        temp = b\n",
    "        b = a % b\n",
    "        a = temp\n",
    "    return a\n",
    "\n",
    "def gcdSum(n):\n",
    "    answer = 0\n",
    "    # Iterate over each possible pairs.\n",
    "    for i in range(1, n + 1):\n",
    "        for j in range(i + 1, n + 1):\n",
    "            answer += gcd(i, j)\n",
    "    return answer\n",
    "            \n",
    "n = 6  \n",
    "gcdSum(n)"
   ]
  }
 ],
 "metadata": {
  "kernelspec": {
   "display_name": "Python 3",
   "language": "python",
   "name": "python3"
  },
  "language_info": {
   "codemirror_mode": {
    "name": "ipython",
    "version": 3
   },
   "file_extension": ".py",
   "mimetype": "text/x-python",
   "name": "python",
   "nbconvert_exporter": "python",
   "pygments_lexer": "ipython3",
   "version": "3.10.11"
  }
 },
 "nbformat": 4,
 "nbformat_minor": 2
}
