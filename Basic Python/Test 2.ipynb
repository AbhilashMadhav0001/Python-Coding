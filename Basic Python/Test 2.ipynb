{
 "cells": [
  {
   "cell_type": "markdown",
   "metadata": {},
   "source": [
    "## PRINT 2D ARRAY"
   ]
  },
  {
   "cell_type": "markdown",
   "metadata": {},
   "source": [
    "Problem statement\n",
    "\n",
    "Given a 2D integer array with n rows and m columns. Print the 0th row from input n times, 1st row n-1 times…..(n-1)th row will be printed 1 time."
   ]
  },
  {
   "cell_type": "markdown",
   "metadata": {},
   "source": [
    "Input format :\n",
    "\n",
    "Line 1 : No of rows (n) and no of columns (m) (separated by single space)\n",
    "\n",
    "Line 2 : Row 1 elements (separated by space)\n",
    "\n",
    "Line 3 : Row 2 elements (separated by space)\n",
    "\n",
    "Line 4 : and so on"
   ]
  },
  {
   "cell_type": "code",
   "execution_count": 46,
   "metadata": {},
   "outputs": [
    {
     "name": "stdout",
     "output_type": "stream",
     "text": [
      "1 2 3\n",
      "1 2 3\n",
      "1 2 3\n",
      "4 5 6\n",
      "4 5 6\n",
      "7 8 9\n"
     ]
    }
   ],
   "source": [
    "n, m = map(int, input().split())\n",
    "for i in range(n):\n",
    "    a = list(map(int, input().split()))\n",
    "    for j in range(n-i):\n",
    "        print(*a)"
   ]
  },
  {
   "cell_type": "code",
   "execution_count": 29,
   "metadata": {},
   "outputs": [
    {
     "name": "stdout",
     "output_type": "stream",
     "text": [
      "1 2 3 \n",
      "1 2 3 \n",
      "1 2 3 \n",
      "4 5 6 \n",
      "4 5 6 \n",
      "7 8 9 \n"
     ]
    }
   ],
   "source": [
    "def print2darray(mat, n , m ):\n",
    "    for i in range(n):\n",
    "        k = 0\n",
    "        while k < n - i:\n",
    "            for j in range(m):\n",
    "                print(mat[i][j] , end= \" \")\n",
    "            print()\n",
    "            k = k + 1\n",
    "            \n",
    "\n",
    "n =3\n",
    "m = 3\n",
    "mat = [[1 ,2, 3],[4, 5, 6],[7, 8, 9]]\n",
    "print2darray(mat, n , m )"
   ]
  },
  {
   "cell_type": "markdown",
   "metadata": {},
   "source": [
    "## MINIMUM LENGTH WORD "
   ]
  },
  {
   "cell_type": "markdown",
   "metadata": {},
   "source": [
    "Given a string S (that can contain multiple words), you need to find the word which has minimum length.\n",
    "\n",
    "Note : If multiple words are of same length, then answer will be first minimum length word in the string. Words are seperated by single space only."
   ]
  },
  {
   "cell_type": "code",
   "execution_count": 72,
   "metadata": {},
   "outputs": [
    {
     "name": "stdout",
     "output_type": "stream",
     "text": [
      "ba\n"
     ]
    }
   ],
   "source": [
    "s = input().split()\n",
    "l = []\n",
    "for i in s:\n",
    "    l.append(len(i))\n",
    "print(s[l.index(min(l))])"
   ]
  },
  {
   "cell_type": "code",
   "execution_count": 68,
   "metadata": {},
   "outputs": [
    {
     "data": {
      "text/plain": [
       "'a'"
      ]
     },
     "execution_count": 68,
     "metadata": {},
     "output_type": "execute_result"
    }
   ],
   "source": [
    "def minLenWord(s):\n",
    "    wordlist = s.split(\" \")\n",
    "    min1 = len(wordlist[0])\n",
    "    minword = wordlist[0]\n",
    "    for i in range(len(wordlist)):\n",
    "        if min1 > len(wordlist[i]):\n",
    "            min1 = len(wordlist[i])\n",
    "            minword = wordlist[i]\n",
    "    return minword\n",
    "            \n",
    "S = str(input())\n",
    "#S = \"aqwdqwd abwqdqwd bkjfkljrlfjlekrf cewfwef dewfwefw ewdwqd fqsqs gefewf hwefwef iewf jewf kewfwef lwded2e ba\"\n",
    "minLenWord(S)"
   ]
  },
  {
   "cell_type": "markdown",
   "metadata": {},
   "source": [
    "## LEADERS IN ARRAY"
   ]
  },
  {
   "cell_type": "markdown",
   "metadata": {},
   "source": [
    "Given an integer array A of size n. Find and print all the leaders present in the input array. An array element A[i] is called Leader, if all the elements following it (i.e. present at its right) are less than or equal to A[i].\n",
    "\n",
    "Print all the leader elements separated by space and in the same order they are present in the input array."
   ]
  },
  {
   "cell_type": "code",
   "execution_count": 107,
   "metadata": {},
   "outputs": [
    {
     "name": "stdout",
     "output_type": "stream",
     "text": [
      "[-1]\n",
      "34 2 0 -1\n"
     ]
    }
   ],
   "source": [
    "# n = int(input())\n",
    "# arr = list(map(int, input().split()))\n",
    "n = 6\n",
    "arr = [3, 12, 34, 2, 0, -1]\n",
    "ma = arr[-1]\n",
    "arr = arr[::-1]\n",
    "k = [arr[0]]\n",
    "# print(ma , arr, k)\n",
    "for i in range(1, n):\n",
    "    if arr[i] >= ma:\n",
    "        ma = arr[i]\n",
    "        k.append(arr[i])\n",
    "k = k[::-1]\n",
    "\n",
    "print(*k)"
   ]
  },
  {
   "cell_type": "code",
   "execution_count": 97,
   "metadata": {},
   "outputs": [
    {
     "name": "stdout",
     "output_type": "stream",
     "text": [
      "975 446 431 498 415 457 300 248 192 410 356 334 307 500 254 118 421 410 498 224 394 290 497 300 449 356 195 496 408 384 314 225 233 35 182 95 471 240 453 223 373 465 283 456 395 271 235 229 322 285 40 299 282 479 402 379 484 369 358 208 370 248 467 471 456 195 463 343 339 210 227 123 41 456 303 291 416 488 486 386 439 346 313 170 447 236 60 320 311 185 452 291 163 378 393 345 342 257 221 209 190 500 362 393 445 412 166 187 89 410 294 436 416 466 291 331 237 273 404 360 412 407 456 247 92 318 428 413 465 330 268 217 172 286 433 342 172 251 148 195 158 62 458 462 448 426 358 468 430 305 476 142 498 496 237 382 470 415 463 395 361 418 390 257 185 97 97 459 393 334 284 368 389 289 468 431 422 249 96 485 220 193 157 412 427 248 464 294 141 474 344 327 413 375 340 435 394 233 439 372 234 325 484 408 364 447 338 487 326 312 435 391 485 457 368 311 300 298 379 355 451 334 443 66 387 310 254 192 382 253 323 243 410 374 119 279 125 175 426 400 454 431 166 362 475 394 389 466 359 113 392 444 42 393 394 449 475 297 371 425 249 173 160 444 493 342 131 331 442 113 343 401 295 185 342 312 490 345 146 477 231 177 218 318 348 265 227 424 413 192 369 378 356 284 87 440 398 492 409 421 353 461 452 440 278 254 497 439 397 219 494 483 384 463 319 500 180 370 319 95 476 249 199 421 252 445 500 343 374 286 439 250 476 495 377 354 222 129 327 33 348 242 150 468 467 298 257 158 428 130 151 85 471 434 477 394 462 360 355 444 312 499 339 327 302 199 473 123 333 256 223 492 500 316 222 330 133 207 104 290 204 415 337 345 312 200 487 221 233 230 171 499 397 258 354 198 451 359 281 242 180 489 424 459 447 465 444 402 172 324 428 362 253 383 452 386 442 381 431 293 277 221 462 436 386 37 500 447 485 478 55 363 192 321 430 378 458 437 425 457 432 376 485 428 275 468 334 375 271 131 129 488 313 300 453 482 361 183 338 188 427 309 390 213 491 113 56 274 433 473 498 450 323 187 88 420 453 321 292 384 313 328 328 366 380 146 485 181 316 179\n"
     ]
    }
   ],
   "source": [
    "n = int(input())\n",
    "a = list(map(int, input().split()))\n",
    "for i in range(n - 1):\n",
    "    j = i + 1\n",
    "    if a[i] > a[j]:\n",
    "        print(a[i], end = \" \")\n",
    "print(a[j])"
   ]
  },
  {
   "cell_type": "code",
   "execution_count": 102,
   "metadata": {},
   "outputs": [
    {
     "name": "stdout",
     "output_type": "stream",
     "text": [
      "12 34 "
     ]
    }
   ],
   "source": [
    "n = int(input())\n",
    "a = list(map(int, input().split()))\n",
    "for i in range(n - 1):\n",
    "    j = i + 1\n",
    "    if a[i] <= a[j]:\n",
    "        print(a[j], end = \" \")"
   ]
  },
  {
   "cell_type": "markdown",
   "metadata": {},
   "source": [
    "## COUNT AND SAY"
   ]
  },
  {
   "cell_type": "markdown",
   "metadata": {},
   "source": [
    "Write as you speak is a special sequence of strings that starts with string “1” and after one iteration you rewrite the sequence as whatever you speak.\n",
    "\n",
    "Example :\n",
    "The first few iterations of the sequence are :\n",
    "First iteration: “1”\n",
    "    As we are starting with one.\n",
    "\n",
    "Second iteration: “11”\n",
    "    We speak “1” as   “one 1” then we write it as “11”\n",
    "\n",
    "Third iteration: “21”\n",
    "    We speak “11” as “Two 1” then we write it as “21”\n",
    "\n",
    "Fourth iteration: “1211”\n",
    "    We speak “21” as “one 2, one 1”  then we write it as “1211”\n",
    "\n",
    "Fifth iteration: “111221”\n",
    "    We speak “1211” as “one 1, one 2, two 1” then we write it as “111221”\n",
    "\n",
    "Sixth iteration: “312211”\n",
    "    We speak “111221” as “three 1, two 2, one 1” then we write it as “312211”\n",
    "You will be given a single positive integer N, Your task is to write the sequence after N iterations."
   ]
  },
  {
   "cell_type": "code",
   "execution_count": 112,
   "metadata": {},
   "outputs": [
    {
     "name": "stdout",
     "output_type": "stream",
     "text": [
      "1211\n"
     ]
    }
   ],
   "source": [
    "def write_as_you_speak(n):\n",
    "    sequence = \"1\"\n",
    "    for _ in range(1, n):\n",
    "        new_sequence = \"\"\n",
    "        count = 1\n",
    "        prev_char = sequence[0]\n",
    "        for char in sequence[1:]:\n",
    "            if char == prev_char:\n",
    "                count += 1\n",
    "            else:\n",
    "                new_sequence += str(count) + prev_char\n",
    "                count = 1\n",
    "                prev_char = char\n",
    "        new_sequence += str(count) + prev_char\n",
    "        sequence = new_sequence\n",
    "    return sequence\n",
    "\n",
    "\n",
    "n = 4\n",
    "sequence = write_as_you_speak(n)\n",
    "print(sequence)"
   ]
  }
 ],
 "metadata": {
  "kernelspec": {
   "display_name": "Python 3",
   "language": "python",
   "name": "python3"
  },
  "language_info": {
   "codemirror_mode": {
    "name": "ipython",
    "version": 3
   },
   "file_extension": ".py",
   "mimetype": "text/x-python",
   "name": "python",
   "nbconvert_exporter": "python",
   "pygments_lexer": "ipython3",
   "version": "3.10.11"
  }
 },
 "nbformat": 4,
 "nbformat_minor": 2
}
