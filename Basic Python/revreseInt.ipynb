{
 "cells": [
  {
   "cell_type": "markdown",
   "metadata": {},
   "source": [
    "##  Reverse Integer"
   ]
  },
  {
   "cell_type": "code",
   "execution_count": null,
   "metadata": {},
   "outputs": [],
   "source": [
    "def reverse(x):\n",
    "    x = str(x)\n",
    "    if x[0] == '-':\n",
    "        a = int('-' + x[-1:0:-1])\n",
    "        if a >= -2147483648 and a <= 2147483647:\n",
    "            return a\n",
    "        else:\n",
    "            return 0\n",
    "    else:\n",
    "        a = int(x[::-1])\n",
    "        print(a)\n",
    "    if a >= -2147483648 and a<= 2147483647:\n",
    "        return a\n",
    "    else:\n",
    "        return 0\n",
    "            \n",
    "x = 321\n",
    "reverse(x)"
   ]
  },
  {
   "cell_type": "code",
   "execution_count": null,
   "metadata": {},
   "outputs": [],
   "source": [
    "x = 123\n",
    "x = str(x)\n",
    "a = int(x[::-1])\n",
    "print(a)"
   ]
  }
 ],
 "metadata": {
  "kernelspec": {
   "display_name": "Python 3",
   "language": "python",
   "name": "python3"
  },
  "language_info": {
   "name": "python",
   "version": "3.10.11"
  }
 },
 "nbformat": 4,
 "nbformat_minor": 2
}
