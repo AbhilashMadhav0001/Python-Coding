{
 "cells": [
  {
   "cell_type": "code",
   "execution_count": 7,
   "metadata": {},
   "outputs": [
    {
     "data": {
      "text/plain": [
       "'a3b2c2dsa'"
      ]
     },
     "execution_count": 7,
     "metadata": {},
     "output_type": "execute_result"
    }
   ],
   "source": [
    "def getCompressedString(input) :\n",
    "    newstr = ''\n",
    "    i = 0\n",
    "    while i < len(input):\n",
    "        j = i + 1\n",
    "        count = 1\n",
    "        while j < len(input) and input[j] == input[i]:\n",
    "            j = j + 1\n",
    "            count += 1\n",
    "        if count == 1:\n",
    "            newstr += input[i]\n",
    "        else:\n",
    "            newstr += input[i] + str(count)\n",
    "        i = j\n",
    "    return newstr\n",
    "    \n",
    "    \n",
    "    \n",
    "input = \"aaabbccdsa\"   \n",
    "getCompressedString(input)"
   ]
  },
  {
   "cell_type": "markdown",
   "metadata": {},
   "source": [
    "### PASSWORD PROBLEM"
   ]
  },
  {
   "cell_type": "code",
   "execution_count": 4,
   "metadata": {},
   "outputs": [
    {
     "data": {
      "text/plain": [
       "'chbfflkjpdhv'"
      ]
     },
     "execution_count": 4,
     "metadata": {},
     "output_type": "execute_result"
    }
   ],
   "source": [
    "def password(string,n):\n",
    "    newstr =\"\"\n",
    "    vowel = \"aeiou\"\n",
    "    for i in string:\n",
    "        if i in vowel:\n",
    "            temp = ord(i) + 1\n",
    "            i = chr(temp)\n",
    "        newstr += i\n",
    "    return newstr\n",
    "\n",
    "\n",
    "n = 12\n",
    "string = \"chafelkjodhu\"\n",
    "password(string,n)"
   ]
  },
  {
   "cell_type": "code",
   "execution_count": 13,
   "metadata": {},
   "outputs": [
    {
     "name": "stdout",
     "output_type": "stream",
     "text": [
      "x\n"
     ]
    }
   ],
   "source": [
    "ord(\"y\") - 1\n",
    "print(chr(ord(\"y\") - 1))"
   ]
  }
 ],
 "metadata": {
  "kernelspec": {
   "display_name": "Python 3",
   "language": "python",
   "name": "python3"
  },
  "language_info": {
   "codemirror_mode": {
    "name": "ipython",
    "version": 3
   },
   "file_extension": ".py",
   "mimetype": "text/x-python",
   "name": "python",
   "nbconvert_exporter": "python",
   "pygments_lexer": "ipython3",
   "version": "3.10.11"
  }
 },
 "nbformat": 4,
 "nbformat_minor": 2
}
