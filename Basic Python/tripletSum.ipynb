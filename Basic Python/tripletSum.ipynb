{
 "cells": [
  {
   "cell_type": "markdown",
   "metadata": {},
   "source": [
    "### Find Triplet"
   ]
  },
  {
   "cell_type": "markdown",
   "metadata": {},
   "source": [
    "Problem statement\n",
    "You have been given a random integer array/list(ARR) and a number X. \n",
    "\n",
    "Find and return the number of triplets in the array/list which sum to X.\n",
    "\n",
    "Note :\n",
    "Given array/list can contain duplicate elements.\n",
    "\n",
    "Detailed explanation ( Input/output format, Notes, Images )\n",
    "\n",
    "Constraints :\n",
    "1 <= t <= 50\n",
    "0 <= N <= 10^2\n",
    "0 <= X <= 10^9\n",
    "Time Limit: 1 sec\n",
    "\n",
    "Sample Input 1:\n",
    "1\n",
    "\n",
    "7\n",
    "\n",
    "1 2 3 4 5 6 7 \n",
    "\n",
    "12\n",
    "\n",
    "Sample Output 1:\n",
    "5"
   ]
  },
  {
   "cell_type": "code",
   "execution_count": 2,
   "metadata": {},
   "outputs": [
    {
     "data": {
      "text/plain": [
       "5"
      ]
     },
     "execution_count": 2,
     "metadata": {},
     "output_type": "execute_result"
    }
   ],
   "source": [
    "def findTriplet(arr, n, x) :\n",
    "    count = 0\n",
    "    for i in range(n):\n",
    "        for j in range(i + 1, n):\n",
    "            for k in range(j +1 , n):\n",
    "                if arr[i] + arr[j] + arr[k] == x:\n",
    "                    count = count + 1\n",
    "    return count\n",
    "    \n",
    "    \n",
    "\n",
    "\n",
    "n =7\n",
    "arr = [1, 2, 3,  4,  5,  6,  7] \n",
    "x = 12\n",
    "findTriplet(arr, n , x)"
   ]
  }
 ],
 "metadata": {
  "kernelspec": {
   "display_name": "Python 3",
   "language": "python",
   "name": "python3"
  },
  "language_info": {
   "codemirror_mode": {
    "name": "ipython",
    "version": 3
   },
   "file_extension": ".py",
   "mimetype": "text/x-python",
   "name": "python",
   "nbconvert_exporter": "python",
   "pygments_lexer": "ipython3",
   "version": "3.10.11"
  }
 },
 "nbformat": 4,
 "nbformat_minor": 2
}
