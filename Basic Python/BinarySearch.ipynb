{
 "cells": [
  {
   "cell_type": "markdown",
   "metadata": {},
   "source": [
    "### Binary Search"
   ]
  },
  {
   "cell_type": "code",
   "execution_count": 6,
   "metadata": {},
   "outputs": [
    {
     "data": {
      "text/plain": [
       "-1"
      ]
     },
     "execution_count": 6,
     "metadata": {},
     "output_type": "execute_result"
    }
   ],
   "source": [
    "def search(cards,n ,target):\n",
    "    lo = 0\n",
    "    hi = n - 1\n",
    "    while lo <= hi:\n",
    "        mid = (lo + hi) // 2\n",
    "        mid_num = cards[mid]\n",
    "        if mid_num == target:\n",
    "            return mid\n",
    "        elif mid_num > target:\n",
    "            hi = mid - 1\n",
    "        else:\n",
    "            lo = mid + 1                \n",
    "    else:\n",
    "        return - 1\n",
    "\n",
    "\n",
    "cards= [1, 3, 7, 9, 11, 12, 45]\n",
    "n =  7 \n",
    "target = 10\n",
    "search(cards,n ,target)"
   ]
  }
 ],
 "metadata": {
  "kernelspec": {
   "display_name": "Python 3",
   "language": "python",
   "name": "python3"
  },
  "language_info": {
   "codemirror_mode": {
    "name": "ipython",
    "version": 3
   },
   "file_extension": ".py",
   "mimetype": "text/x-python",
   "name": "python",
   "nbconvert_exporter": "python",
   "pygments_lexer": "ipython3",
   "version": "3.10.11"
  }
 },
 "nbformat": 4,
 "nbformat_minor": 2
}
