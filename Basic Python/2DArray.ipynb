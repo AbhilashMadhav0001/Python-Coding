{
 "cells": [
  {
   "cell_type": "markdown",
   "metadata": {},
   "source": [
    "# 2D ARRAY/LISTS"
   ]
  },
  {
   "cell_type": "markdown",
   "metadata": {},
   "source": [
    "### Row Wise Transversal"
   ]
  },
  {
   "cell_type": "code",
   "execution_count": 9,
   "metadata": {},
   "outputs": [
    {
     "name": "stdout",
     "output_type": "stream",
     "text": [
      "1 2 3 4 5 6 "
     ]
    }
   ],
   "source": [
    "def printRowWise(A ):\n",
    "    for row in A:\n",
    "        for element in row:\n",
    "            print(element, end = \" \")\n",
    "\n",
    "A = [ [1, 2, 3], [4, 5, 6] ]\n",
    "printRowWise(A)"
   ]
  },
  {
   "cell_type": "code",
   "execution_count": 11,
   "metadata": {},
   "outputs": [
    {
     "data": {
      "text/plain": [
       "[1, 2, 3, 4, 5, 6]"
      ]
     },
     "execution_count": 11,
     "metadata": {},
     "output_type": "execute_result"
    }
   ],
   "source": [
    "def printRowWise(A ):\n",
    "        newlst = []\n",
    "        for row in A:\n",
    "            for element in row:\n",
    "                newlst.append(element)\n",
    "        return newlst\n",
    "    \n",
    "A = [ [1, 2, 3], [4, 5, 6] ]\n",
    "printRowWise(A)"
   ]
  },
  {
   "cell_type": "markdown",
   "metadata": {},
   "source": [
    "### Column Wise Transversal"
   ]
  },
  {
   "cell_type": "code",
   "execution_count": 14,
   "metadata": {},
   "outputs": [
    {
     "name": "stdout",
     "output_type": "stream",
     "text": [
      "1\n",
      "4\n",
      "2\n",
      "5\n",
      "3\n",
      "6\n"
     ]
    }
   ],
   "source": [
    "def printColWise(A):\n",
    "    for col in range(len(A[0])):\n",
    "        for row in range(len(A)):\n",
    "            print(A[row][col])\n",
    "\n",
    "\n",
    "A = [ [1, 2, 3], [4, 5, 6] ]\n",
    "printColWise(A)"
   ]
  },
  {
   "cell_type": "markdown",
   "metadata": {},
   "source": [
    "### ROW WISE SUM"
   ]
  },
  {
   "cell_type": "code",
   "execution_count": 4,
   "metadata": {},
   "outputs": [
    {
     "name": "stdout",
     "output_type": "stream",
     "text": [
      "3 7 11 15 "
     ]
    }
   ],
   "source": [
    "def rowWiseSum(mat, nRows, mCols):\n",
    "    for i in range(nRows):\n",
    "        sum = 0\n",
    "        for j in range(mCols):\n",
    "            sum += mat[i][j]\n",
    "            \n",
    "        print(sum, end = \" \")\n",
    "\n",
    "\n",
    "nRows = 4\n",
    "mCols = 2\n",
    "mat = [[1, 2 ],[3, 4 ],[5 ,6 ],[7 ,8 ]]\n",
    "rowWiseSum(mat, nRows, mCols)\n"
   ]
  },
  {
   "cell_type": "code",
   "execution_count": 5,
   "metadata": {},
   "outputs": [
    {
     "name": "stdout",
     "output_type": "stream",
     "text": [
      "6 15 "
     ]
    }
   ],
   "source": [
    "def rowWiseSum(mat, nRows, mCols):\n",
    "    for i in range(nRows):\n",
    "        sum = 0\n",
    "        for j in range(mCols):\n",
    "            sum += mat[i][j]\n",
    "            \n",
    "        print(sum, end = \" \")\n",
    "\n",
    "\n",
    "mat = [[1, 2 ],[3, 4 ],[5 ,6 ],[7 ,8 ]]\n",
    "mat = [ [1, 2, 3], [4, 5, 6] ]\n",
    "nRows = len(mat)\n",
    "mCols = len(mat[0])\n",
    "rowWiseSum(mat, nRows, mCols)"
   ]
  }
 ],
 "metadata": {
  "kernelspec": {
   "display_name": "Python 3",
   "language": "python",
   "name": "python3"
  },
  "language_info": {
   "codemirror_mode": {
    "name": "ipython",
    "version": 3
   },
   "file_extension": ".py",
   "mimetype": "text/x-python",
   "name": "python",
   "nbconvert_exporter": "python",
   "pygments_lexer": "ipython3",
   "version": "3.10.11"
  }
 },
 "nbformat": 4,
 "nbformat_minor": 2
}
