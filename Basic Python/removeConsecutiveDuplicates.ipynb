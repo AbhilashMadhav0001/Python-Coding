{
 "cells": [
  {
   "cell_type": "markdown",
   "metadata": {},
   "source": [
    "## REPLACE CHARACTER IN STRING"
   ]
  },
  {
   "cell_type": "code",
   "execution_count": 1,
   "metadata": {},
   "outputs": [
    {
     "name": "stdout",
     "output_type": "stream",
     "text": [
      "dsabcdhcdkncihcndsho\n"
     ]
    }
   ],
   "source": [
    "def replace(str, char1, char2):\n",
    "    newstr =\"\"\n",
    "    for char in str:\n",
    "        if (char == char1):\n",
    "            newstr += char2\n",
    "        else:\n",
    "            newstr += char\n",
    "            \n",
    "    return newstr\n",
    "\n",
    "str1 = \"fsabcdhcdkncihcndsho\"\n",
    "str1 = replace(str1, 'f', 'd')\n",
    "print(str1)"
   ]
  },
  {
   "cell_type": "markdown",
   "metadata": {},
   "source": [
    "## REMOVE CONSECUTIVE DUPLICATES"
   ]
  },
  {
   "cell_type": "code",
   "execution_count": 47,
   "metadata": {},
   "outputs": [
    {
     "data": {
      "text/plain": [
       "'xyzx'"
      ]
     },
     "execution_count": 47,
     "metadata": {},
     "output_type": "execute_result"
    }
   ],
   "source": [
    "def removeConsecutiveDuplicates(string) :\n",
    "    newstr = ''\n",
    "    i = 0\n",
    "    while i < len(string):\n",
    "        j = i + 1\n",
    "        while j < len(string) and string[j] == string[i]:\n",
    "            j = j + 1\n",
    "        newstr += string[i]\n",
    "        i = j\n",
    "    return newstr\n",
    "\n",
    "\n",
    "#string = \"aabccbaa\"\n",
    "string = \"xxyyzxx\"\n",
    "removeConsecutiveDuplicates(string)"
   ]
  },
  {
   "cell_type": "code",
   "execution_count": 54,
   "metadata": {},
   "outputs": [
    {
     "data": {
      "text/plain": [
       "'abcba'"
      ]
     },
     "execution_count": 54,
     "metadata": {},
     "output_type": "execute_result"
    }
   ],
   "source": [
    "def removeConsecutiveDuplicates(string) :\n",
    "    newstr =\"\"\n",
    "    i = 0\n",
    "    while i < len(string):\n",
    "        j = i + 1\n",
    "        while j < len(string) and string[j] == string[i] :\n",
    "            j = j + 1\n",
    "        newstr += string[i]\n",
    "        i = j\n",
    "    return newstr\n",
    "    \n",
    "    \n",
    "string = \"aabccbaa\"\n",
    "removeConsecutiveDuplicates(string)"
   ]
  },
  {
   "cell_type": "code",
   "execution_count": 9,
   "metadata": {},
   "outputs": [
    {
     "name": "stdout",
     "output_type": "stream",
     "text": [
      "xyyzxx\n",
      "xyzxx\n",
      "xyzxx\n",
      "yzxx\n"
     ]
    }
   ],
   "source": [
    "def removeConsecutiveDuplicates(string) :\n",
    "    i = 0\n",
    "    k = len(string)\n",
    "    while i < k :\n",
    "        j = i + 1\n",
    "        k = k - 1\n",
    "        if string[i] == string[j]:\n",
    "            string = string.replace(string[j],\"\", 1)\n",
    "            \n",
    "        i = i + 1\n",
    "        print(string)\n",
    "\n",
    "\n",
    "\n",
    "string = \"xxyyzxx\"\n",
    "removeConsecutiveDuplicates(string)"
   ]
  },
  {
   "cell_type": "code",
   "execution_count": 10,
   "metadata": {},
   "outputs": [
    {
     "data": {
      "text/plain": [
       "'xyzx'"
      ]
     },
     "execution_count": 10,
     "metadata": {},
     "output_type": "execute_result"
    }
   ],
   "source": [
    "def removeConsecutiveDuplicates(string) :\n",
    "    newstr = \"\"\n",
    "    i = 0\n",
    "    k = len(string)\n",
    "    while i < k :\n",
    "        j = i + 1\n",
    "        if string[i] == string[j]:\n",
    "            string = string.replace(string[j],\"\", 1)\n",
    "            newstr += string[i]\n",
    "            k = k - 1\n",
    "        else:\n",
    "            newstr += string[i]\n",
    "        i = i + 1\n",
    "    return newstr\n",
    "\n",
    "\n",
    "\n",
    "string = \"xxyyzxx\"\n",
    "removeConsecutiveDuplicates(string)"
   ]
  },
  {
   "cell_type": "code",
   "execution_count": 42,
   "metadata": {},
   "outputs": [
    {
     "name": "stdout",
     "output_type": "stream",
     "text": [
      "0\n",
      "1\n"
     ]
    },
    {
     "data": {
      "text/plain": [
       "'aa'"
      ]
     },
     "execution_count": 42,
     "metadata": {},
     "output_type": "execute_result"
    }
   ],
   "source": [
    "def removeConsecutiveDuplicates(string) :\n",
    "\tnewstr = \"\"\n",
    "\ti = 0\n",
    "\tk = len(string)\n",
    "\tif k == 1:\n",
    "\t\treturn string\n",
    "\twhile i < k :\n",
    "\t\tj = i + 1\n",
    "\t\tif string[i] == string[j]:\n",
    "\t\t\tnewstr += string[i]\n",
    "\t\t\tprint(i)\n",
    "\t\t\tstring = string.replace(string[j],\"\", 1)\n",
    "\t\t\tk = k - 1\n",
    "\t\t\twhile j < k + 1:\n",
    "\t\t\t\tif string[j] == string[j + 1]:\n",
    "\t\t\t\t\tk = k - 1\n",
    "\t\t\t\t\tj = j + 1\n",
    "    \n",
    "\t\t\t\n",
    "\t\telse :\n",
    "\t\t\tnewstr += string[i]\n",
    "   \n",
    "\t\ti = i + 1\t\t\t\t\n",
    " \n",
    "\treturn newstr\n",
    "\n",
    "string = \"aaaaaaaaa\"\n",
    "removeConsecutiveDuplicates(string)"
   ]
  },
  {
   "cell_type": "code",
   "execution_count": 20,
   "metadata": {},
   "outputs": [
    {
     "data": {
      "text/plain": [
       "'aaa'"
      ]
     },
     "execution_count": 20,
     "metadata": {},
     "output_type": "execute_result"
    }
   ],
   "source": [
    "def removeConsecutiveDuplicates(string) :\n",
    "\tnewstr = \"\"\n",
    "\ti = 0\n",
    "\tk = len(string)\n",
    "\tif k == 1:\n",
    "\t\treturn string\n",
    "\twhile i < k :\n",
    "\t\tj = i + 1\n",
    "\t\tif string[i] == string[j]:\n",
    "\t\t\tnewstr += string[i]\n",
    "\t\t\tstring = string.replace(string[j],\"\",1)\n",
    "\t\t\tk = k - 1\n",
    "\t\telse:\n",
    "\t\t\tnewstr += string[i]\n",
    "\t\ti = i + 1\t\t\t\t\n",
    "\treturn newstr\n",
    "\n",
    "\n",
    "string = \"aaaaaa\"\n",
    "removeConsecutiveDuplicates(string)"
   ]
  },
  {
   "cell_type": "code",
   "execution_count": 16,
   "metadata": {},
   "outputs": [
    {
     "data": {
      "text/plain": [
       "'aaaaa'"
      ]
     },
     "execution_count": 16,
     "metadata": {},
     "output_type": "execute_result"
    }
   ],
   "source": [
    "string = \"aaaaaa\"\n",
    "\n",
    "string.replace(\"a\",\"\",1)"
   ]
  }
 ],
 "metadata": {
  "kernelspec": {
   "display_name": "Python 3",
   "language": "python",
   "name": "python3"
  },
  "language_info": {
   "codemirror_mode": {
    "name": "ipython",
    "version": 3
   },
   "file_extension": ".py",
   "mimetype": "text/x-python",
   "name": "python",
   "nbconvert_exporter": "python",
   "pygments_lexer": "ipython3",
   "version": "3.10.11"
  }
 },
 "nbformat": 4,
 "nbformat_minor": 2
}
