{
 "cells": [
  {
   "cell_type": "markdown",
   "metadata": {},
   "source": [
    "### List Tricks Methods"
   ]
  },
  {
   "cell_type": "code",
   "execution_count": 1,
   "metadata": {},
   "outputs": [
    {
     "name": "stdout",
     "output_type": "stream",
     "text": [
      "[0, 4, 16, 36, 64, 100, 144, 196, 256, 324, 400, 484, 576, 676, 784, 900, 1024, 1156, 1296, 1444, 1600, 1764, 1936, 2116, 2304, 2500, 2704, 2916, 3136, 3364, 3600, 3844, 4096, 4356, 4624, 4900, 5184, 5476, 5776, 6084, 6400, 6724, 7056, 7396, 7744, 8100, 8464, 8836, 9216, 9604] "
     ]
    }
   ],
   "source": [
    "even_squares = [i * i for i in range(100) if i % 2 == 0]\n",
    "print(even_squares, end = \" \")"
   ]
  },
  {
   "cell_type": "code",
   "execution_count": 1,
   "metadata": {},
   "outputs": [
    {
     "data": {
      "text/plain": [
       "[1, 2, 3, 4, 5, 6]"
      ]
     },
     "execution_count": 1,
     "metadata": {},
     "output_type": "execute_result"
    }
   ],
   "source": [
    "arr = [int(ele) for ele in input().split()]\n",
    "arr"
   ]
  },
  {
   "cell_type": "code",
   "execution_count": 2,
   "metadata": {},
   "outputs": [
    {
     "data": {
      "text/plain": [
       "[1, 2, 3, 4, 5]"
      ]
     },
     "execution_count": 2,
     "metadata": {},
     "output_type": "execute_result"
    }
   ],
   "source": [
    "n=int(input())\n",
    "arr=list(int(i) for i in input().strip().split(' '))\n",
    "arr"
   ]
  },
  {
   "cell_type": "code",
   "execution_count": null,
   "metadata": {},
   "outputs": [],
   "source": [
    "n, m = map(int, input().split())"
   ]
  },
  {
   "cell_type": "code",
   "execution_count": 2,
   "metadata": {},
   "outputs": [
    {
     "name": "stdout",
     "output_type": "stream",
     "text": [
      "[3, 12, 34, 2, 0, -1]\n",
      "3 12 34 2 0 -1\n"
     ]
    }
   ],
   "source": [
    "arr = [3, 12, 34, 2, 0, -1]\n",
    "print(arr)\n",
    "print(*arr)"
   ]
  },
  {
   "cell_type": "code",
   "execution_count": 12,
   "metadata": {},
   "outputs": [
    {
     "name": "stdout",
     "output_type": "stream",
     "text": [
      "[[], [2.5]]\n"
     ]
    }
   ],
   "source": [
    "list = [[]]*2\n",
    "list[1] = [2.5]\n",
    "print(list)"
   ]
  },
  {
   "cell_type": "code",
   "execution_count": 13,
   "metadata": {},
   "outputs": [
    {
     "name": "stdout",
     "output_type": "stream",
     "text": [
      "[[], [2.5]]\n"
     ]
    }
   ],
   "source": [
    "list = [[]]\n",
    "list.append([2.5])\n",
    "print(list)"
   ]
  },
  {
   "cell_type": "code",
   "execution_count": 14,
   "metadata": {},
   "outputs": [
    {
     "name": "stdout",
     "output_type": "stream",
     "text": [
      "[[3.5], [2.5]]\n"
     ]
    }
   ],
   "source": [
    "list = [[],[]]\n",
    "list[1].append(2.5)\n",
    "list[0].append(3.5)\n",
    "print(list)"
   ]
  },
  {
   "cell_type": "code",
   "execution_count": 15,
   "metadata": {},
   "outputs": [
    {
     "name": "stdout",
     "output_type": "stream",
     "text": [
      "[[], [2], [3]]\n"
     ]
    }
   ],
   "source": [
    "list = [[]]\n",
    "list.append([2])\n",
    "list.append([3])\n",
    "\n",
    "print(list)"
   ]
  },
  {
   "cell_type": "code",
   "execution_count": 3,
   "metadata": {},
   "outputs": [
    {
     "name": "stdout",
     "output_type": "stream",
     "text": [
      "[[], []]\n"
     ]
    }
   ],
   "source": [
    "lst = [[] for _ in range(2)]\n",
    "print(lst)"
   ]
  },
  {
   "cell_type": "code",
   "execution_count": 9,
   "metadata": {},
   "outputs": [
    {
     "name": "stdout",
     "output_type": "stream",
     "text": [
      "[[0, 0], [0, 0], [0, 0]]\n"
     ]
    }
   ],
   "source": [
    "n = 2\n",
    "m = 3\n",
    "mat = [[0 for _ in range(n)] for _ in range(m)]\n",
    "print(mat)"
   ]
  },
  {
   "cell_type": "code",
   "execution_count": null,
   "metadata": {},
   "outputs": [
    {
     "data": {
      "text/plain": [
       "[1, 2, 3, 4, 5, 6, 7, 8, 9]"
      ]
     },
     "metadata": {},
     "output_type": "display_data"
    }
   ],
   "source": [
    "mat = list(map(int, input().split(\" \")))\n",
    "mat"
   ]
  },
  {
   "cell_type": "code",
   "execution_count": null,
   "metadata": {},
   "outputs": [
    {
     "data": {
      "text/plain": [
       "[[0, 0, 0], [0, 0, 0], [0, 0, 0]]"
      ]
     },
     "metadata": {},
     "output_type": "display_data"
    }
   ],
   "source": [
    "n , m = input().split()\n",
    "n = int(n)\n",
    "m = int(m)\n",
    "mat = [[0 for _ in range(n)] for _ in range(m)]\n",
    "mat"
   ]
  },
  {
   "cell_type": "code",
   "execution_count": null,
   "metadata": {},
   "outputs": [
    {
     "data": {
      "text/plain": [
       "[[0, 0, 0], [0, 0, 0], [0, 0, 0]]"
      ]
     },
     "metadata": {},
     "output_type": "display_data"
    }
   ],
   "source": [
    "\n",
    "\n",
    "n , m = input().split()\n",
    "n = int(n)\n",
    "m = int(m)\n",
    "entries = list(map(int, input().split()))\n",
    "\n",
    "mat"
   ]
  },
  {
   "cell_type": "code",
   "execution_count": 23,
   "metadata": {},
   "outputs": [
    {
     "name": "stdout",
     "output_type": "stream",
     "text": [
      "2\n",
      "2\n",
      "2\n"
     ]
    }
   ],
   "source": [
    "result = [[1, 1], [2, 2], [4, 4]]\n",
    "for element in result:\n",
    "    print(len(element)) "
   ]
  },
  {
   "cell_type": "code",
   "execution_count": 29,
   "metadata": {},
   "outputs": [
    {
     "name": "stdout",
     "output_type": "stream",
     "text": [
      "{1: 2, 2: 2, 3: 2, 4: 2}\n"
     ]
    }
   ],
   "source": [
    "arr = [1,1,2,2,3,4,4,3]\n",
    "\n",
    "element_counts = {}\n",
    "for num in arr:\n",
    "    element_counts[num] = element_counts.get(num, 0) + 1\n",
    "    \n",
    "print(element_counts)"
   ]
  },
  {
   "cell_type": "code",
   "execution_count": 30,
   "metadata": {},
   "outputs": [
    {
     "name": "stdout",
     "output_type": "stream",
     "text": [
      "{1: 2, 2: 2, 3: 2, 4: 2}\n"
     ]
    }
   ],
   "source": [
    "arr = [1,1,2,2,3,4,4, 3]\n",
    "\n",
    "element_counts = {}\n",
    "for num in arr:\n",
    "    if num in element_counts:\n",
    "        element_counts[num] += 1\n",
    "    else:\n",
    "        element_counts[num] = 1\n",
    "        \n",
    "print(element_counts)"
   ]
  },
  {
   "cell_type": "code",
   "execution_count": 2,
   "metadata": {},
   "outputs": [
    {
     "name": "stdout",
     "output_type": "stream",
     "text": [
      "6 9 \n",
      "8 5 \n",
      "9 2 \n"
     ]
    }
   ],
   "source": [
    "def printMat(arr, nRows, mCols):\n",
    "    for row in range(nRows):\n",
    "        for col in range(mCols):\n",
    "            print(arr[row][col], end =\" \")\n",
    "        print()\n",
    "            \n",
    "nRows = 3\n",
    "mCols = 2\n",
    "arr = [[6 ,9] ,[8, 5 ],[9, 2] ]\n",
    "printMat(arr, nRows, mCols)"
   ]
  },
  {
   "cell_type": "code",
   "execution_count": 8,
   "metadata": {},
   "outputs": [
    {
     "name": "stdout",
     "output_type": "stream",
     "text": [
      "6 8 9 \n",
      "9 5 2 \n"
     ]
    }
   ],
   "source": [
    "def printMat(arr, nRows, mCols):\n",
    "    for col in range(mCols):\n",
    "        for row in range(nRows):\n",
    "            print(arr[row][col], end =\" \")\n",
    "        print()\n",
    "            \n",
    "nRows = 3\n",
    "mCols = 2\n",
    "arr = [[6 ,9] ,[8, 5 ],[9, 2] ]\n",
    "printMat(arr, nRows, mCols)"
   ]
  },
  {
   "cell_type": "code",
   "execution_count": 6,
   "metadata": {},
   "outputs": [
    {
     "data": {
      "text/plain": [
       "['a', 'b', 'c', 'd', 'e']"
      ]
     },
     "execution_count": 6,
     "metadata": {},
     "output_type": "execute_result"
    }
   ],
   "source": [
    "message = \"abcde\"\n",
    "new_message = \"\"\n",
    "for i in message:\n",
    "    new_message.append(i)\n",
    "new_message\n"
   ]
  },
  {
   "cell_type": "code",
   "execution_count": null,
   "metadata": {},
   "outputs": [
    {
     "ename": "",
     "evalue": "",
     "output_type": "error",
     "traceback": [
      "\u001b[1;31mThe Kernel crashed while executing code in the current cell or a previous cell. \n",
      "\u001b[1;31mPlease review the code in the cell(s) to identify a possible cause of the failure. \n",
      "\u001b[1;31mClick <a href='https://aka.ms/vscodeJupyterKernelCrash'>here</a> for more info. \n",
      "\u001b[1;31mView Jupyter <a href='command:jupyter.viewOutput'>log</a> for further details."
     ]
    }
   ],
   "source": [
    "# str = \"HELLO\"\n",
    "# str.split(\" \").reverse().join('')\n",
    "# str"
   ]
  }
 ],
 "metadata": {
  "kernelspec": {
   "display_name": "Python 3",
   "language": "python",
   "name": "python3"
  },
  "language_info": {
   "codemirror_mode": {
    "name": "ipython",
    "version": 3
   },
   "file_extension": ".py",
   "mimetype": "text/x-python",
   "name": "python",
   "nbconvert_exporter": "python",
   "pygments_lexer": "ipython3",
   "version": "3.10.11"
  }
 },
 "nbformat": 4,
 "nbformat_minor": 2
}
