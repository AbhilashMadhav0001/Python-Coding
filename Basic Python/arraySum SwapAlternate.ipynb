{
 "cells": [
  {
   "cell_type": "markdown",
   "metadata": {},
   "source": [
    "### SMALLEST NUMBER"
   ]
  },
  {
   "cell_type": "code",
   "execution_count": 1,
   "metadata": {},
   "outputs": [
    {
     "name": "stdout",
     "output_type": "stream",
     "text": [
      "5\n"
     ]
    }
   ],
   "source": [
    "def minimum_element(arr, n):\n",
    "    min_value = arr[0]\n",
    "    for i in arr:\n",
    "        min_value = min(i, min_value)\n",
    "    return min_value\n",
    "\n",
    "\n",
    "\t\n",
    "n = int(input())\n",
    "arr = list(map(int, input().split()))\n",
    "print(minimum_element(arr, n))"
   ]
  },
  {
   "cell_type": "markdown",
   "metadata": {},
   "source": [
    "### ARRAY SUM"
   ]
  },
  {
   "cell_type": "code",
   "execution_count": 2,
   "metadata": {},
   "outputs": [
    {
     "name": "stdout",
     "output_type": "stream",
     "text": [
      "5\n"
     ]
    }
   ],
   "source": [
    "def array_sum(arr, n):\n",
    "    sum = 0\n",
    "    for i in arr:\n",
    "       sum = sum + i\n",
    "    return sum \n",
    "\n",
    "n = int(input())\n",
    "arr = list(map(int, input().split()))\n",
    "print(array_sum(arr, n))"
   ]
  },
  {
   "cell_type": "code",
   "execution_count": 3,
   "metadata": {},
   "outputs": [
    {
     "name": "stdout",
     "output_type": "stream",
     "text": [
      "0\n"
     ]
    }
   ],
   "source": [
    "def array_sum(arr, n):\n",
    "    sum = 0\n",
    "    j = 0\n",
    "    for i in arr:\n",
    "        if n > j:\n",
    "            sum = sum + i\n",
    "            j = j + 1\n",
    "    return sum \n",
    "\n",
    "n = int(input())\n",
    "arr = list(map(int, input().split()))\n",
    "print(array_sum(arr, n))"
   ]
  },
  {
   "cell_type": "markdown",
   "metadata": {},
   "source": [
    "### SWAP ALTERNATE"
   ]
  },
  {
   "cell_type": "code",
   "execution_count": 4,
   "metadata": {},
   "outputs": [],
   "source": [
    "\n",
    "def swapAlternate(arr, n) :\n",
    "    #Your code goes here\n",
    "    new_arr = [ ]\n",
    "    for i in range(0, n - 1, 2):\n",
    "        new_arr.append(arr[i + 1])\n",
    "        new_arr.append(arr[i])\n",
    "    return new_arr"
   ]
  },
  {
   "cell_type": "code",
   "execution_count": 5,
   "metadata": {},
   "outputs": [
    {
     "name": "stdout",
     "output_type": "stream",
     "text": [
      "[3, 9, 12, 6, 32, 4, 11, 5]\n"
     ]
    }
   ],
   "source": [
    "arr = [9, 3,6, 12, 4, 32, 5, 11, 19]\n",
    "n = 9\n",
    "new_arr = [ ]\n",
    "for i in range(0, n - 1, 2):\n",
    "    k = arr[i]\n",
    "    k1 = arr[i + 1]\n",
    "    new_arr.append(k1)\n",
    "    temp = k\n",
    "    new_arr.append(temp)\n",
    "print(new_arr)"
   ]
  },
  {
   "cell_type": "code",
   "execution_count": 6,
   "metadata": {},
   "outputs": [],
   "source": [
    "from sys import stdin\n",
    "\n",
    "def swapAlternate(arr, n) :\n",
    "    #Your code goes here\n",
    "    l = len(arr)\n",
    "    i = 0\n",
    "    while i < l-1:\n",
    "        arr[i], arr[i+1] = arr[i+1], arr[i]\n",
    "        i += 2 \n",
    "    return arr\n",
    "         \n",
    "\n",
    "#Taking Input Using Fast I/O\n",
    "def takeInput() :\n",
    "    n = int(stdin.readline().rstrip())\n",
    "\n",
    "    if n == 0 :\n",
    "        return list(), 0\n",
    "\n",
    "    arr = list(map(int, stdin.readline().rstrip().split(\" \")))\n",
    "    return arr, n\n",
    "\n",
    "\n",
    "#Printing the array/list\n",
    "def printList(arr) :\n",
    "    for i in range(len(arr)) :\n",
    "        print(arr[i], end = \" \")\n",
    "    print()\n",
    "\n",
    "\n",
    "#main\n",
    "t = int(stdin.readline().rstrip())\n",
    "\n",
    "while t > 0 :\n",
    "    arr, n = takeInput()\n",
    "    if n != 0 :\n",
    "        rslt = swapAlternate(arr, n)\n",
    "        printList(rslt)\n",
    "    t -= 1"
   ]
  },
  {
   "cell_type": "code",
   "execution_count": null,
   "metadata": {},
   "outputs": [
    {
     "name": "stdout",
     "output_type": "stream",
     "text": [
      "1 1\n",
      "1 1\n",
      "3 2\n",
      "2 3\n",
      "5 2\n",
      "2 5\n",
      "[1, 3, 5, 4, 2, 6]\n"
     ]
    }
   ],
   "source": [
    "n = 6\n",
    "arr  = [1, 2, 3, 4, 5, 6]\n",
    "def arrange(arr, n) :\n",
    "    j = 0\n",
    "    for i in range(n):\n",
    "        if arr[i] % 2 != 0:\n",
    "            print(arr[i], arr[j])\n",
    "            arr[i], arr[j] = arr[j], arr[i]\n",
    "            print(arr[i], arr[j])\n",
    "            j += 1\n",
    "\n",
    "    return arr\n",
    "\n",
    "print(arrange(arr, n))"
   ]
  },
  {
   "cell_type": "code",
   "execution_count": null,
   "metadata": {},
   "outputs": [],
   "source": [
    "n = 6\n",
    "arr  = [1, 2, 3, 4, 5, 6]\n",
    "def arrange(arr, n) :\n",
    "    a = 0\n",
    "    b = 1\n",
    "    j = 0\n",
    "    while a < b :\n",
    "        arr[a + 1] = j + 1\n",
    "        arr[b - 1] = j + 1\n",
    "    if n == 1:\n",
    "        arr[a] = j\n",
    "\n",
    "    return arr\n",
    "\n",
    "print(arrange(arr, n))"
   ]
  },
  {
   "cell_type": "markdown",
   "metadata": {},
   "source": [
    "function arrange(arr[], n):\n",
    "    ptrA = 0, ptrB = n - 1, element =1\n",
    "    while (ptrA, ptrB):\n",
    "        arr[ptrA++] = element++;\n",
    "        arr[ptrB--] = element++;\n",
    "    if (n & 1):\n",
    "        arr[ptrA] =element"
   ]
  },
  {
   "cell_type": "code",
   "execution_count": null,
   "metadata": {},
   "outputs": [
    {
     "name": "stdout",
     "output_type": "stream",
     "text": [
      "[1, 3, 5, 7, 9, 12, 10, 8, 6, 4, 2]\n"
     ]
    }
   ],
   "source": [
    "def arrange(arr, n):\n",
    "    \"\"\"\n",
    "    Arranges elements in an alternating pattern within the array `arr[]`.\n",
    "\n",
    "    Args:\n",
    "        arr (list): The input array.\n",
    "        n (int): The size of the array.\n",
    "\n",
    "    Returns:\n",
    "        None\n",
    "\n",
    "    Modifies:\n",
    "        arr: The input array is modified in-place.\n",
    "    \"\"\"\n",
    "    ptrA = 0\n",
    "    ptrB = n - 1\n",
    "    element = 1\n",
    "\n",
    "    # Loop until both pointers meet or go out of bounds\n",
    "    while ptrA <= ptrB:\n",
    "        arr[ptrA] = element  # Assign the current element to arr[ptrA]\n",
    "        element += 1  # Increment element for the next assignment\n",
    "        ptrA += 1  # Move ptrA to the right\n",
    "\n",
    "        # Check if ptrA has reached the end of the array\n",
    "        if ptrA >= n:\n",
    "            break\n",
    "        \n",
    "        \n",
    "        arr[ptrB] = element  # Assign the current element to arr[ptrB]\n",
    "        element += 1  # Increment element for the next assignment\n",
    "        ptrB -= 1  # Move ptrB to the left\n",
    "\n",
    "        \n",
    "        # Check if ptrB has reached the beginning of the array\n",
    "        if ptrB < 0:\n",
    "            break\n",
    "        \n",
    "        \n",
    "# Example usage\n",
    "arr = [0] * 11  # Initialize an array of size 8 with 0s\n",
    "arrange(arr, 11)\n",
    "print(arr)  # Output: [1, 3, 5, 7, 2, 4, 6, 8]"
   ]
  },
  {
   "cell_type": "code",
   "execution_count": null,
   "metadata": {},
   "outputs": [
    {
     "data": {
      "text/plain": [
       "5"
      ]
     },
     "execution_count": 100,
     "metadata": {},
     "output_type": "execute_result"
    }
   ],
   "source": [
    "11 // 2"
   ]
  },
  {
   "cell_type": "code",
   "execution_count": null,
   "metadata": {},
   "outputs": [
    {
     "name": "stdout",
     "output_type": "stream",
     "text": [
      "[1, 3, 5, 7, 9, 11, 10, 8, 6, 4, 2]\n"
     ]
    }
   ],
   "source": [
    "def arrange(arr, n):\n",
    "    if n % 2 != 0:\n",
    "        for i in range(n // 2 + 1):\n",
    "            arr[i] = 2 * i + 1  # Odd elements at odd-indexed positions\n",
    "            if i < n // 2:\n",
    "                arr[n - i - 1] = 2 * i + 2  # Even elements at even-indexed positions\n",
    "    else: \n",
    "        for i in range(n // 2):\n",
    "            arr[i] = 2 * i + 1  # Odd elements at odd-indexed positions\n",
    "            arr[n - i - 1] = 2 * i + 2  # Even elements at even-indexed positions\n",
    "# Example usage\n",
    "arr = [0] * 11  # Initialize an array of size 11 with 0s\n",
    "arrange(arr, 11)\n",
    "print(arr)  # Output: [1, 3, 5, 7, 9, 11, 2, 4, 6, 8, 10]"
   ]
  },
  {
   "cell_type": "code",
   "execution_count": null,
   "metadata": {},
   "outputs": [],
   "source": [
    "def arrange(arr, n):\n",
    "    ptrA = 0\n",
    "    ptrB = n - 1\n",
    "    element = 1\n",
    "\n",
    "    while ptrA <= ptrB:\n",
    "        \n",
    "        arr[ptrA] = element\n",
    "        print(\"a = \", ptrA)\n",
    "        print(\"arra\",arr[ptrA])  \n",
    "        print()\n",
    "        \n",
    "        element += 1 \n",
    "        ptrA += 1  \n",
    "\n",
    "        print(\"elementa =\",element)\n",
    "        print()\n",
    "        \n",
    "        if ptrA > n:\n",
    "            break\n",
    "        \n",
    "        arr[ptrB] = element \n",
    "        print(\"b = \", ptrB)\n",
    "        print(\"arrb\",arr[ptrB])\n",
    "        print()\n",
    "        \n",
    "        element += 1  \n",
    "        ptrB -= 1  \n",
    "        \n",
    "        print(\"elementb =\",element)\n",
    "        print()\n",
    "        \n",
    "        \n",
    "        if ptrB < 0:\n",
    "            break\n",
    "        \n",
    "\n",
    "arr = [0] * 11\n",
    "arrange(arr , 11)\n",
    "print(arr)"
   ]
  },
  {
   "cell_type": "code",
   "execution_count": null,
   "metadata": {},
   "outputs": [
    {
     "name": "stdout",
     "output_type": "stream",
     "text": [
      "a =  0\n",
      "arra 1\n",
      "\n",
      "elementa = 2\n",
      "\n",
      "b =  4\n",
      "arrb 2\n",
      "\n",
      "elementb = 3\n",
      "\n",
      "a =  1\n",
      "arra 3\n",
      "\n",
      "elementa = 4\n",
      "\n",
      "b =  3\n",
      "arrb 4\n",
      "\n",
      "elementb = 5\n",
      "\n",
      "a =  2\n",
      "arra 5\n",
      "\n",
      "elementa = 6\n",
      "\n",
      "b =  2\n",
      "arrb 6\n",
      "\n",
      "elementb = 7\n",
      "\n",
      "[1, 3, 6, 4, 2]\n"
     ]
    }
   ],
   "source": [
    "def arrange(arr, n):\n",
    "    ptrA = 0\n",
    "    ptrB = n - 1\n",
    "    element = 1\n",
    "\n",
    "    while ptrA <= ptrB:\n",
    "        \n",
    "        arr[ptrA] = element\n",
    "        print(\"a = \", ptrA)\n",
    "        print(\"arra\",arr[ptrA])  \n",
    "        print()\n",
    "        \n",
    "        element += 1 \n",
    "        ptrA += 1  \n",
    "\n",
    "        print(\"elementa =\",element)\n",
    "        print()\n",
    "        \n",
    "        if ptrA > n:\n",
    "            break\n",
    "        \n",
    "        arr[ptrB] = element \n",
    "        print(\"b = \", ptrB)\n",
    "        print(\"arrb\",arr[ptrB])\n",
    "        print()\n",
    "        \n",
    "        element += 1  \n",
    "        ptrB -= 1  \n",
    "        \n",
    "        print(\"elementb =\",element)\n",
    "        print()\n",
    "        \n",
    "        \n",
    "        if ptrB < 0:\n",
    "            break\n",
    "        \n",
    "\n",
    "arr = [0] * 5\n",
    "arrange(arr , 5)\n",
    "print(arr)"
   ]
  }
 ],
 "metadata": {
  "kernelspec": {
   "display_name": "Python 3",
   "language": "python",
   "name": "python3"
  },
  "language_info": {
   "codemirror_mode": {
    "name": "ipython",
    "version": 3
   },
   "file_extension": ".py",
   "mimetype": "text/x-python",
   "name": "python",
   "nbconvert_exporter": "python",
   "pygments_lexer": "ipython3",
   "version": "3.10.11"
  }
 },
 "nbformat": 4,
 "nbformat_minor": 2
}
