{
 "cells": [
  {
   "cell_type": "markdown",
   "metadata": {},
   "source": [
    "# 2D ARRAY/LISTS"
   ]
  },
  {
   "cell_type": "markdown",
   "metadata": {},
   "source": [
    "### Row Wise Transversal"
   ]
  },
  {
   "cell_type": "code",
   "execution_count": 9,
   "metadata": {},
   "outputs": [
    {
     "name": "stdout",
     "output_type": "stream",
     "text": [
      "1 2 3 4 5 6 "
     ]
    }
   ],
   "source": [
    "def printRowWise(A ):\n",
    "    for row in A:\n",
    "        for element in row:\n",
    "            print(element, end = \" \")\n",
    "\n",
    "A = [ [1, 2, 3], [4, 5, 6] ]\n",
    "printRowWise(A)"
   ]
  },
  {
   "cell_type": "code",
   "execution_count": 11,
   "metadata": {},
   "outputs": [
    {
     "data": {
      "text/plain": [
       "[1, 2, 3, 4, 5, 6]"
      ]
     },
     "execution_count": 11,
     "metadata": {},
     "output_type": "execute_result"
    }
   ],
   "source": [
    "def printRowWise(A ):\n",
    "        newlst = []\n",
    "        for row in A:\n",
    "            for element in row:\n",
    "                newlst.append(element)\n",
    "        return newlst\n",
    "    \n",
    "A = [ [1, 2, 3], [4, 5, 6] ]\n",
    "printRowWise(A)"
   ]
  },
  {
   "cell_type": "markdown",
   "metadata": {},
   "source": [
    "### Column Wise Transversal"
   ]
  },
  {
   "cell_type": "code",
   "execution_count": 14,
   "metadata": {},
   "outputs": [
    {
     "name": "stdout",
     "output_type": "stream",
     "text": [
      "1\n",
      "4\n",
      "2\n",
      "5\n",
      "3\n",
      "6\n"
     ]
    }
   ],
   "source": [
    "def printColWise(A):\n",
    "    for col in range(len(A[0])):\n",
    "        for row in range(len(A)):\n",
    "            print(A[row][col])\n",
    "\n",
    "\n",
    "A = [ [1, 2, 3], [4, 5, 6] ]\n",
    "printColWise(A)"
   ]
  }
 ],
 "metadata": {
  "kernelspec": {
   "display_name": "Python 3",
   "language": "python",
   "name": "python3"
  },
  "language_info": {
   "codemirror_mode": {
    "name": "ipython",
    "version": 3
   },
   "file_extension": ".py",
   "mimetype": "text/x-python",
   "name": "python",
   "nbconvert_exporter": "python",
   "pygments_lexer": "ipython3",
   "version": "3.10.11"
  }
 },
 "nbformat": 4,
 "nbformat_minor": 2
}
