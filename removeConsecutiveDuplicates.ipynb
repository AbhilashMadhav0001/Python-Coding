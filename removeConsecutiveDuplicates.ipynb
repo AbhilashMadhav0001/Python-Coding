{
 "cells": [
  {
   "cell_type": "markdown",
   "metadata": {},
   "source": [
    "### REMOVE CONSECUTIVE DUPLICATES"
   ]
  },
  {
   "cell_type": "code",
   "execution_count": 6,
   "metadata": {},
   "outputs": [
    {
     "name": "stdout",
     "output_type": "stream",
     "text": [
      "abcbaa\n"
     ]
    }
   ],
   "source": [
    "def removeConsecutiveDuplicates(string) :\n",
    "    i = 0\n",
    "    k = len(string)\n",
    "    while i < k:\n",
    "        j = i + 1\n",
    "        if string[i] == string[j]:\n",
    "            string = string.replace(string[j],\"\", 1)\n",
    "        k = k - 1\n",
    "        i = i + 1\n",
    "    print(string)\n",
    "\n",
    "\n",
    "\n",
    "string = \"aabccbaa\"\n",
    "removeConsecutiveDuplicates(string)"
   ]
  },
  {
   "cell_type": "code",
   "execution_count": 6,
   "metadata": {},
   "outputs": [
    {
     "data": {
      "text/plain": [
       "'abccbaa'"
      ]
     },
     "execution_count": 6,
     "metadata": {},
     "output_type": "execute_result"
    }
   ],
   "source": [
    "string = \"aabccbaa\"\n",
    "\n",
    "string.replace(\"a\", \"\", 1)"
   ]
  }
 ],
 "metadata": {
  "kernelspec": {
   "display_name": "Python 3",
   "language": "python",
   "name": "python3"
  },
  "language_info": {
   "codemirror_mode": {
    "name": "ipython",
    "version": 3
   },
   "file_extension": ".py",
   "mimetype": "text/x-python",
   "name": "python",
   "nbconvert_exporter": "python",
   "pygments_lexer": "ipython3",
   "version": "3.10.11"
  }
 },
 "nbformat": 4,
 "nbformat_minor": 2
}
