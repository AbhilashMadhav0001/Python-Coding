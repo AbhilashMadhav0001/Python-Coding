{
 "cells": [
  {
   "cell_type": "code",
   "execution_count": 1,
   "metadata": {},
   "outputs": [
    {
     "data": {
      "text/plain": [
       "[1, 2, 5, 6, 8]"
      ]
     },
     "execution_count": 1,
     "metadata": {},
     "output_type": "execute_result"
    }
   ],
   "source": [
    "def selectionSort(arr):\n",
    "    # Write your code here\n",
    "    n = len(arr)\n",
    "    i = 0\n",
    "    temp = 0\n",
    "    while i <= n -1:\n",
    "        j = i + 1\n",
    "        while j <= n - 1:\n",
    "            if arr[i] > arr[j]:\n",
    "                temp = arr[j] \n",
    "                arr[j] =arr[i]\n",
    "                arr[i] = temp \n",
    "            j = j + 1\n",
    "        i = i +1\n",
    "    return arr\n",
    "                \n",
    "arr = [8, 6, 2, 5, 1]\n",
    "selectionSort(arr)"
   ]
  },
  {
   "cell_type": "code",
   "execution_count": 2,
   "metadata": {},
   "outputs": [
    {
     "data": {
      "text/plain": [
       "[1, 2, 8, 5, 6]"
      ]
     },
     "execution_count": 2,
     "metadata": {},
     "output_type": "execute_result"
    }
   ],
   "source": [
    "def selectionSort(arr, n):\n",
    "    for i in range(n):\n",
    "        minimum = arr[i]\n",
    "        loc = i\n",
    "        for j in range(i + 1, n):\n",
    "            if arr[j] < minimum:\n",
    "                minimum = arr[j]\n",
    "                loc = j\n",
    "            arr[i] , arr[loc] = arr[loc], arr[i]\n",
    "    return arr\n",
    "\n",
    "\n",
    "\n",
    "arr = [8, 6, 2, 5, 1]\n",
    "n = 5\n",
    "selectionSort(arr, n)"
   ]
  },
  {
   "cell_type": "code",
   "execution_count": 3,
   "metadata": {},
   "outputs": [
    {
     "data": {
      "text/plain": [
       "[0, 2, 3, 6, 9]"
      ]
     },
     "execution_count": 3,
     "metadata": {},
     "output_type": "execute_result"
    }
   ],
   "source": [
    "def selectionSort(arr, n) :\n",
    "    #Your code goes here\n",
    "    for i in range(n):\n",
    "        small = arr[i]\n",
    "        loc = i\n",
    "        for j in range(i+1, n):\n",
    "            if arr[j] < small:\n",
    "                small = arr[j]\n",
    "                loc = j\n",
    "        arr[i], arr[loc] = arr[loc], arr[i]\n",
    "\n",
    "    return arr\n",
    "\n",
    "# arr = [8, 6, 2, 5, 1]\n",
    "arr = [9, 3, 6, 2, 0]\n",
    "\n",
    "n = 5\n",
    "selectionSort(arr, n)"
   ]
  },
  {
   "cell_type": "code",
   "execution_count": 4,
   "metadata": {},
   "outputs": [
    {
     "data": {
      "text/plain": [
       "[0, 2, 3, 6, 9]"
      ]
     },
     "execution_count": 4,
     "metadata": {},
     "output_type": "execute_result"
    }
   ],
   "source": [
    "\n",
    "def selectionSort(array, n):\n",
    "    for i in range(n):\n",
    "        min_index = i\n",
    "        for j in range(i + 1, n):\n",
    "            if array[j] < array[min_index]:\n",
    "                min_index = j\n",
    "        (array[i], array[min_index]) = (array[min_index], array[i])\n",
    "        \n",
    "    return arr\n",
    "        \n",
    "        \n",
    "arr = [9, 3, 6, 2, 0]\n",
    "n = 5\n",
    "selectionSort(arr, n)"
   ]
  }
 ],
 "metadata": {
  "kernelspec": {
   "display_name": "Python 3",
   "language": "python",
   "name": "python3"
  },
  "language_info": {
   "codemirror_mode": {
    "name": "ipython",
    "version": 3
   },
   "file_extension": ".py",
   "mimetype": "text/x-python",
   "name": "python",
   "nbconvert_exporter": "python",
   "pygments_lexer": "ipython3",
   "version": "3.10.11"
  }
 },
 "nbformat": 4,
 "nbformat_minor": 2
}
