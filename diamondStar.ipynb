{
 "cells": [
  {
   "cell_type": "code",
   "execution_count": 1,
   "metadata": {},
   "outputs": [
    {
     "name": "stdout",
     "output_type": "stream",
     "text": [
      "..*\n",
      ".***\n",
      "*****\n",
      ".***\n",
      "..*\n"
     ]
    }
   ],
   "source": [
    "n = 5\n",
    "for i in range(1, n + 1, 2):\n",
    "    for s in range(i, n, 2):\n",
    "        print(\".\", end=\"\")\n",
    "    for j in range(i):\n",
    "        print(\"*\", end=\"\")\n",
    "    print() \n",
    "for i in range( n - 2 , 0, -2):\n",
    "    for s in range(i , n, 2):\n",
    "        print(\".\", end=\"\")\n",
    "    for j in range(i):\n",
    "        print(\"*\", end=\"\" )\n",
    "    print() "
   ]
  },
  {
   "cell_type": "code",
   "execution_count": 2,
   "metadata": {},
   "outputs": [
    {
     "name": "stdout",
     "output_type": "stream",
     "text": [
      ".***\n",
      "..*\n"
     ]
    }
   ],
   "source": [
    "n = 5\n",
    "for i in range( n -2 , 0, -2):\n",
    "    for s in range(i , n, 2):\n",
    "        print(\".\", end=\"\")\n",
    "    for j in range(i):\n",
    "        print(\"*\", end=\"\" )\n",
    "    print() "
   ]
  },
  {
   "cell_type": "code",
   "execution_count": 3,
   "metadata": {},
   "outputs": [
    {
     "name": "stdout",
     "output_type": "stream",
     "text": [
      "..*\n",
      ".***\n",
      ".**\n"
     ]
    }
   ],
   "source": [
    "n = 4\n",
    "for i in range(1, n + 1, 2):\n",
    "    for s in range(i, n, 2):\n",
    "        print(\".\", end=\"\")\n",
    "    for j in range(i):\n",
    "        print(\"*\", end=\"\")\n",
    "    print() \n",
    "for i in range( n - 2 , 0, -2):\n",
    "    for s in range(i , n, 2):\n",
    "        print(\".\", end=\"\")\n",
    "    for j in range(i):\n",
    "        print(\"*\", end=\"\" )\n",
    "    print() "
   ]
  }
 ],
 "metadata": {
  "kernelspec": {
   "display_name": "Python 3",
   "language": "python",
   "name": "python3"
  },
  "language_info": {
   "codemirror_mode": {
    "name": "ipython",
    "version": 3
   },
   "file_extension": ".py",
   "mimetype": "text/x-python",
   "name": "python",
   "nbconvert_exporter": "python",
   "pygments_lexer": "ipython3",
   "version": "3.10.11"
  }
 },
 "nbformat": 4,
 "nbformat_minor": 2
}
