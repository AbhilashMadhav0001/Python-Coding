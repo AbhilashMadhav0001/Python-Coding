{
 "cells": [
  {
   "cell_type": "markdown",
   "metadata": {},
   "source": [
    "### REVERSE EACH WORD"
   ]
  },
  {
   "cell_type": "markdown",
   "metadata": {},
   "source": [
    "\"olleH I ma lidaA\""
   ]
  },
  {
   "cell_type": "code",
   "execution_count": 23,
   "metadata": {},
   "outputs": [
    {
     "data": {
      "text/plain": [
       "'olleH I ma lidaA '"
      ]
     },
     "execution_count": 23,
     "metadata": {},
     "output_type": "execute_result"
    }
   ],
   "source": [
    "def reverseEachWord(string) :\n",
    "    string = string.split()\n",
    "    newstr = \"\"\n",
    "    for i in range(len(string)):\n",
    "        string[i] = string[i][::-1]\n",
    "        newstr += string[i] + \" \"\n",
    "    return newstr\n",
    "\n",
    "string= \"Hello I am Aadil\"\n",
    "reverseEachWord(string)"
   ]
  },
  {
   "cell_type": "code",
   "execution_count": 1,
   "metadata": {},
   "outputs": [
    {
     "data": {
      "text/plain": [
       "'lidaA ma I olleH'"
      ]
     },
     "execution_count": 1,
     "metadata": {},
     "output_type": "execute_result"
    }
   ],
   "source": [
    "def reverseEachWord(string) :\n",
    "    reverse = string[::-1]\n",
    "    return reverse\n",
    "\n",
    "string= \"Hello I am Aadil\"\n",
    "reverseEachWord(string)\n"
   ]
  },
  {
   "cell_type": "code",
   "execution_count": 6,
   "metadata": {},
   "outputs": [
    {
     "data": {
      "text/plain": [
       "'lidaA ma I olleH'"
      ]
     },
     "execution_count": 6,
     "metadata": {},
     "output_type": "execute_result"
    }
   ],
   "source": [
    "def reverseEachWord(string) :\n",
    "    newstr = \"\"\n",
    "    for i in range(len(string)- 1, -1 , -1):\n",
    "        newstr += string[i]\n",
    "    return newstr\n",
    "\n",
    "string= \"Hello I am Aadil\"\n",
    "reverseEachWord(string)"
   ]
  },
  {
   "cell_type": "code",
   "execution_count": 1,
   "metadata": {},
   "outputs": [
    {
     "name": "stdout",
     "output_type": "stream",
     "text": [
      "0\n",
      "1\n",
      "2\n",
      "3\n"
     ]
    }
   ],
   "source": [
    "string= \"Hello I am Aadil\"\n",
    "string = string.split()\n",
    "newstr = \"\"\n",
    "for i in range(len(string)):\n",
    "    print(i)\n"
   ]
  },
  {
   "cell_type": "code",
   "execution_count": 17,
   "metadata": {},
   "outputs": [
    {
     "name": "stdout",
     "output_type": "stream",
     "text": [
      "['Hello', 'I', 'am', 'Aadil']\n"
     ]
    },
    {
     "data": {
      "text/plain": [
       "'Hello'"
      ]
     },
     "execution_count": 17,
     "metadata": {},
     "output_type": "execute_result"
    }
   ],
   "source": [
    "newstr = \"\"\n",
    "string= \"Hello I am Aadil\"\n",
    "newstr = string.split()\n",
    "print(newstr)\n",
    "newstr[0]"
   ]
  },
  {
   "cell_type": "code",
   "execution_count": 11,
   "metadata": {},
   "outputs": [
    {
     "data": {
      "text/plain": [
       "['o', 'l', 'l', 'e', 'h']"
      ]
     },
     "execution_count": 11,
     "metadata": {},
     "output_type": "execute_result"
    }
   ],
   "source": [
    "def reverseString(s):\n",
    "    i = 0\n",
    "    j = -1\n",
    "    news = s.copy()\n",
    "    while i < len(s):\n",
    "        s[j] = news[i]\n",
    "        i = i + 1\n",
    "        j = j - 1\n",
    "    return s\n",
    "\n",
    "s = [\"h\",\"e\",\"l\",\"l\",\"o\"]\n",
    "reverseString(s)"
   ]
  }
 ],
 "metadata": {
  "kernelspec": {
   "display_name": "Python 3",
   "language": "python",
   "name": "python3"
  },
  "language_info": {
   "codemirror_mode": {
    "name": "ipython",
    "version": 3
   },
   "file_extension": ".py",
   "mimetype": "text/x-python",
   "name": "python",
   "nbconvert_exporter": "python",
   "pygments_lexer": "ipython3",
   "version": "3.10.11"
  }
 },
 "nbformat": 4,
 "nbformat_minor": 2
}
