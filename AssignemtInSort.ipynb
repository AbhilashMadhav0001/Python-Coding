{
 "cells": [
  {
   "cell_type": "markdown",
   "metadata": {},
   "source": [
    "### PUSH ZEROS TO END"
   ]
  },
  {
   "cell_type": "code",
   "execution_count": 1,
   "metadata": {},
   "outputs": [
    {
     "data": {
      "text/plain": [
       "[2, 1, 3, 0, 0, 0, 0]"
      ]
     },
     "execution_count": 1,
     "metadata": {},
     "output_type": "execute_result"
    }
   ],
   "source": [
    "def pushZerosAtEnd(arr, n) :\n",
    "    for i in range(n):\n",
    "        for j in range(i + 1, n):\n",
    "            if arr[i] == 0:\n",
    "                arr[i], arr[j] = arr[j] , arr[i]\n",
    "    return arr\n",
    "\n",
    "n = 7\n",
    "arr = [2, 0, 0, 1, 3, 0, 0]\n",
    "pushZerosAtEnd(arr, n)"
   ]
  },
  {
   "cell_type": "code",
   "execution_count": 13,
   "metadata": {},
   "outputs": [
    {
     "data": {
      "text/plain": [
       "[2, 1, 3, 0, 0, 0, 0]"
      ]
     },
     "execution_count": 13,
     "metadata": {},
     "output_type": "execute_result"
    }
   ],
   "source": [
    "def pushZerosAtEnd(arr, n) :\n",
    "    j = 0\n",
    "    for i in range(n):\n",
    "        if arr[i] != 0:\n",
    "            arr[i], arr[j] = arr[j], arr[i]\n",
    "            j = j + 1\n",
    "    return arr\n",
    "\n",
    "n = 7\n",
    "arr = [2, 0, 0, 1, 3, 0, 0]\n",
    "pushZerosAtEnd(arr, n)"
   ]
  }
 ],
 "metadata": {
  "kernelspec": {
   "display_name": "Python 3",
   "language": "python",
   "name": "python3"
  },
  "language_info": {
   "codemirror_mode": {
    "name": "ipython",
    "version": 3
   },
   "file_extension": ".py",
   "mimetype": "text/x-python",
   "name": "python",
   "nbconvert_exporter": "python",
   "pygments_lexer": "ipython3",
   "version": "3.10.11"
  }
 },
 "nbformat": 4,
 "nbformat_minor": 2
}
