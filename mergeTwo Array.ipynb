{
 "cells": [
  {
   "cell_type": "code",
   "execution_count": 48,
   "metadata": {},
   "outputs": [
    {
     "data": {
      "text/plain": [
       "[1, 2, 3, 4, 4, 6, 7, 11, 13]"
      ]
     },
     "execution_count": 48,
     "metadata": {},
     "output_type": "execute_result"
    }
   ],
   "source": [
    "def merge(arr1, n, arr2, m) :\n",
    "    arr3 = []\n",
    "    i = 0\n",
    "    j = 0\n",
    "    while i < n and j < m:\n",
    "        if arr1[i] < arr2[j]:\n",
    "            arr3.append(arr1[i])\n",
    "            i = i + 1\n",
    "        elif arr1[i] > arr2[j] or arr1[i] == arr2[j]:\n",
    "            arr3.append(arr2[j])\n",
    "            j = j + 1\n",
    "    while i < n:\n",
    "        arr3.append(arr1[i])\n",
    "        i = i + 1\n",
    "    while j < m:    \n",
    "        arr3.append(arr2[j])\n",
    "        j = j + 1\n",
    "        \n",
    "    return arr3\n",
    "\n",
    "n = 5\n",
    "arr1 = [1, 3, 4, 7, 11]\n",
    "m = 4\n",
    "arr2 = [2, 4, 6, 13]\n",
    "merge(arr1, n, arr2, m)"
   ]
  },
  {
   "cell_type": "code",
   "execution_count": 49,
   "metadata": {},
   "outputs": [
    {
     "data": {
      "text/plain": [
       "[1, 2, 3, 4, 4, 6, 7, 11, 13]"
      ]
     },
     "execution_count": 49,
     "metadata": {},
     "output_type": "execute_result"
    }
   ],
   "source": [
    "def merge(arr1, n, arr2, m) :\n",
    "    arr3 = []\n",
    "    i = 0\n",
    "    j = 0\n",
    "    while i < n and j < m:\n",
    "        if arr1[i] < arr2[j]:\n",
    "            arr3.append(arr1[i])\n",
    "            i = i + 1\n",
    "        else:\n",
    "            arr3.append(arr2[j])\n",
    "            j = j + 1\n",
    "    while i < n:\n",
    "        arr3.append(arr1[i])\n",
    "        i = i + 1\n",
    "    while j < m:    \n",
    "        arr3.append(arr2[j])\n",
    "        j = j + 1\n",
    "        \n",
    "    return arr3\n",
    "\n",
    "n = 5\n",
    "arr1 = [1, 3, 4, 7, 11]\n",
    "m = 4\n",
    "arr2 = [2, 4, 6, 13]\n",
    "merge(arr1, n, arr2, m)"
   ]
  }
 ],
 "metadata": {
  "kernelspec": {
   "display_name": "Python 3",
   "language": "python",
   "name": "python3"
  },
  "language_info": {
   "codemirror_mode": {
    "name": "ipython",
    "version": 3
   },
   "file_extension": ".py",
   "mimetype": "text/x-python",
   "name": "python",
   "nbconvert_exporter": "python",
   "pygments_lexer": "ipython3",
   "version": "3.10.11"
  }
 },
 "nbformat": 4,
 "nbformat_minor": 2
}
