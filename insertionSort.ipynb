{
 "cells": [
  {
   "cell_type": "markdown",
   "metadata": {},
   "source": [
    "### insertionSort"
   ]
  },
  {
   "cell_type": "code",
   "execution_count": 5,
   "metadata": {},
   "outputs": [
    {
     "name": "stdout",
     "output_type": "stream",
     "text": [
      "13 4\n",
      "13 1\n",
      "13 3\n",
      "13 6\n"
     ]
    },
    {
     "data": {
      "text/plain": [
       "[2, 4, 1, 3, 6, 13, 28]"
      ]
     },
     "execution_count": 5,
     "metadata": {},
     "output_type": "execute_result"
    }
   ],
   "source": [
    "def insertionSort(arr):\n",
    "    for i in range(1, len(arr)):\n",
    "        for j in range(i -1, 0, -1):\n",
    "            if arr[j] > arr[i]:\n",
    "                    arr[j], arr[j+1] = arr[j+1], arr[j]\n",
    "                    print(arr[i], arr[j])\n",
    "    return arr\n",
    "arr = [2, 13, 4, 1, 3, 6, 28]\n",
    "insertionSort(arr)"
   ]
  },
  {
   "cell_type": "code",
   "execution_count": 36,
   "metadata": {},
   "outputs": [
    {
     "name": "stdout",
     "output_type": "stream",
     "text": [
      "13 4\n",
      "13 1\n",
      "13 3\n",
      "13 6\n",
      "4 1\n",
      "4 3\n"
     ]
    },
    {
     "data": {
      "text/plain": [
       "[2, 1, 3, 4, 6, 13, 28]"
      ]
     },
     "execution_count": 36,
     "metadata": {},
     "output_type": "execute_result"
    }
   ],
   "source": [
    "def insertionSort(arr):\n",
    "    for k in range(len(arr) + 1):\n",
    "        for i in range(1, len(arr)):\n",
    "            for j in range(i - 1, 0, -1):\n",
    "                if arr[j] > arr[i]:\n",
    "                        arr[i], arr[j] = arr[j], arr[i]\n",
    "                        print(arr[i], arr[j])\n",
    "                        \n",
    "    return arr\n",
    "arr = [2, 13, 4, 1, 3, 6, 28]\n",
    "insertionSort(arr)"
   ]
  },
  {
   "cell_type": "code",
   "execution_count": 8,
   "metadata": {},
   "outputs": [
    {
     "data": {
      "text/plain": [
       "[1, 2, 3, 4, 6, 13, 28]"
      ]
     },
     "execution_count": 8,
     "metadata": {},
     "output_type": "execute_result"
    }
   ],
   "source": [
    "def insertionSort(arr):\n",
    "    n =len(arr)\n",
    "    for i in range(1, n):\n",
    "        j = i - 1\n",
    "        temp = arr[i]\n",
    "        while ( j >= 0 and arr[j]>temp):\n",
    "            arr[j + 1] = arr[j]\n",
    "            j = j - 1\n",
    "        arr[j + 1] =temp\n",
    "    return arr\n",
    "\n",
    "arr = [2, 13, 4, 1, 3, 6, 28]\n",
    "insertionSort(arr)"
   ]
  }
 ],
 "metadata": {
  "kernelspec": {
   "display_name": "Python 3",
   "language": "python",
   "name": "python3"
  },
  "language_info": {
   "codemirror_mode": {
    "name": "ipython",
    "version": 3
   },
   "file_extension": ".py",
   "mimetype": "text/x-python",
   "name": "python",
   "nbconvert_exporter": "python",
   "pygments_lexer": "ipython3",
   "version": "3.10.11"
  }
 },
 "nbformat": 4,
 "nbformat_minor": 2
}
