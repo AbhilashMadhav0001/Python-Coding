{
 "cells": [
  {
   "cell_type": "markdown",
   "metadata": {},
   "source": [
    "### ROTATE ARRAY"
   ]
  },
  {
   "cell_type": "code",
   "execution_count": 16,
   "metadata": {},
   "outputs": [
    {
     "data": {
      "text/plain": [
       "[12, 17, 1, 3, 6, 11]"
      ]
     },
     "execution_count": 16,
     "metadata": {},
     "output_type": "execute_result"
    }
   ],
   "source": [
    "def rotate(arr, n, d):\n",
    "    arr1= arr.copy()\n",
    "    for i in range(n):\n",
    "        loc = (i - d)\n",
    "        arr1[loc] = arr[i] \n",
    "    return arr1\n",
    "        \n",
    "n = 6\n",
    "arr = [1, 3, 6, 11, 12, 17]\n",
    "d =4 \n",
    "rotate(arr, n, d)"
   ]
  },
  {
   "cell_type": "markdown",
   "metadata": {},
   "source": [
    "### CHECK ARRAY ROTATION"
   ]
  },
  {
   "cell_type": "code",
   "execution_count": 20,
   "metadata": {},
   "outputs": [
    {
     "data": {
      "text/plain": [
       "2"
      ]
     },
     "execution_count": 20,
     "metadata": {},
     "output_type": "execute_result"
    }
   ],
   "source": [
    "def arrayRotateCheck(arr, n):\n",
    "    for i in range(n):\n",
    "        for j in range(i + 1, n):\n",
    "            if arr[i] < arr[j]:\n",
    "                return j + 1\n",
    "            else:\n",
    "                return 0\n",
    "n = 6\n",
    "arr = [12, 17, 1, 3, 6, 11]\n",
    "arrayRotateCheck(arr, n)"
   ]
  },
  {
   "cell_type": "code",
   "execution_count": 32,
   "metadata": {},
   "outputs": [
    {
     "data": {
      "text/plain": [
       "2"
      ]
     },
     "execution_count": 32,
     "metadata": {},
     "output_type": "execute_result"
    }
   ],
   "source": [
    "def arrayRotateCheck(arr, n): \n",
    "    loc = 0\n",
    "    for i in range(n):\n",
    "        for j in range(i + 1, n):\n",
    "            if arr[i] > arr[j]:\n",
    "                loc = j\n",
    "                break\n",
    "    return loc\n",
    "\n",
    "n = 6\n",
    "arr = [12, 17, 1, 3, 6, 11]\n",
    "arrayRotateCheck(arr, n)"
   ]
  },
  {
   "cell_type": "code",
   "execution_count": 35,
   "metadata": {},
   "outputs": [
    {
     "data": {
      "text/plain": [
       "2"
      ]
     },
     "execution_count": 35,
     "metadata": {},
     "output_type": "execute_result"
    }
   ],
   "source": [
    "def arrayRotateCheck(arr, n): \n",
    "    loc = 0\n",
    "    for i in range(n - 1):\n",
    "        if arr[i] > arr[i +1]:\n",
    "            loc = i + 1\n",
    "    return loc\n",
    "    \n",
    "n = 6\n",
    "arr = [12, 17, 1, 3, 6, 11]\n",
    "arrayRotateCheck(arr, n)"
   ]
  }
 ],
 "metadata": {
  "kernelspec": {
   "display_name": "Python 3",
   "language": "python",
   "name": "python3"
  },
  "language_info": {
   "codemirror_mode": {
    "name": "ipython",
    "version": 3
   },
   "file_extension": ".py",
   "mimetype": "text/x-python",
   "name": "python",
   "nbconvert_exporter": "python",
   "pygments_lexer": "ipython3",
   "version": "3.10.11"
  }
 },
 "nbformat": 4,
 "nbformat_minor": 2
}
