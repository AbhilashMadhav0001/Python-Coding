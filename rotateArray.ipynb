{
 "cells": [
  {
   "cell_type": "code",
   "execution_count": null,
   "metadata": {},
   "outputs": [],
   "source": [
    "def rotate(arr, n, d):\n",
    "    for i in range(n):\n",
    "        \n",
    "        \n",
    "n = 7\n",
    "arr = [1, 2, 3, 4, 5, 6, 7]\n",
    "d = 2\n",
    "rotate(arr, n, d)"
   ]
  }
 ],
 "metadata": {
  "kernelspec": {
   "display_name": "Python 3",
   "language": "python",
   "name": "python3"
  },
  "language_info": {
   "name": "python",
   "version": "3.10.11"
  }
 },
 "nbformat": 4,
 "nbformat_minor": 2
}
