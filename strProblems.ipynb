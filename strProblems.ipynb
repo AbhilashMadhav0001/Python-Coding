{
 "cells": [
  {
   "cell_type": "markdown",
   "metadata": {},
   "source": [
    "# STRING PROBLEMS"
   ]
  },
  {
   "cell_type": "markdown",
   "metadata": {},
   "source": [
    "### Convert String"
   ]
  },
  {
   "cell_type": "markdown",
   "metadata": {},
   "source": [
    "Problem statement\n",
    "You are given a string 'STR'. You have to convert the first alphabet of each word in a string to UPPER CASE.\n",
    "\n",
    "For example:\n",
    "\n",
    "If the given string 'STR' = ”I am a student of the third year” so you have to transform this string to ”I Am A Student Of The Third Year\"\n",
    "Note:\n",
    "\n",
    "'STR' will contains only space and alphabets both uppercase and lowercase. The words will be separated by space."
   ]
  },
  {
   "cell_type": "code",
   "execution_count": 1,
   "metadata": {},
   "outputs": [
    {
     "data": {
      "text/plain": [
       "'I Love Programming'"
      ]
     },
     "execution_count": 1,
     "metadata": {},
     "output_type": "execute_result"
    }
   ],
   "source": [
    "def convertString(str):\n",
    "        newstr = \"\"\n",
    "        newstr = str[0].upper()\n",
    "        for i in range(1, len(str)):\n",
    "            if str[i - 1] == \" \" :\n",
    "                newstr += str[i].upper()\n",
    "            \n",
    "            else:\n",
    "                newstr += str[i]\n",
    "        return newstr\n",
    "    \n",
    "str = \"I love programming\"\n",
    "convertString(str)"
   ]
  },
  {
   "cell_type": "markdown",
   "metadata": {},
   "source": [
    "### Add Strings"
   ]
  },
  {
   "cell_type": "markdown",
   "metadata": {},
   "source": [
    "Problem statement\n",
    "You are given two non-negative integers, ‘NUM1’ and ‘NUM2’, in the form of strings. Print the sum of both the strings.\n",
    "\n",
    "Note:\n",
    "\n",
    "1. Do not convert the strings to integers directly.\n",
    "\n",
    "Example:\n",
    "\n",
    "Let ‘NUM1’ be: “5”\n",
    "\n",
    "Let ‘NUM2’ be: “21”\n",
    "\n",
    "The sum of both numbers will be: “26”."
   ]
  },
  {
   "cell_type": "code",
   "execution_count": 3,
   "metadata": {},
   "outputs": [
    {
     "data": {
      "text/plain": [
       "'521'"
      ]
     },
     "execution_count": 3,
     "metadata": {},
     "output_type": "execute_result"
    }
   ],
   "source": [
    "def stringSum(num1, num2):\n",
    "    sum = num1 +  num2\n",
    "    return sum\n",
    "    \n",
    "    \n",
    "num1 = \"5\"\n",
    "num2 = \"21\"\n",
    "stringSum(num1, num2)"
   ]
  },
  {
   "cell_type": "markdown",
   "metadata": {},
   "source": [
    "### Split Concatenated String"
   ]
  },
  {
   "cell_type": "markdown",
   "metadata": {},
   "source": [
    "Problem statement\n",
    "\n",
    "You are given ‘N’ strings. You could concatenate these strings into one where for each string you could reverse it or not. Among all the possible strings you need to find a lexicographically largest string by cutting and making one point in any part of the string which will make the looped string into a regular one starting from the breakpoint character.\n",
    "\n",
    "String x = x1x2... x|x| is lexicographically larger than string y = y1y2... y|y|, if either |x| > |y| and x1 = y1, x2 = y2, ..., x|y| = y|y|, or exists such number r (r < |x|, r < |y|), that x1 = y1, x2 = y2, ..., xr = yr and xr + 1 > yr + 1."
   ]
  },
  {
   "cell_type": "code",
   "execution_count": 14,
   "metadata": {},
   "outputs": [
    {
     "name": "stdout",
     "output_type": "stream",
     "text": [
      "ef\n",
      "h\n"
     ]
    }
   ],
   "source": [
    "def solve(arr):\n",
    "  \"\"\"\n",
    "  Finds the lexicographically largest string formed by concatenating and possibly reversing N strings.\n",
    "\n",
    "  Args:\n",
    "      arr: A list of strings.\n",
    "\n",
    "  Returns:\n",
    "      The lexicographically largest string.\n",
    "  \"\"\"\n",
    "  n = len(arr)\n",
    "  result = \"\"\n",
    "  for i in range(n):\n",
    "    # Reverse the current string\n",
    "    s = arr[i][::-1]\n",
    "    # Check if the reversed string is a prefix of the current result\n",
    "    if result == \"\" or s[:len(result)] == result:\n",
    "      # Append the remaining characters of the original string\n",
    "      result += arr[i][len(result):]\n",
    "    else:\n",
    "      # Find the breakpoint character (first mismatch)\n",
    "      j = 0\n",
    "      while j < min(len(s), len(result)) and s[j] == result[j]:\n",
    "        j += 1\n",
    "      # Concatenate the remaining characters for the largest string\n",
    "      result = s[:j] + arr[i][j:]\n",
    "  return result\n",
    "\n",
    "# Test cases\n",
    "arr = [\"ab\", \"cd\", \"ef\"]\n",
    "print(solve(arr))  # Output: ffedcba\n",
    "\n",
    "arr = [\"cba\", \"egd\", \"h\"]\n",
    "print(solve(arr))  # Output: hdegcba\n"
   ]
  }
 ],
 "metadata": {
  "kernelspec": {
   "display_name": "Python 3",
   "language": "python",
   "name": "python3"
  },
  "language_info": {
   "codemirror_mode": {
    "name": "ipython",
    "version": 3
   },
   "file_extension": ".py",
   "mimetype": "text/x-python",
   "name": "python",
   "nbconvert_exporter": "python",
   "pygments_lexer": "ipython3",
   "version": "3.10.11"
  }
 },
 "nbformat": 4,
 "nbformat_minor": 2
}
