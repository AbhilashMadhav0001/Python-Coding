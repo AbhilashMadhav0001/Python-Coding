{
 "cells": [
  {
   "cell_type": "code",
   "execution_count": 51,
   "metadata": {},
   "outputs": [
    {
     "name": "stdout",
     "output_type": "stream",
     "text": [
      " *\n",
      "  **\n",
      "   ***\n",
      "    ****\n"
     ]
    }
   ],
   "source": [
    "n = 4\n",
    "i = 1\n",
    "while i <= n:\n",
    "    #part 1\n",
    "    s = 1\n",
    "    while s <= i :\n",
    "        print(\" \", end= \"\")\n",
    "        s = s  + 1\n",
    "    j = 1\n",
    "    while j <=  i  :\n",
    "        print(\"*\", end = \"\")\n",
    "        j = j + 1\n",
    "        \n",
    "    \n",
    "    print()\n",
    "    i = i + 1"
   ]
  },
  {
   "cell_type": "code",
   "execution_count": 49,
   "metadata": {},
   "outputs": [
    {
     "name": "stdout",
     "output_type": "stream",
     "text": [
      "    ****\n",
      "   ***\n",
      "  **\n",
      " *\n"
     ]
    }
   ],
   "source": [
    "n = 4\n",
    "i = 1\n",
    "while i <= n:\n",
    "    #part 2\n",
    "    s = 1\n",
    "    while s <= n -  i + 1:\n",
    "        print(\" \", end= \"\")\n",
    "        s = s  + 1\n",
    "    j = 1\n",
    "    while j <=  n - i  + 1:\n",
    "        print(\"*\", end = \"\")\n",
    "        j = j + 1\n",
    " \n",
    "    print()\n",
    "    i = i + 1"
   ]
  },
  {
   "cell_type": "code",
   "execution_count": 73,
   "metadata": {},
   "outputs": [
    {
     "name": "stdout",
     "output_type": "stream",
     "text": [
      " *\n",
      "  **\n",
      "   ***\n",
      "    ****\n",
      "   ***\n",
      "  **\n",
      " *\n"
     ]
    }
   ],
   "source": [
    "n = int(input())\n",
    "n1 = n // 2 + 1\n",
    "i = 1\n",
    "while i <= n1:\n",
    "    #part 1\n",
    "    s = 1\n",
    "    while s <= i :\n",
    "        print(\" \", end= \"\")\n",
    "        s = s  + 1\n",
    "    j = 1\n",
    "    while j <=  i  :\n",
    "        print(\"*\", end = \"\")\n",
    "        j = j + 1\n",
    "    print()\n",
    "    i = i + 1\n",
    "    \n",
    "    #part 2\n",
    "n2 = (n // 2) \n",
    "i = 1\n",
    "while i <= n2 :    \n",
    "    s = 1\n",
    "    while s <= n2 -  i + 1:\n",
    "        print(\" \", end= \"\")\n",
    "        s = s  + 1\n",
    "    j = 1\n",
    "    while j <=  n2 - i  + 1:\n",
    "        print(\"*\", end = \"\")\n",
    "        j = j + 1\n",
    "        \n",
    "    print()\n",
    "    i = i + 1"
   ]
  }
 ],
 "metadata": {
  "kernelspec": {
   "display_name": "Python 3",
   "language": "python",
   "name": "python3"
  },
  "language_info": {
   "codemirror_mode": {
    "name": "ipython",
    "version": 3
   },
   "file_extension": ".py",
   "mimetype": "text/x-python",
   "name": "python",
   "nbconvert_exporter": "python",
   "pygments_lexer": "ipython3",
   "version": "3.10.11"
  }
 },
 "nbformat": 4,
 "nbformat_minor": 2
}
