{
 "cells": [
  {
   "cell_type": "code",
   "execution_count": 14,
   "metadata": {},
   "outputs": [
    {
     "data": {
      "text/plain": [
       "[13, 4, 1, 3, 6, 28]"
      ]
     },
     "execution_count": 14,
     "metadata": {},
     "output_type": "execute_result"
    }
   ],
   "source": [
    "def bubbleSort(arr, n):\n",
    "    i = 0\n",
    "    while i >= n - 1 :\n",
    "        j = i + 1\n",
    "        while j > i:\n",
    "            if arr[i] > arr[j]:\n",
    "                arr[i] , arr[j] = arr[j] , arr[i]\n",
    "            i = i + 1\n",
    "    return arr\n",
    "\n",
    "\n",
    "n = 6\n",
    "arr = [ 13, 4, 1, 3, 6, 28]\n",
    "bubbleSort(arr, n)"
   ]
  },
  {
   "cell_type": "code",
   "execution_count": 26,
   "metadata": {},
   "outputs": [
    {
     "data": {
      "text/plain": [
       "[1, 2, 3, 4, 6, 13, 28]"
      ]
     },
     "execution_count": 26,
     "metadata": {},
     "output_type": "execute_result"
    }
   ],
   "source": [
    "def bubbleSort(arr, n):\n",
    "    for k in range(n):\n",
    "        for i in range(n - 1):\n",
    "            for j in range(i +1, i + 2):\n",
    "                if arr[i] > arr[j]:\n",
    "                    arr[i] , arr[j] = arr[j] , arr[i]\n",
    "    return arr\n",
    "\n",
    "n = 7\n",
    "arr = [2, 13, 4, 1, 3, 6, 28]\n",
    "# arr = [ 8, 5, 3, 1]\n",
    "bubbleSort(arr, n)"
   ]
  },
  {
   "cell_type": "code",
   "execution_count": 31,
   "metadata": {},
   "outputs": [
    {
     "data": {
      "text/plain": [
       "[1, 2, 3, 4, 6, 13, 28]"
      ]
     },
     "execution_count": 31,
     "metadata": {},
     "output_type": "execute_result"
    }
   ],
   "source": [
    "def bubbleSort(arr):\n",
    "    for i in range(len(arr)):\n",
    "            for j in range(len(arr) - 1):\n",
    "                if arr[j] > arr[j + 1]:\n",
    "                    arr[j], arr[j+1] = arr[j+1], arr[j]\n",
    "    return arr\n",
    "\n",
    "\n",
    "arr = [2, 13, 4, 1, 3, 6, 28]\n",
    "bubbleSort(arr)"
   ]
  },
  {
   "cell_type": "code",
   "execution_count": 28,
   "metadata": {},
   "outputs": [
    {
     "data": {
      "text/plain": [
       "[1, 2, 3, 4, 6, 13, 28]"
      ]
     },
     "execution_count": 28,
     "metadata": {},
     "output_type": "execute_result"
    }
   ],
   "source": [
    "def bubbleSort(arr, n):\n",
    "    for i in range(n):\n",
    "            for p in range(n-i-1):\n",
    "                if arr[p+1] < arr[p]:\n",
    "                    arr[p], arr[p+1] = arr[p+1], arr[p]\n",
    "    return arr\n",
    "                    \n",
    "n = 7\n",
    "arr = [2, 13, 4, 1, 3, 6, 28]\n",
    "# arr = [ 8, 5, 3, 1]\n",
    "bubbleSort(arr, n)"
   ]
  }
 ],
 "metadata": {
  "kernelspec": {
   "display_name": "Python 3",
   "language": "python",
   "name": "python3"
  },
  "language_info": {
   "codemirror_mode": {
    "name": "ipython",
    "version": 3
   },
   "file_extension": ".py",
   "mimetype": "text/x-python",
   "name": "python",
   "nbconvert_exporter": "python",
   "pygments_lexer": "ipython3",
   "version": "3.10.11"
  }
 },
 "nbformat": 4,
 "nbformat_minor": 2
}
