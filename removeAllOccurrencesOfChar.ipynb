{
 "cells": [
  {
   "cell_type": "markdown",
   "metadata": {},
   "source": [
    "### Remove All Occurrences Of Character"
   ]
  },
  {
   "cell_type": "code",
   "execution_count": 5,
   "metadata": {},
   "outputs": [
    {
     "data": {
      "text/plain": [
       "'bccb'"
      ]
     },
     "execution_count": 5,
     "metadata": {},
     "output_type": "execute_result"
    }
   ],
   "source": [
    "def removeAllOccurrencesOfChar(string, ch) :\n",
    "    for i in string:\n",
    "        if i == ch:\n",
    "            string = string.replace(i,\"\")\n",
    "    return string\n",
    "\n",
    "string = \"aabccbaa\"\n",
    "ch = \"a\"\n",
    "removeAllOccurrencesOfChar(string, ch)"
   ]
  },
  {
   "cell_type": "code",
   "execution_count": 1,
   "metadata": {},
   "outputs": [
    {
     "data": {
      "text/plain": [
       "' bccb'"
      ]
     },
     "execution_count": 1,
     "metadata": {},
     "output_type": "execute_result"
    }
   ],
   "source": [
    "def removeAllOccurrencesOfChar(string, ch) :\n",
    "    newstr = \"\"\n",
    "    for char in string:\n",
    "        if (char == ch):\n",
    "            continue\n",
    "        else:\n",
    "            newstr += char\n",
    "    return newstr\n",
    "\n",
    "\n",
    "string = \"aabccbaa\"\n",
    "ch = \"a\"\n",
    "removeAllOccurrencesOfChar(string, ch)"
   ]
  }
 ],
 "metadata": {
  "kernelspec": {
   "display_name": "Python 3",
   "language": "python",
   "name": "python3"
  },
  "language_info": {
   "codemirror_mode": {
    "name": "ipython",
    "version": 3
   },
   "file_extension": ".py",
   "mimetype": "text/x-python",
   "name": "python",
   "nbconvert_exporter": "python",
   "pygments_lexer": "ipython3",
   "version": "3.10.11"
  }
 },
 "nbformat": 4,
 "nbformat_minor": 2
}
