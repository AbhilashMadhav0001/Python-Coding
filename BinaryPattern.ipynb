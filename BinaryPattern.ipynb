{
 "cells": [
  {
   "cell_type": "markdown",
   "metadata": {},
   "source": [
    "### Binary Pattern"
   ]
  },
  {
   "cell_type": "markdown",
   "metadata": {},
   "source": [
    "1111\n",
    "000\n",
    "11\n",
    "0"
   ]
  },
  {
   "cell_type": "code",
   "execution_count": 82,
   "metadata": {},
   "outputs": [
    {
     "name": "stdout",
     "output_type": "stream",
     "text": [
      "11111\n",
      "0000\n",
      "111\n",
      "00\n",
      "1\n"
     ]
    }
   ],
   "source": [
    "n = 5\n",
    "for i in range(n , 0, -1):\n",
    "    for j in range(1 ,i + 1 , 1):\n",
    "        if n % 2 == 0:\n",
    "            if(i % 2 == 0):\n",
    "                print(1, end ='')\n",
    "            else:\n",
    "                print(0, end ='')\n",
    "            \n",
    "        else:\n",
    "            if(i % 2 != 0):\n",
    "                print(1, end ='')  \n",
    "            else:\n",
    "                print(0, end ='')\n",
    "            \n",
    "    print()"
   ]
  },
  {
   "cell_type": "code",
   "execution_count": 72,
   "metadata": {},
   "outputs": [
    {
     "name": "stdout",
     "output_type": "stream",
     "text": [
      "    1\n",
      "   232\n",
      "  34543\n",
      " 4567654\n",
      "567898765\n"
     ]
    }
   ],
   "source": [
    "n= int(input())\n",
    "for i in range(1, n + 1, 1):\n",
    "    for s in range(n - i):\n",
    "        print(\" \", end=\"\")\n",
    "    for j in range(i , 2 * i, 1):\n",
    "        print(j,end=\"\")\n",
    "    for j in range(2 * i -2, i - 1, -1):\n",
    "        print(j, end=\"\")\n",
    "    print()"
   ]
  },
  {
   "cell_type": "code",
   "execution_count": 73,
   "metadata": {},
   "outputs": [
    {
     "name": "stdout",
     "output_type": "stream",
     "text": [
      "4\n",
      "33\n",
      "222\n",
      "1111\n"
     ]
    }
   ],
   "source": [
    "n = 4\n",
    "for i in range(n , 0, -1):\n",
    "    for j in range(i , n + 1, 1):\n",
    "        print(i, end=\"\")\n",
    "    print()"
   ]
  },
  {
   "cell_type": "code",
   "execution_count": 74,
   "metadata": {},
   "outputs": [
    {
     "name": "stdout",
     "output_type": "stream",
     "text": [
      "4444\n",
      "333\n",
      "22\n",
      "1\n"
     ]
    }
   ],
   "source": [
    "n = 4\n",
    "for i in range(n , 0, -1):\n",
    "    for j in range(1 ,i + 1 , 1):\n",
    "        print(i, end=\"\")\n",
    "    print()"
   ]
  },
  {
   "cell_type": "code",
   "execution_count": 65,
   "metadata": {},
   "outputs": [
    {
     "name": "stdout",
     "output_type": "stream",
     "text": [
      "5 Odd\n",
      "4 Even\n",
      "3 Odd\n",
      "2 Even\n",
      "1 Odd\n"
     ]
    }
   ],
   "source": [
    "n = 5\n",
    "for i in range(n, 0 , -1):\n",
    "    if i % 2 == 0:\n",
    "        print(i,\"Even\")\n",
    "    else:\n",
    "        print(i,\"Odd\")"
   ]
  },
  {
   "cell_type": "code",
   "execution_count": 75,
   "metadata": {},
   "outputs": [
    {
     "name": "stdout",
     "output_type": "stream",
     "text": [
      "0000\n",
      "111\n",
      "00\n",
      "1\n"
     ]
    }
   ],
   "source": [
    "\n",
    "n = 4\n",
    "for i in range(n , 0, -1):\n",
    "    for j in range(1 ,i + 1 , 1):\n",
    "        if(i % 2 != 0):\n",
    "            print('1', end ='')\n",
    "            \n",
    "        else:\n",
    "            print('0', end ='')\n",
    "    print()"
   ]
  },
  {
   "cell_type": "code",
   "execution_count": 76,
   "metadata": {},
   "outputs": [
    {
     "name": "stdout",
     "output_type": "stream",
     "text": [
      "1111\n",
      "111\n",
      "11\n",
      "1\n"
     ]
    }
   ],
   "source": [
    "n = 4\n",
    "for i in range(n , 0, -1):\n",
    "    for j in range(1 , i + 1, 1):\n",
    "        print(1, end=\"\")\n",
    "    print()"
   ]
  },
  {
   "cell_type": "code",
   "execution_count": 77,
   "metadata": {},
   "outputs": [
    {
     "name": "stdout",
     "output_type": "stream",
     "text": [
      "1111\n",
      "111\n",
      "11\n",
      "1\n"
     ]
    }
   ],
   "source": [
    "N = 4\n",
    "i = 1\n",
    "while i <= N :\n",
    "    j = 1\n",
    "    while j <= (N - i + 1):\n",
    "        print(1 , end=\"\")\n",
    "        j = j + 1\n",
    "    print()\n",
    "    i = i + 1"
   ]
  }
 ],
 "metadata": {
  "kernelspec": {
   "display_name": "Python 3",
   "language": "python",
   "name": "python3"
  },
  "language_info": {
   "codemirror_mode": {
    "name": "ipython",
    "version": 3
   },
   "file_extension": ".py",
   "mimetype": "text/x-python",
   "name": "python",
   "nbconvert_exporter": "python",
   "pygments_lexer": "ipython3",
   "version": "3.10.11"
  }
 },
 "nbformat": 4,
 "nbformat_minor": 2
}
