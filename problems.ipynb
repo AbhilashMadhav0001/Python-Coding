{
 "cells": [
  {
   "cell_type": "markdown",
   "metadata": {},
   "source": [
    "# DAILY PROBLEMS"
   ]
  },
  {
   "cell_type": "markdown",
   "metadata": {},
   "source": [
    "### FIND INTEGER\n",
    "\n",
    "You are given two integers, ‘N’ and ‘K’. Assume numbers from 1 to ‘N’ are arranged such that all odd numbers (in ascending order) are present first and then come to all even numbers (also in ascending order).\n",
    "\n",
    "You need to find the integer at position ‘K’ (numbering of positions starts from 1).\n",
    "\n",
    "For example:\n",
    "You are given ‘N’ as 7 and ‘K’ as 4.  Numbers from 1 to 7 are arranged as [1, 3, 5, 7, 2, 4, 6], and the number at position 4 is 7. So, the answer is 7."
   ]
  },
  {
   "cell_type": "code",
   "execution_count": 57,
   "metadata": {},
   "outputs": [
    {
     "data": {
      "text/plain": [
       "5"
      ]
     },
     "execution_count": 57,
     "metadata": {},
     "output_type": "execute_result"
    }
   ],
   "source": [
    "def findInteger(N, K):\n",
    "  odd_numbers = (N + 1) // 2  \n",
    "\n",
    "  if K <= odd_numbers:\n",
    "    return (2 * K) - 1\n",
    "\n",
    "  else:\n",
    "    return 2 * (K - odd_numbers)\n",
    "\n",
    "\n",
    "N = 7\n",
    "K = 3\n",
    "findInteger(N, K)\n"
   ]
  },
  {
   "cell_type": "code",
   "execution_count": 16,
   "metadata": {},
   "outputs": [
    {
     "name": "stdout",
     "output_type": "stream",
     "text": [
      "[1, 3, 5, 7, 2, 4, 6]\n"
     ]
    },
    {
     "data": {
      "text/plain": [
       "7"
      ]
     },
     "execution_count": 16,
     "metadata": {},
     "output_type": "execute_result"
    }
   ],
   "source": [
    "def findInteger(n, k):\n",
    "    arr = []\n",
    "    for i in range(1, n + 1):\n",
    "        if i % 2 != 0:\n",
    "            arr.append(i)\n",
    "    for i in range(1, n + 1):\n",
    "        if i % 2 == 0:\n",
    "            arr.append(i)\n",
    "    print(arr)\n",
    "    for i in range(1, n + 1):\n",
    "        if k == i :\n",
    "            return arr[i - 1]\n",
    "\n",
    "n = 7\n",
    "k = 4\n",
    "findInteger(n, k)"
   ]
  },
  {
   "cell_type": "markdown",
   "metadata": {},
   "source": [
    "### Sum or Product\n"
   ]
  },
  {
   "cell_type": "markdown",
   "metadata": {},
   "source": [
    "You are given a number ‘N’ and a query ‘Q.’ If ‘Q’ is 1, then you have to return the sum of all integers from 1 to ‘N,’ else if ‘Q’ is equal to 2 then you have to return the product of all integers from 1 to ‘N.’ Since the product can be very large, return it modulo 10 ^ 9 + 7.\n",
    "\n",
    "For example\n",
    "\n",
    "Given ‘N’ = 4, ‘Q’ = 1. \n",
    "Then the answer is 10 because the sum of all integers between 1 and 4 are 1, 2, 3, and 4. Hence 1 + 2 + 3 + 4 is equal to 10."
   ]
  },
  {
   "cell_type": "code",
   "execution_count": 101,
   "metadata": {},
   "outputs": [
    {
     "data": {
      "text/plain": [
       "674358851"
      ]
     },
     "execution_count": 101,
     "metadata": {},
     "output_type": "execute_result"
    }
   ],
   "source": [
    "def sumOrProduct(n, q):\n",
    "    MOD = 10 ** 9 + 7\n",
    "    mul = 1\n",
    "    for i in range(1, n + 1):\n",
    "        if q == 1:\n",
    "            return n * (n + 1) // 2\n",
    "            \n",
    "        else :\n",
    "            mul = (mul * i) % MOD\n",
    "    return mul\n",
    "\n",
    "n = 15\n",
    "q = 2     \n",
    "sumOrProduct(n, q)"
   ]
  },
  {
   "cell_type": "code",
   "execution_count": 102,
   "metadata": {},
   "outputs": [
    {
     "data": {
      "text/plain": [
       "674358851"
      ]
     },
     "execution_count": 102,
     "metadata": {},
     "output_type": "execute_result"
    }
   ],
   "source": [
    "def sumOrProduct(n, q):\n",
    "    mod = 10 ** 9 + 7\n",
    "    sum1 = 0\n",
    "    mul = 1\n",
    "    for i in range(1, n + 1):\n",
    "        if q == 1:\n",
    "            sum1 = sum1 + i \n",
    "        else :\n",
    "            mul = (mul * i) % mod\n",
    "            \n",
    "    if q == 1:\n",
    "        return sum1\n",
    "    else:\n",
    "        return mul\n",
    "n = 15\n",
    "q = 2      \n",
    "sumOrProduct(n, q)\n"
   ]
  },
  {
   "cell_type": "markdown",
   "metadata": {},
   "source": [
    "### Isomorphic Strings"
   ]
  },
  {
   "cell_type": "markdown",
   "metadata": {},
   "source": [
    "Problem statement\n",
    "You have been given two strings, 'str1' and 'str2'.\n",
    "\n",
    "\n",
    "\n",
    "Your task is to return true if the given two strings are isomorphic to each other, else return false.\n",
    "\n",
    "\n",
    "\n",
    "Note :\n",
    "Two strings are isomorphic if a one-to-one mapping is possible for every character of the first string ‘str1’ to every character of the second string ‘str2’ while preserving the order of the characters.\n",
    "\n",
    "All occurrences of every character in the first string ‘str1’ should map to the same character in the second string, ‘str2’.\n",
    "For example :\n",
    "If str1 = “aab” and str2 = “xxy” then the output will be 1. ‘a’ maps to ‘x’ and ‘b’ maps to ‘y’.\n",
    "\n",
    "If str1 = “aab” and str2 = “xyz” then the output will be 0. There are two different characters in 'str1', while there are three different characters in 'str2'. So there won't be one to one mapping between 'str1' and 'str2'."
   ]
  },
  {
   "cell_type": "code",
   "execution_count": 8,
   "metadata": {},
   "outputs": [
    {
     "data": {
      "text/plain": [
       "1"
      ]
     },
     "execution_count": 8,
     "metadata": {},
     "output_type": "execute_result"
    }
   ],
   "source": [
    "def areIsomorphic(str1: str, str2: str) -> bool:\n",
    "    if len(str1) != len(str2):\n",
    "        return 0\n",
    "    \n",
    "    char_dic = {}\n",
    "\n",
    "    for i in range(len(str1)):\n",
    "        char1 = str1[i]\n",
    "        char2 = str2[i]\n",
    "        \n",
    "        if char1 not in char_dic:\n",
    "            if char2  in char_dic.values():\n",
    "                return 0\n",
    "            char_dic[char1] = char2\n",
    "            \n",
    "        else:\n",
    "            if char_dic[char1] != char2:\n",
    "                return 0\n",
    "    return 1\n",
    "\n",
    "str1 = \"aab\"\n",
    "str2 = \"xxy\"\n",
    "areIsomorphic(str1, str2)"
   ]
  },
  {
   "cell_type": "code",
   "execution_count": null,
   "metadata": {},
   "outputs": [],
   "source": [
    "def is_isomorphic(str1, str2):\n",
    "\n",
    "  # Check if the lengths are equal\n",
    "  if len(str1) != len(str2):\n",
    "    return False\n",
    "\n",
    "  # Create a dictionary to store character mappings\n",
    "  char_map = {}\n",
    "\n",
    "  for i in range(len(str1)):\n",
    "    char1 = str1[i]\n",
    "    char2 = str2[i]\n",
    "\n",
    "    # If char1 is not in the map, add it\n",
    "    if char1 not in char_map:\n",
    "      # Check if char2 is already mapped to a different character\n",
    "      if char2 in char_map.values():\n",
    "        return False\n",
    "      char_map[char1] = char2\n",
    "    # If char1 is already in the map, check if the mapping is consistent\n",
    "    else:\n",
    "      if char_map[char1] != char2:\n",
    "        return False\n",
    "\n",
    "  return True\n",
    "\n",
    "# Example usage\n",
    "str1 = \"aab\"\n",
    "str2 = \"xxy\"\n",
    "print(is_isomorphic(str1, str2))  # Output: True\n",
    "\n",
    "str1 = \"aab\"\n",
    "str2 = \"xyz\"\n",
    "print(is_isomorphic(str1, str2))  # Output: False\n"
   ]
  },
  {
   "cell_type": "markdown",
   "metadata": {},
   "source": [
    "###  Four Divisors"
   ]
  },
  {
   "cell_type": "markdown",
   "metadata": {},
   "source": [
    "Problem statement\n",
    "Ninja was planning to propose to his crush, Nina, with his spectacular martial arts moves. But Nina was more interested in numbers and divisors, so she gave Ninja a challenge to complete. If Ninja solves it, only then she will date him.\n",
    "\n",
    "Nina gave him an array of positive integers, ‘ARR’ and asked him to find the sum of divisors of the integers in ‘ARR’ with exactly four divisors. In case there is no such integer with exactly four divisors, then the answer is 0. Ninja has been struggling for a very long time, so he needs your help to solve the problem."
   ]
  },
  {
   "cell_type": "code",
   "execution_count": 64,
   "metadata": {},
   "outputs": [
    {
     "data": {
      "text/plain": [
       "24"
      ]
     },
     "execution_count": 64,
     "metadata": {},
     "output_type": "execute_result"
    }
   ],
   "source": [
    "def sumFourDivisors(arr, n):\n",
    "    total = 0\n",
    "    for i in range(0,n):\n",
    "        count = 0\n",
    "        sum1 = 0\n",
    "        for j in range(1, arr[i] + 1):\n",
    "            \n",
    "            if arr[i] % j == 0:\n",
    "                count += 1\n",
    "                sum1 = sum1 + j\n",
    "                \n",
    "        if count == 4:\n",
    "            total = total + sum1         \n",
    "    return total\n",
    "                \n",
    "                \n",
    "                \n",
    "n = 6\n",
    "arr = [12, 5, 3, 7, 11, 14]\n",
    "sumFourDivisors(arr, n)"
   ]
  },
  {
   "cell_type": "code",
   "execution_count": 98,
   "metadata": {},
   "outputs": [
    {
     "data": {
      "text/plain": [
       "24"
      ]
     },
     "execution_count": 98,
     "metadata": {},
     "output_type": "execute_result"
    }
   ],
   "source": [
    "def sumFourDivisors( nums):\n",
    "        result = 0\n",
    "        for num in nums:\n",
    "            facs, i = [], 1\n",
    "            while i * i <= num:\n",
    "                \n",
    "                if num % i:\n",
    "                    i += 1\n",
    "                    continue\n",
    "                facs.append(i)\n",
    "                \n",
    "                if i != num//i:\n",
    "                    facs.append(num//i)\n",
    "                    if len(facs) > 4:\n",
    "                        break\n",
    "                i += 1\n",
    "            if len(facs) == 4:            \n",
    "                result += sum(facs)\n",
    "        return result \n",
    "    \n",
    "\n",
    "arr =  [12, 5, 3, 7, 11, 14]\n",
    "sumFourDivisors(arr)"
   ]
  },
  {
   "cell_type": "code",
   "execution_count": 104,
   "metadata": {},
   "outputs": [
    {
     "data": {
      "text/plain": [
       "45"
      ]
     },
     "execution_count": 104,
     "metadata": {},
     "output_type": "execute_result"
    }
   ],
   "source": [
    "\n",
    "def sumFourDivisors(nums):\n",
    "        ans = 0\n",
    "\n",
    "        for num in nums:\n",
    "            divisor = 0\n",
    "            for i in range(2, int((num**0.5)) + 1):\n",
    "                if num % i == 0:\n",
    "                    \n",
    "                    if divisor == 0:\n",
    "                        divisor = i\n",
    "                    else:\n",
    "                        divisor = 0\n",
    "                    break\n",
    "\n",
    "            if divisor > 0 and divisor * divisor < num:\n",
    "                ans += 1 + num + divisor + num // divisor\n",
    "        \n",
    "        return ans\n",
    "        \n",
    "arr = [12, 5, 3, 7, 11, 14]\n",
    "#arr =  [ 2, 5, 6, 15]\n",
    "sumFourDivisors(arr)"
   ]
  },
  {
   "cell_type": "markdown",
   "metadata": {},
   "source": [
    "###  Add Strings"
   ]
  },
  {
   "cell_type": "markdown",
   "metadata": {},
   "source": [
    "Problem statement\n",
    "\n",
    "You are given two non-negative integers, ‘NUM1’ and ‘NUM2’, in the form of strings. Print the sum of both the strings.\n",
    "\n",
    "Note:\n",
    "\n",
    "1. Do not convert the strings to integers directly.\n",
    "\n",
    "Example:\n",
    "Let ‘NUM1’ be: “5”\n",
    "Let ‘NUM2’ be: “21”\n",
    "The sum of both numbers will be: “26”."
   ]
  },
  {
   "cell_type": "code",
   "execution_count": 2,
   "metadata": {},
   "outputs": [
    {
     "data": {
      "text/plain": [
       "'26'"
      ]
     },
     "execution_count": 2,
     "metadata": {},
     "output_type": "execute_result"
    }
   ],
   "source": [
    "def stringSum(num1: str, num2: str) -> str:\n",
    "    num1 = num1[::-1]\n",
    "    num2 = num2[::-1]\n",
    "\n",
    "    carry = 0\n",
    "    result = \"\"\n",
    "\n",
    "    for i in range(max(len(num1), len(num2))):\n",
    "        digit1 = int(num1[i] if i < len(num1) else 0)\n",
    "        digit2 = int(num2[i] if i < len(num2) else 0)\n",
    "        sum_ofdigits = digit1 + digit2 + carry\n",
    "        carry = sum_ofdigits // 10\n",
    "        result += str(sum_ofdigits % 10)\n",
    "\n",
    "    if carry:\n",
    "        result += str(carry)\n",
    "\n",
    "    return result[::-1]\n",
    "\n",
    "\n",
    "num1 = \"5\"\n",
    "num2 = \"21\"\n",
    "stringSum(num1, num2)"
   ]
  },
  {
   "cell_type": "code",
   "execution_count": 1,
   "metadata": {},
   "outputs": [
    {
     "name": "stdout",
     "output_type": "stream",
     "text": [
      "26\n"
     ]
    }
   ],
   "source": [
    "def add_strings(num1, num2):\n",
    "\n",
    "  # Reverse strings for digit-wise addition\n",
    "  num1 = num1[::-1]\n",
    "  num2 = num2[::-1]\n",
    "\n",
    "  # Initialize variables\n",
    "  carry = 0\n",
    "  result = \"\"\n",
    "\n",
    "  # Iterate through digits of both strings (shorter string is padded with zeros)\n",
    "  for i in range(max(len(num1), len(num2))):\n",
    "    digit1 = int(num1[i] if i < len(num1) else 0)\n",
    "    digit2 = int(num2[i] if i < len(num2) else 0)\n",
    "    sum_of_digits = digit1 + digit2 + carry\n",
    "    carry = sum_of_digits // 10\n",
    "    result += str(sum_of_digits % 10)\n",
    "\n",
    "  # Add the remaining carry (if any)\n",
    "  if carry:\n",
    "    result += str(carry)\n",
    "\n",
    "  # Reverse the result string to get the final sum\n",
    "  return result[::-1]\n",
    "\n",
    "# Example usage\n",
    "num1 = \"5\"\n",
    "num2 = \"21\"\n",
    "print(add_strings(num1, num2))  # Output: \"26\"\n"
   ]
  },
  {
   "cell_type": "markdown",
   "metadata": {},
   "source": [
    "### Product of the Last K Numbers"
   ]
  },
  {
   "cell_type": "markdown",
   "metadata": {},
   "source": [
    "Problem statement\n",
    "\n",
    "Given a sequence of queries of insertion and getProduct, you need to create an array using queries of type-0 and answer queries of type-1.\n",
    "\n",
    "In each query, the input is of two types :\n",
    "\n",
    "0 X: insert element ‘X’ at the end array.\n",
    "\n",
    "1 K: find the product of the last 'K' elements in the array\n",
    "\n",
    "Note:\n",
    "\n",
    "For the query of type 1, you can assume that the array has at least k values. And at any time, the product of any contiguous sequence of numbers will fit into a single 32-bit integer without overflowing."
   ]
  },
  {
   "cell_type": "code",
   "execution_count": null,
   "metadata": {},
   "outputs": [],
   "source": [
    "def solve(q,  queries):"
   ]
  }
 ],
 "metadata": {
  "kernelspec": {
   "display_name": "Python 3",
   "language": "python",
   "name": "python3"
  },
  "language_info": {
   "codemirror_mode": {
    "name": "ipython",
    "version": 3
   },
   "file_extension": ".py",
   "mimetype": "text/x-python",
   "name": "python",
   "nbconvert_exporter": "python",
   "pygments_lexer": "ipython3",
   "version": "3.10.11"
  }
 },
 "nbformat": 4,
 "nbformat_minor": 2
}
